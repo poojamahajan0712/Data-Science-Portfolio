{
  "nbformat": 4,
  "nbformat_minor": 0,
  "metadata": {
    "colab": {
      "provenance": [],
      "mount_file_id": "1ApBMqnRyqe8UzASPVBCgPGEUnzH0sl3S",
      "authorship_tag": "ABX9TyNIRVZ9/Q2uc8hnpiL239CU",
      "include_colab_link": true
    },
    "kernelspec": {
      "name": "python3",
      "display_name": "Python 3"
    },
    "language_info": {
      "name": "python"
    }
  },
  "cells": [
    {
      "cell_type": "markdown",
      "metadata": {
        "id": "view-in-github",
        "colab_type": "text"
      },
      "source": [
        "<a href=\"https://colab.research.google.com/github/poojamahajan0712/Data-Science-Portfolio/blob/main/PySpark/Ecommerce_Sales_data_analysis/TransactionData_exploratory_analysis.ipynb\" target=\"_parent\"><img src=\"https://colab.research.google.com/assets/colab-badge.svg\" alt=\"Open In Colab\"/></a>"
      ]
    },
    {
      "cell_type": "code",
      "execution_count": null,
      "metadata": {
        "id": "Ee2z6peUHIV3"
      },
      "outputs": [],
      "source": []
    },
    {
      "cell_type": "code",
      "source": [
        "# from google.colab import drive\n",
        "# drive.mount('/content/drive')"
      ],
      "metadata": {
        "id": "aLDW94fJnokQ"
      },
      "execution_count": 1,
      "outputs": []
    },
    {
      "cell_type": "code",
      "source": [
        "import pyspark\n",
        "from pyspark.sql import SparkSession\n",
        "from pyspark.sql.functions import *\n",
        "from pyspark.sql.types import *"
      ],
      "metadata": {
        "id": "MtNlzxeaRzVB"
      },
      "execution_count": 2,
      "outputs": []
    },
    {
      "cell_type": "code",
      "source": [
        "spark = SparkSession.builder.appName(\"Customer Segmentation\")\\\n",
        "                              .config(\"spark.memory.offHeap.enabled\",\"true\")\\\n",
        "                              .config(\"spark.memory.offHeap.size\",\"10g\").getOrCreate()\n",
        "\n",
        "#Specifies the size of the off-heap memory to 10 gigabytes. This memory is used for caching and computation."
      ],
      "metadata": {
        "id": "9KZ62iCTR0Ks"
      },
      "execution_count": 3,
      "outputs": []
    },
    {
      "cell_type": "code",
      "source": [
        "df = spark.read.csv('/content/drive/MyDrive/AI Projects/Datasets/Amazon Sale Report/online_retail_listing.csv',header=True,sep=';')"
      ],
      "metadata": {
        "id": "RMhQUrMlTmRo"
      },
      "execution_count": 4,
      "outputs": []
    },
    {
      "cell_type": "code",
      "source": [
        "df.show()"
      ],
      "metadata": {
        "colab": {
          "base_uri": "https://localhost:8080/"
        },
        "id": "--Vt7TV0fHiT",
        "outputId": "3f873548-f196-49a3-eaa3-91d9bfb7ad10"
      },
      "execution_count": 5,
      "outputs": [
        {
          "output_type": "stream",
          "name": "stdout",
          "text": [
            "+-------+---------+--------------------+--------+---------------+-----+-----------+--------------+\n",
            "|Invoice|StockCode|         Description|Quantity|    InvoiceDate|Price|Customer ID|       Country|\n",
            "+-------+---------+--------------------+--------+---------------+-----+-----------+--------------+\n",
            "| 489434|    85048|15CM CHRISTMAS GL...|      12|1.12.2009 07:45| 6,95|      13085|United Kingdom|\n",
            "| 489434|   79323P|  PINK CHERRY LIGHTS|      12|1.12.2009 07:45| 6,75|      13085|United Kingdom|\n",
            "| 489434|   79323W| WHITE CHERRY LIGHTS|      12|1.12.2009 07:45| 6,75|      13085|United Kingdom|\n",
            "| 489434|    22041|\"RECORD FRAME 7\"\"...|      48|1.12.2009 07:45|  2,1|      13085|United Kingdom|\n",
            "| 489434|    21232|STRAWBERRY CERAMI...|      24|1.12.2009 07:45| 1,25|      13085|United Kingdom|\n",
            "| 489434|    22064|PINK DOUGHNUT TRI...|      24|1.12.2009 07:45| 1,65|      13085|United Kingdom|\n",
            "| 489434|    21871| SAVE THE PLANET MUG|      24|1.12.2009 07:45| 1,25|      13085|United Kingdom|\n",
            "| 489434|    21523|FANCY FONT HOME S...|      10|1.12.2009 07:45| 5,95|      13085|United Kingdom|\n",
            "| 489435|    22350|           CAT BOWL |      12|1.12.2009 07:46| 2,55|      13085|United Kingdom|\n",
            "| 489435|    22349|DOG BOWL , CHASIN...|      12|1.12.2009 07:46| 3,75|      13085|United Kingdom|\n",
            "| 489435|    22195|HEART MEASURING S...|      24|1.12.2009 07:46| 1,65|      13085|United Kingdom|\n",
            "| 489435|    22353|LUNCHBOX WITH CUT...|      12|1.12.2009 07:46| 2,55|      13085|United Kingdom|\n",
            "| 489436|   48173C|DOOR MAT BLACK FL...|      10|1.12.2009 09:06| 5,95|      13078|United Kingdom|\n",
            "| 489436|    21755|LOVE BUILDING BLO...|      18|1.12.2009 09:06| 5,45|      13078|United Kingdom|\n",
            "| 489436|    21754|HOME BUILDING BLO...|       3|1.12.2009 09:06| 5,95|      13078|United Kingdom|\n",
            "| 489436|    84879|ASSORTED COLOUR B...|      16|1.12.2009 09:06| 1,69|      13078|United Kingdom|\n",
            "| 489436|    22119| PEACE WOODEN BLO...|       3|1.12.2009 09:06| 6,95|      13078|United Kingdom|\n",
            "| 489436|    22142|CHRISTMAS CRAFT W...|      12|1.12.2009 09:06| 1,45|      13078|United Kingdom|\n",
            "| 489436|    22296|HEART IVORY TRELL...|      12|1.12.2009 09:06| 1,65|      13078|United Kingdom|\n",
            "| 489436|    22295|HEART FILIGREE DO...|      12|1.12.2009 09:06| 1,65|      13078|United Kingdom|\n",
            "+-------+---------+--------------------+--------+---------------+-----+-----------+--------------+\n",
            "only showing top 20 rows\n",
            "\n"
          ]
        }
      ]
    },
    {
      "cell_type": "code",
      "source": [
        "df.count(), len(df.columns) ## 1M rows"
      ],
      "metadata": {
        "colab": {
          "base_uri": "https://localhost:8080/"
        },
        "id": "MuPkAHKOUEPf",
        "outputId": "c9d6b22f-1352-4b6a-d7f1-abba29639e81"
      },
      "execution_count": 6,
      "outputs": [
        {
          "output_type": "execute_result",
          "data": {
            "text/plain": [
              "(1048575, 8)"
            ]
          },
          "metadata": {},
          "execution_count": 6
        }
      ]
    },
    {
      "cell_type": "markdown",
      "source": [
        "\n",
        "* customer base\n",
        "* total number of transactions\n",
        "* Items extent in the transaction database"
      ],
      "metadata": {
        "id": "AwmMZ02uLLLF"
      }
    },
    {
      "cell_type": "code",
      "source": [
        "print(\"unique customers\",df.select('Customer ID').distinct().count())\n",
        "print(\"number of transcations\",df.select('Invoice').distinct().count())## 52.9k transactions\n",
        "print(\"unique items \",df.select(\"StockCode\").distinct().count()) ## data is about buying of around 5.3k products."
      ],
      "metadata": {
        "id": "7ROaqfjQYbAU",
        "colab": {
          "base_uri": "https://localhost:8080/"
        },
        "outputId": "190bf999-a5cf-4c09-f977-809f484ce197"
      },
      "execution_count": 7,
      "outputs": [
        {
          "output_type": "stream",
          "name": "stdout",
          "text": [
            "unique customers 5925\n",
            "number of transcations 52961\n",
            "unique items  5304\n"
          ]
        }
      ]
    },
    {
      "cell_type": "markdown",
      "source": [
        "* which countries are purchasing most\n",
        "* how many countries available\n",
        "* average transaction size\n",
        "* average transaction value"
      ],
      "metadata": {
        "id": "Amz4WUCRTZ30"
      }
    },
    {
      "cell_type": "code",
      "source": [
        "df.dtypes"
      ],
      "metadata": {
        "colab": {
          "base_uri": "https://localhost:8080/"
        },
        "id": "jATEWtPHZtKk",
        "outputId": "2d524073-e7e5-4a76-b9cb-fd30f2255e50"
      },
      "execution_count": 8,
      "outputs": [
        {
          "output_type": "execute_result",
          "data": {
            "text/plain": [
              "[('Invoice', 'string'),\n",
              " ('StockCode', 'string'),\n",
              " ('Description', 'string'),\n",
              " ('Quantity', 'string'),\n",
              " ('InvoiceDate', 'string'),\n",
              " ('Price', 'string'),\n",
              " ('Customer ID', 'string'),\n",
              " ('Country', 'string')]"
            ]
          },
          "metadata": {},
          "execution_count": 8
        }
      ]
    },
    {
      "cell_type": "code",
      "source": [
        "df.select('Country').distinct().count()"
      ],
      "metadata": {
        "colab": {
          "base_uri": "https://localhost:8080/"
        },
        "id": "ln1ZFvADLVbL",
        "outputId": "54015a64-05a1-4980-f0b8-23cce314e81c"
      },
      "execution_count": 9,
      "outputs": [
        {
          "output_type": "execute_result",
          "data": {
            "text/plain": [
              "43"
            ]
          },
          "metadata": {},
          "execution_count": 9
        }
      ]
    },
    {
      "cell_type": "code",
      "source": [
        "#90% customers are from UK\n",
        "df.groupby('Country').agg(countDistinct('Customer ID')\\\n",
        "                      .alias('customer_count'))\\\n",
        "                      .orderBy('customer_count',ascending=False)\\\n",
        "                      .show()"
      ],
      "metadata": {
        "colab": {
          "base_uri": "https://localhost:8080/"
        },
        "id": "bvuWXn8tVORy",
        "outputId": "3df81edb-54ff-422c-a26b-eb9668323924"
      },
      "execution_count": 10,
      "outputs": [
        {
          "output_type": "stream",
          "name": "stdout",
          "text": [
            "+---------------+--------------+\n",
            "|        Country|customer_count|\n",
            "+---------------+--------------+\n",
            "| United Kingdom|          5397|\n",
            "|        Germany|           106|\n",
            "|         France|            94|\n",
            "|          Spain|            40|\n",
            "|        Belgium|            29|\n",
            "|       Portugal|            24|\n",
            "|    Netherlands|            23|\n",
            "|    Switzerland|            22|\n",
            "|         Sweden|            19|\n",
            "|          Italy|            17|\n",
            "|        Finland|            15|\n",
            "|      Australia|            15|\n",
            "|Channel Islands|            14|\n",
            "|         Norway|            13|\n",
            "|        Austria|            13|\n",
            "|         Cyprus|            11|\n",
            "|        Denmark|            11|\n",
            "|          Japan|            10|\n",
            "|            USA|             9|\n",
            "|    Unspecified|             7|\n",
            "+---------------+--------------+\n",
            "only showing top 20 rows\n",
            "\n"
          ]
        }
      ]
    },
    {
      "cell_type": "code",
      "source": [
        "df.dtypes"
      ],
      "metadata": {
        "colab": {
          "base_uri": "https://localhost:8080/"
        },
        "id": "VeUSRfIzeGwK",
        "outputId": "ef8433a1-c04e-4cab-9ac2-cb2ad59f15ff"
      },
      "execution_count": 11,
      "outputs": [
        {
          "output_type": "execute_result",
          "data": {
            "text/plain": [
              "[('Invoice', 'string'),\n",
              " ('StockCode', 'string'),\n",
              " ('Description', 'string'),\n",
              " ('Quantity', 'string'),\n",
              " ('InvoiceDate', 'string'),\n",
              " ('Price', 'string'),\n",
              " ('Customer ID', 'string'),\n",
              " ('Country', 'string')]"
            ]
          },
          "metadata": {},
          "execution_count": 11
        }
      ]
    },
    {
      "cell_type": "code",
      "source": [
        "df = df.withColumn('qty',col('Quantity').cast('float'))\n",
        "df.groupby('Invoice').agg(sum('qty')\\\n",
        "                      .alias('basket_size'))\\\n",
        "                      .select(median('basket_size')).show()"
      ],
      "metadata": {
        "colab": {
          "base_uri": "https://localhost:8080/"
        },
        "id": "Hu8GjGlNKUpJ",
        "outputId": "df078449-743f-4433-d5f4-b8ae5a39bef5"
      },
      "execution_count": 12,
      "outputs": [
        {
          "output_type": "stream",
          "name": "stdout",
          "text": [
            "+-------------------+\n",
            "|median(basket_size)|\n",
            "+-------------------+\n",
            "|               93.0|\n",
            "+-------------------+\n",
            "\n"
          ]
        }
      ]
    },
    {
      "cell_type": "code",
      "source": [
        "\n",
        "df = df.withColumn(\"price_edited\",regexp_replace(col('Price'),',','.').cast('float'))\n",
        "df.show(5)"
      ],
      "metadata": {
        "colab": {
          "base_uri": "https://localhost:8080/"
        },
        "id": "Ervi0SuvaNvy",
        "outputId": "588ac874-6b6a-4959-fe3a-1ee1c5f04a04"
      },
      "execution_count": 13,
      "outputs": [
        {
          "output_type": "stream",
          "name": "stdout",
          "text": [
            "+-------+---------+--------------------+--------+---------------+-----+-----------+--------------+----+------------+\n",
            "|Invoice|StockCode|         Description|Quantity|    InvoiceDate|Price|Customer ID|       Country| qty|price_edited|\n",
            "+-------+---------+--------------------+--------+---------------+-----+-----------+--------------+----+------------+\n",
            "| 489434|    85048|15CM CHRISTMAS GL...|      12|1.12.2009 07:45| 6,95|      13085|United Kingdom|12.0|        6.95|\n",
            "| 489434|   79323P|  PINK CHERRY LIGHTS|      12|1.12.2009 07:45| 6,75|      13085|United Kingdom|12.0|        6.75|\n",
            "| 489434|   79323W| WHITE CHERRY LIGHTS|      12|1.12.2009 07:45| 6,75|      13085|United Kingdom|12.0|        6.75|\n",
            "| 489434|    22041|\"RECORD FRAME 7\"\"...|      48|1.12.2009 07:45|  2,1|      13085|United Kingdom|48.0|         2.1|\n",
            "| 489434|    21232|STRAWBERRY CERAMI...|      24|1.12.2009 07:45| 1,25|      13085|United Kingdom|24.0|        1.25|\n",
            "+-------+---------+--------------------+--------+---------------+-----+-----------+--------------+----+------------+\n",
            "only showing top 5 rows\n",
            "\n"
          ]
        }
      ]
    },
    {
      "cell_type": "code",
      "source": [
        "df.dtypes"
      ],
      "metadata": {
        "colab": {
          "base_uri": "https://localhost:8080/"
        },
        "id": "uxifM79DbMRe",
        "outputId": "a4f4faf1-3289-434d-d02d-c61ada7a451b"
      },
      "execution_count": 14,
      "outputs": [
        {
          "output_type": "execute_result",
          "data": {
            "text/plain": [
              "[('Invoice', 'string'),\n",
              " ('StockCode', 'string'),\n",
              " ('Description', 'string'),\n",
              " ('Quantity', 'string'),\n",
              " ('InvoiceDate', 'string'),\n",
              " ('Price', 'string'),\n",
              " ('Customer ID', 'string'),\n",
              " ('Country', 'string'),\n",
              " ('qty', 'float'),\n",
              " ('price_edited', 'float')]"
            ]
          },
          "metadata": {},
          "execution_count": 14
        }
      ]
    },
    {
      "cell_type": "code",
      "source": [
        "df.groupby('Invoice').agg(sum('price_edited')\\\n",
        "                      .alias('avg_ord_val'))\\\n",
        "                      .select(mean('avg_ord_val')).show()"
      ],
      "metadata": {
        "colab": {
          "base_uri": "https://localhost:8080/"
        },
        "id": "4Rj_-HBNKdQa",
        "outputId": "fecdc8b3-632d-45e0-d421-e44e922802b3"
      },
      "execution_count": 15,
      "outputs": [
        {
          "output_type": "stream",
          "name": "stdout",
          "text": [
            "+-----------------+\n",
            "| avg(avg_ord_val)|\n",
            "+-----------------+\n",
            "|91.61683989018914|\n",
            "+-----------------+\n",
            "\n"
          ]
        }
      ]
    },
    {
      "cell_type": "markdown",
      "source": [
        "* rows with negative price, quantity\n",
        "* rows with null customer_id"
      ],
      "metadata": {
        "id": "wnpKnwxWc_AS"
      }
    },
    {
      "cell_type": "code",
      "source": [
        "# rows with negative price\n",
        "df.filter(col('price_edited')<0).show()"
      ],
      "metadata": {
        "colab": {
          "base_uri": "https://localhost:8080/"
        },
        "id": "SoJPMqMXKpJq",
        "outputId": "4bca2fcf-fd3a-47b5-c9b9-1703561c1028"
      },
      "execution_count": 16,
      "outputs": [
        {
          "output_type": "stream",
          "name": "stdout",
          "text": [
            "+-------+---------+---------------+--------+----------------+---------+-----------+--------------+---+------------+\n",
            "|Invoice|StockCode|    Description|Quantity|     InvoiceDate|    Price|Customer ID|       Country|qty|price_edited|\n",
            "+-------+---------+---------------+--------+----------------+---------+-----------+--------------+---+------------+\n",
            "|A506401|        B|Adjust bad debt|       1|29.04.2010 13:36|-53594,36|       NULL|United Kingdom|1.0|   -53594.36|\n",
            "|A516228|        B|Adjust bad debt|       1|19.07.2010 11:24|-44031,79|       NULL|United Kingdom|1.0|   -44031.79|\n",
            "|A528059|        B|Adjust bad debt|       1|20.10.2010 12:04|-38925,87|       NULL|United Kingdom|1.0|   -38925.87|\n",
            "|A563186|        B|Adjust bad debt|       1|12.08.2011 14:51|-11062,06|       NULL|United Kingdom|1.0|   -11062.06|\n",
            "|A563187|        B|Adjust bad debt|       1|12.08.2011 14:52|-11062,06|       NULL|United Kingdom|1.0|   -11062.06|\n",
            "+-------+---------+---------------+--------+----------------+---------+-----------+--------------+---+------------+\n",
            "\n"
          ]
        }
      ]
    },
    {
      "cell_type": "code",
      "source": [
        "print(\"rows with negative quantity\",df.filter(col('qty')<0).count())\n",
        "df.filter(col('qty')<0).show()\n",
        "## all have invoice staring with C"
      ],
      "metadata": {
        "colab": {
          "base_uri": "https://localhost:8080/"
        },
        "id": "dZT_sJ6aeOyv",
        "outputId": "3871ae45-df5a-475a-9d9b-25c3f9340254"
      },
      "execution_count": 17,
      "outputs": [
        {
          "output_type": "stream",
          "name": "stdout",
          "text": [
            "rows with negative quantity 22697\n",
            "+-------+---------+--------------------+--------+---------------+-----+-----------+--------------+-----+------------+\n",
            "|Invoice|StockCode|         Description|Quantity|    InvoiceDate|Price|Customer ID|       Country|  qty|price_edited|\n",
            "+-------+---------+--------------------+--------+---------------+-----+-----------+--------------+-----+------------+\n",
            "|C489449|    22087|PAPER BUNTING WHI...|     -12|1.12.2009 10:33| 2,95|      16321|     Australia|-12.0|        2.95|\n",
            "|C489449|   85206A|CREAM FELT EASTER...|      -6|1.12.2009 10:33| 1,65|      16321|     Australia| -6.0|        1.65|\n",
            "|C489449|    21895|POTTING SHED SOW ...|      -4|1.12.2009 10:33| 4,25|      16321|     Australia| -4.0|        4.25|\n",
            "|C489449|    21896|  POTTING SHED TWINE|      -6|1.12.2009 10:33|  2,1|      16321|     Australia| -6.0|         2.1|\n",
            "|C489449|    22083|PAPER CHAIN KIT R...|     -12|1.12.2009 10:33| 2,95|      16321|     Australia|-12.0|        2.95|\n",
            "|C489449|    21871| SAVE THE PLANET MUG|     -12|1.12.2009 10:33| 1,25|      16321|     Australia|-12.0|        1.25|\n",
            "|C489449|    84946|ANTIQUE SILVER TE...|     -12|1.12.2009 10:33| 1,25|      16321|     Australia|-12.0|        1.25|\n",
            "|C489449|   84970S|HANGING HEART ZIN...|     -24|1.12.2009 10:33| 0,85|      16321|     Australia|-24.0|        0.85|\n",
            "|C489449|    22090|PAPER BUNTING RET...|     -12|1.12.2009 10:33| 2,95|      16321|     Australia|-12.0|        2.95|\n",
            "|C489459|   90200A|PURPLE SWEETHEART...|      -3|1.12.2009 10:44| 4,25|      17592|United Kingdom| -3.0|        4.25|\n",
            "|C489459|   90200D|PINK SWEETHEART B...|      -3|1.12.2009 10:44| 4,25|      17592|United Kingdom| -3.0|        4.25|\n",
            "|C489459|   90200B|BLACK SWEETHEART ...|      -3|1.12.2009 10:44| 4,25|      17592|United Kingdom| -3.0|        4.25|\n",
            "|C489459|   90200E|GREEN SWEETHEART ...|      -3|1.12.2009 10:44| 4,25|      17592|United Kingdom| -3.0|        4.25|\n",
            "|C489459|   90200C|BLUE SWEETHEART B...|      -3|1.12.2009 10:44| 4,25|      17592|United Kingdom| -3.0|        4.25|\n",
            "|C489459|   90185C|BLACK DIAMANTE EX...|      -3|1.12.2009 10:44| 4,25|      17592|United Kingdom| -3.0|        4.25|\n",
            "|C489459|   90185B|AMETHYST DIAMANTE...|      -3|1.12.2009 10:44| 4,25|      17592|United Kingdom| -3.0|        4.25|\n",
            "|C489459|   90003C|MIDNIGHT BLUE PAI...|      -3|1.12.2009 10:44| 3,75|      17592|United Kingdom| -3.0|        3.75|\n",
            "|C489459|   90003D|CRYSTAL PAIR HEAR...|      -3|1.12.2009 10:44| 3,75|      17592|United Kingdom| -3.0|        3.75|\n",
            "|C489459|   90003B|ROSE COLOUR PAIR ...|      -3|1.12.2009 10:44| 3,75|      17592|United Kingdom| -3.0|        3.75|\n",
            "|C489459|   90209C|PINK ENAMEL+GLASS...|      -3|1.12.2009 10:44|  2,1|      17592|United Kingdom| -3.0|         2.1|\n",
            "+-------+---------+--------------------+--------+---------------+-----+-----------+--------------+-----+------------+\n",
            "only showing top 20 rows\n",
            "\n"
          ]
        }
      ]
    },
    {
      "cell_type": "code",
      "source": [
        "df.filter(col('Description')=='Adjust bad debt').count()"
      ],
      "metadata": {
        "colab": {
          "base_uri": "https://localhost:8080/"
        },
        "id": "EmANj4cjbtNj",
        "outputId": "0cf140b9-9fee-4956-8455-d2e972bdc191"
      },
      "execution_count": 18,
      "outputs": [
        {
          "output_type": "execute_result",
          "data": {
            "text/plain": [
              "6"
            ]
          },
          "metadata": {},
          "execution_count": 18
        }
      ]
    },
    {
      "cell_type": "code",
      "source": [
        "# rows with null customer_id\n",
        "print(\"count of rows with null customer id\",df.filter(col('Customer ID').isNull()).count())\n",
        "df.filter(col('Customer ID').isNull()).show()"
      ],
      "metadata": {
        "colab": {
          "base_uri": "https://localhost:8080/"
        },
        "id": "lDVWD1SVcGdE",
        "outputId": "d1ea7911-3a6b-4eae-b011-90dbcd246d5c"
      },
      "execution_count": 19,
      "outputs": [
        {
          "output_type": "stream",
          "name": "stdout",
          "text": [
            "count of rows with null customer id 236682\n",
            "+-------+---------+--------------------+--------+---------------+-----+-----------+--------------+------+------------+\n",
            "|Invoice|StockCode|         Description|Quantity|    InvoiceDate|Price|Customer ID|       Country|   qty|price_edited|\n",
            "+-------+---------+--------------------+--------+---------------+-----+-----------+--------------+------+------------+\n",
            "| 489464|    21733|        85123a mixed|     -96|1.12.2009 10:52|    0|       NULL|United Kingdom| -96.0|         0.0|\n",
            "| 489463|    71477|               short|    -240|1.12.2009 10:52|    0|       NULL|United Kingdom|-240.0|         0.0|\n",
            "| 489467|   85123A|         21733 mixed|    -192|1.12.2009 10:53|    0|       NULL|United Kingdom|-192.0|         0.0|\n",
            "| 489521|    21646|                NULL|     -50|1.12.2009 11:44|    0|       NULL|United Kingdom| -50.0|         0.0|\n",
            "| 489525|   85226C|BLUE PULL BACK RA...|       1|1.12.2009 11:49| 0,55|       NULL|United Kingdom|   1.0|        0.55|\n",
            "| 489525|    85227|SET/6 3D KIT CARD...|       1|1.12.2009 11:49| 0,85|       NULL|United Kingdom|   1.0|        0.85|\n",
            "| 489548|    22271|FELTCRAFT DOLL ROSIE|       1|1.12.2009 12:32| 2,95|       NULL|United Kingdom|   1.0|        2.95|\n",
            "| 489548|    22254|FELT TOADSTOOL LARGE|      12|1.12.2009 12:32| 1,25|       NULL|United Kingdom|  12.0|        1.25|\n",
            "| 489548|    22273|FELTCRAFT DOLL MOLLY|       3|1.12.2009 12:32| 2,95|       NULL|United Kingdom|   3.0|        2.95|\n",
            "| 489548|    22195|LARGE HEART MEASU...|       1|1.12.2009 12:32| 1,65|       NULL|United Kingdom|   1.0|        1.65|\n",
            "| 489548|    22131|FOOD CONTAINER SE...|       2|1.12.2009 12:32| 1,95|       NULL|United Kingdom|   2.0|        1.95|\n",
            "| 489548|    22079|RIBBON REEL HEART...|      10|1.12.2009 12:32| 1,65|       NULL|United Kingdom|  10.0|        1.65|\n",
            "| 489548|    22138|BAKING SET 9 PIEC...|       3|1.12.2009 12:32| 4,95|       NULL|United Kingdom|   3.0|        4.95|\n",
            "| 489548|    22147|FELTCRAFT BUTTERF...|       2|1.12.2009 12:32| 1,45|       NULL|United Kingdom|   2.0|        1.45|\n",
            "| 489548|    22142|CHRISTMAS CRAFT W...|       2|1.12.2009 12:32| 1,45|       NULL|United Kingdom|   2.0|        1.45|\n",
            "| 489548|    22150| 3 STRIPEY MICE F...|       2|1.12.2009 12:32| 1,95|       NULL|United Kingdom|   2.0|        1.95|\n",
            "| 489548|    20804|GLASS CHICKEN BUT...|       1|1.12.2009 12:32| 1,65|       NULL|United Kingdom|   1.0|        1.65|\n",
            "| 489548|    22196|SMALL HEART MEASU...|       8|1.12.2009 12:32| 0,85|       NULL|United Kingdom|   8.0|        0.85|\n",
            "| 489548|    22086|PAPER CHAIN KIT 5...|       3|1.12.2009 12:32| 2,95|       NULL|United Kingdom|   3.0|        2.95|\n",
            "| 489548|    21115|ROSE CARAVAN DOOR...|       1|1.12.2009 12:32| 6,75|       NULL|United Kingdom|   1.0|        6.75|\n",
            "+-------+---------+--------------------+--------+---------------+-----+-----------+--------------+------+------------+\n",
            "only showing top 20 rows\n",
            "\n"
          ]
        }
      ]
    },
    {
      "cell_type": "code",
      "source": [
        "df.filter(col('Invoice').like('C%')).count()"
      ],
      "metadata": {
        "colab": {
          "base_uri": "https://localhost:8080/"
        },
        "id": "vz4jqV1PcSIy",
        "outputId": "97ab80b4-a3f5-4293-feca-8361913b9fca"
      },
      "execution_count": 20,
      "outputs": [
        {
          "output_type": "execute_result",
          "data": {
            "text/plain": [
              "19261"
            ]
          },
          "metadata": {},
          "execution_count": 20
        }
      ]
    },
    {
      "cell_type": "code",
      "source": [
        "df.filter((col('qty')<0) & (~col('Invoice').like('C%'))).show() #3.4k"
      ],
      "metadata": {
        "colab": {
          "base_uri": "https://localhost:8080/"
        },
        "id": "MBrQEAjmdvab",
        "outputId": "e9f74ec8-4b73-4e86-c5ac-0369cba0bb3e"
      },
      "execution_count": 21,
      "outputs": [
        {
          "output_type": "stream",
          "name": "stdout",
          "text": [
            "+-------+---------+---------------+--------+---------------+-----+-----------+--------------+-------+------------+\n",
            "|Invoice|StockCode|    Description|Quantity|    InvoiceDate|Price|Customer ID|       Country|    qty|price_edited|\n",
            "+-------+---------+---------------+--------+---------------+-----+-----------+--------------+-------+------------+\n",
            "| 489464|    21733|   85123a mixed|     -96|1.12.2009 10:52|    0|       NULL|United Kingdom|  -96.0|         0.0|\n",
            "| 489463|    71477|          short|    -240|1.12.2009 10:52|    0|       NULL|United Kingdom| -240.0|         0.0|\n",
            "| 489467|   85123A|    21733 mixed|    -192|1.12.2009 10:53|    0|       NULL|United Kingdom| -192.0|         0.0|\n",
            "| 489521|    21646|           NULL|     -50|1.12.2009 11:44|    0|       NULL|United Kingdom|  -50.0|         0.0|\n",
            "| 489655|    20683|           NULL|     -44|1.12.2009 17:26|    0|       NULL|United Kingdom|  -44.0|         0.0|\n",
            "| 489660|    35956|           lost|   -1043|1.12.2009 17:43|    0|       NULL|United Kingdom|-1043.0|         0.0|\n",
            "| 489663|   35605A|        damages|    -117|1.12.2009 18:02|    0|       NULL|United Kingdom| -117.0|         0.0|\n",
            "| 489806|    18010|           NULL|    -770|2.12.2009 12:42|    0|       NULL|United Kingdom| -770.0|         0.0|\n",
            "| 489820|    21133|invcd as 84879?|    -720|2.12.2009 13:23|    0|       NULL|United Kingdom| -720.0|         0.0|\n",
            "| 489821|   85049G|           NULL|    -240|2.12.2009 13:25|    0|       NULL|United Kingdom| -240.0|         0.0|\n",
            "| 489899|  79323GR|   sold as gold|    -954|3.12.2009 09:41|    0|       NULL|United Kingdom| -954.0|         0.0|\n",
            "| 489901|    21098|           NULL|    -200|3.12.2009 09:47|    0|       NULL|United Kingdom| -200.0|         0.0|\n",
            "| 490007|    84347|          21494|    -720|3.12.2009 12:09|    0|       NULL|United Kingdom| -720.0|         0.0|\n",
            "| 490016|    21982|           NULL|   -1012|3.12.2009 12:30|    0|       NULL|United Kingdom|-1012.0|         0.0|\n",
            "| 490055|    20620|           NULL|     -25|3.12.2009 13:22|    0|       NULL|United Kingdom|  -25.0|         0.0|\n",
            "| 490084|    85064|           NULL|     -89|3.12.2009 15:37|    0|       NULL|United Kingdom|  -89.0|         0.0|\n",
            "| 490130|    21493|          lost?|    -600|3.12.2009 18:28|    0|       NULL|United Kingdom| -600.0|         0.0|\n",
            "| 490146|    21558|           NULL|    -169|4.12.2009 09:29|    0|       NULL|United Kingdom| -169.0|         0.0|\n",
            "| 490165|    21493|           NULL|    -106|4.12.2009 11:32|    0|       NULL|United Kingdom| -106.0|         0.0|\n",
            "| 490354|    21489|           NULL|     -23|4.12.2009 16:39|    0|       NULL|United Kingdom|  -23.0|         0.0|\n",
            "+-------+---------+---------------+--------+---------------+-----+-----------+--------------+-------+------------+\n",
            "only showing top 20 rows\n",
            "\n"
          ]
        }
      ]
    },
    {
      "cell_type": "code",
      "source": [],
      "metadata": {
        "id": "dIZTKMVKieT9"
      },
      "execution_count": 21,
      "outputs": []
    },
    {
      "cell_type": "markdown",
      "source": [
        "* Min date, max date\n"
      ],
      "metadata": {
        "id": "KJ13_q09ifTP"
      }
    },
    {
      "cell_type": "code",
      "source": [
        "spark.sql(\"set spark.sql.legacy.timeParserPolicy=LEGACY\")#- need to set this , otherwise throws error\n",
        "df = df.withColumn('date',to_timestamp(col('InvoiceDate'),\"dd.MM.yyyy HH:mm\"))"
      ],
      "metadata": {
        "id": "GTecppv9g6Tl"
      },
      "execution_count": 22,
      "outputs": []
    },
    {
      "cell_type": "code",
      "source": [
        "df.select(min('date')).show(), df.select(max('date')).show()"
      ],
      "metadata": {
        "colab": {
          "base_uri": "https://localhost:8080/"
        },
        "id": "PrHnHJy6fIpr",
        "outputId": "366189f9-efcb-46d4-b158-9bac8df16e7a"
      },
      "execution_count": 23,
      "outputs": [
        {
          "output_type": "stream",
          "name": "stdout",
          "text": [
            "+-------------------+\n",
            "|          min(date)|\n",
            "+-------------------+\n",
            "|2009-12-01 07:45:00|\n",
            "+-------------------+\n",
            "\n",
            "+-------------------+\n",
            "|          max(date)|\n",
            "+-------------------+\n",
            "|2011-12-04 13:15:00|\n",
            "+-------------------+\n",
            "\n"
          ]
        },
        {
          "output_type": "execute_result",
          "data": {
            "text/plain": [
              "(None, None)"
            ]
          },
          "metadata": {},
          "execution_count": 23
        }
      ]
    },
    {
      "cell_type": "markdown",
      "source": [
        "* month_year with highest number of transactions - extract month and aggregate\n",
        "* top 5 items bought by customers (top based on count)\n",
        "\n"
      ],
      "metadata": {
        "id": "zggHUxOOmBJd"
      }
    },
    {
      "cell_type": "code",
      "source": [
        "df = df.withColumn('month_year',concat(month(col('date')),lit(\"_\"),year(col('date'))))\n",
        "df.groupby('month_year').agg(countDistinct('Invoice')\\\n",
        "                        .alias(\"num_transaction\"))\\\n",
        "                        .orderBy(\"num_transaction\",ascending=False).show(10)\n",
        "# max transactions bought in month_year nov 2010, nov 2011, oct 2010\n"
      ],
      "metadata": {
        "colab": {
          "base_uri": "https://localhost:8080/"
        },
        "id": "hs9_LSpXoh1I",
        "outputId": "2a51e90c-e8fa-489c-cd96-4edf4f06c958"
      },
      "execution_count": 34,
      "outputs": [
        {
          "output_type": "stream",
          "name": "stdout",
          "text": [
            "+----------+---------------+\n",
            "|month_year|num_transaction|\n",
            "+----------+---------------+\n",
            "|   11_2010|           3669|\n",
            "|   11_2011|           3462|\n",
            "|   10_2010|           2965|\n",
            "|   10_2011|           2637|\n",
            "|    5_2010|           2418|\n",
            "|    9_2010|           2375|\n",
            "|    3_2010|           2367|\n",
            "|   12_2009|           2330|\n",
            "|    9_2011|           2327|\n",
            "|    6_2010|           2216|\n",
            "+----------+---------------+\n",
            "only showing top 10 rows\n",
            "\n"
          ]
        }
      ]
    },
    {
      "cell_type": "code",
      "source": [
        "df = df.withColumn('month',month(col('date')))\n",
        "df.groupby('month').agg(countDistinct('Invoice')\\\n",
        "                        .alias(\"num_transaction_month\"))\\\n",
        "                        .orderBy(\"num_transaction_month\",ascending=False).show()\n",
        "# max transactions bought in month last quarter of the year- holiday season (thanksgiving, etc.)"
      ],
      "metadata": {
        "colab": {
          "base_uri": "https://localhost:8080/"
        },
        "id": "sRItTBQSqRax",
        "outputId": "6a5cc46e-71ca-49c2-e427-599ea76f93d7"
      },
      "execution_count": 35,
      "outputs": [
        {
          "output_type": "stream",
          "name": "stdout",
          "text": [
            "+-----+---------------------+\n",
            "|month|num_transaction_month|\n",
            "+-----+---------------------+\n",
            "|   11|                 7131|\n",
            "|   10|                 5602|\n",
            "|   12|                 4703|\n",
            "|    9|                 4702|\n",
            "|    5|                 4580|\n",
            "|    3|                 4350|\n",
            "|    6|                 4228|\n",
            "|    7|                 3944|\n",
            "|    4|                 3636|\n",
            "|    8|                 3614|\n",
            "|    2|                 3362|\n",
            "|    1|                 3109|\n",
            "+-----+---------------------+\n",
            "\n"
          ]
        }
      ]
    },
    {
      "cell_type": "code",
      "source": [
        "aggregated_df = df.groupby('StockCode','Description').agg(sum('qty')\\\n",
        "                                                      .alias('total_count'))\\\n",
        "                                                      .orderBy('total_count',ascending = False)\n",
        "aggregated_df.show(20, truncate=False)\n",
        "\n",
        "## Cake cases are hit"
      ],
      "metadata": {
        "colab": {
          "base_uri": "https://localhost:8080/"
        },
        "id": "JNVsZyp-saF9",
        "outputId": "46833852-f1ac-4384-cc6d-634167f2742f"
      },
      "execution_count": 45,
      "outputs": [
        {
          "output_type": "stream",
          "name": "stdout",
          "text": [
            "+---------+-----------------------------------+-----------+\n",
            "|StockCode|Description                        |total_count|\n",
            "+---------+-----------------------------------+-----------+\n",
            "|84077    |WORLD WAR 2 GLIDERS ASSTD DESIGNS  |107472.0   |\n",
            "|85123A   |WHITE HANGING HEART T-LIGHT HOLDER |91863.0    |\n",
            "|84879    |ASSORTED COLOUR BIRD ORNAMENT      |80608.0    |\n",
            "|85099B   |JUMBO BAG RED RETROSPOT            |77222.0    |\n",
            "|17003    |BROCADE RING PURSE                 |70423.0    |\n",
            "|21977    |PACK OF 60 PINK PAISLEY CAKE CASES |56366.0    |\n",
            "|84991    |60 TEATIME FAIRY CAKE CASES        |54271.0    |\n",
            "|22197    |SMALL POPCORN HOLDER               |49616.0    |\n",
            "|21212    |PACK OF 72 RETROSPOT CAKE CASES    |49030.0    |\n",
            "|21212    |PACK OF 72 RETRO SPOT CAKE CASES   |46106.0    |\n",
            "|22492    |MINI PAINT SET VINTAGE             |43904.0    |\n",
            "|15036    |ASSORTED COLOURS SILK FAN          |43542.0    |\n",
            "|21213    |PACK OF 72 SKULL CAKE CASES        |40534.0    |\n",
            "|84755    |COLOUR GLASS T-LIGHT HOLDER HANGING|39966.0    |\n",
            "|22616    |PACK OF 12 LONDON TISSUES          |39730.0    |\n",
            "|22178    |VICTORIAN GLASS HANGING T-LIGHT    |38998.0    |\n",
            "|84568    |GIRLS ALPHABET IRON ON PATCHES     |37584.0    |\n",
            "|21915    |RED  HARMONICA IN BOX              |37301.0    |\n",
            "|85099F   |JUMBO BAG STRAWBERRY               |36804.0    |\n",
            "|21232    |STRAWBERRY CERAMIC TRINKET BOX     |36684.0    |\n",
            "+---------+-----------------------------------+-----------+\n",
            "only showing top 20 rows\n",
            "\n"
          ]
        }
      ]
    },
    {
      "cell_type": "markdown",
      "source": [
        "* filter data removing invoice, and their c counterparts conisdering as cancelled\n",
        "* number of customers responsible for 80% of sales- calc from filtered data\n",
        "* create Recency, frequency and monetary flags"
      ],
      "metadata": {
        "id": "bOfTigedm9Lv"
      }
    },
    {
      "cell_type": "code",
      "source": [],
      "metadata": {
        "id": "y0rv69DCusU1"
      },
      "execution_count": null,
      "outputs": []
    },
    {
      "cell_type": "code",
      "source": [],
      "metadata": {
        "id": "_s_2oxGVusDR"
      },
      "execution_count": null,
      "outputs": []
    },
    {
      "cell_type": "code",
      "source": [],
      "metadata": {
        "id": "o8iippEdusAM"
      },
      "execution_count": null,
      "outputs": []
    },
    {
      "cell_type": "code",
      "source": [
        "# https://www.datacamp.com/tutorial/pyspark-tutorial-getting-started-with-pyspark\n",
        "# https://www.kaggle.com/datasets/thedevastator/unlock-profits-with-e-commerce-sales-data\n",
        "\n",
        "# other dataset\n",
        "# https://www.kaggle.com/code/toludoyinshopein/rfm-segmentation-with-pyspark\n",
        "\n",
        "\n",
        "## load dataset\n",
        "## create spark session\n",
        "## data exploration\n",
        "## data preprocessing\n",
        "## feature engg\n",
        "## model building"
      ],
      "metadata": {
        "id": "KAyimq17fgyp"
      },
      "execution_count": 25,
      "outputs": []
    }
  ]
}