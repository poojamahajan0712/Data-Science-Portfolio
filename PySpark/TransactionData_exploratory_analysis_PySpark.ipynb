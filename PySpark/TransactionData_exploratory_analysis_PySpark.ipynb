{
  "nbformat": 4,
  "nbformat_minor": 0,
  "metadata": {
    "colab": {
      "provenance": [],
      "mount_file_id": "1ApBMqnRyqe8UzASPVBCgPGEUnzH0sl3S",
      "authorship_tag": "ABX9TyPbr5i1X1gfjHbidXr6AfGf",
      "include_colab_link": true
    },
    "kernelspec": {
      "name": "python3",
      "display_name": "Python 3"
    },
    "language_info": {
      "name": "python"
    }
  },
  "cells": [
    {
      "cell_type": "markdown",
      "metadata": {
        "id": "view-in-github",
        "colab_type": "text"
      },
      "source": [
        "<a href=\"https://colab.research.google.com/github/poojamahajan0712/Data-Science-Portfolio/blob/main/PySpark/TransactionData_exploratory_analysis_PySpark.ipynb\" target=\"_parent\"><img src=\"https://colab.research.google.com/assets/colab-badge.svg\" alt=\"Open In Colab\"/></a>"
      ]
    },
    {
      "cell_type": "code",
      "execution_count": null,
      "metadata": {
        "id": "Ee2z6peUHIV3"
      },
      "outputs": [],
      "source": [
        "# https://www.datacamp.com/tutorial/pyspark-tutorial-getting-started-with-pyspark\n",
        "# https://www.kaggle.com/datasets/thedevastator/unlock-profits-with-e-commerce-sales-data\n",
        "\n",
        "# other dataset\n",
        "# https://www.kaggle.com/code/toludoyinshopein/rfm-segmentation-with-pyspark\n",
        "\n",
        "\n",
        "## load dataset\n",
        "## create spark session\n",
        "## data exploration\n",
        "## data preprocessing\n",
        "## feature engg\n",
        "## model building"
      ]
    },
    {
      "cell_type": "code",
      "source": [
        "import pyspark\n",
        "from pyspark.sql import SparkSession\n",
        "from pyspark.sql.functions import *\n",
        "from pyspark.sql.types import *"
      ],
      "metadata": {
        "id": "MtNlzxeaRzVB"
      },
      "execution_count": 1,
      "outputs": []
    },
    {
      "cell_type": "code",
      "source": [
        "spark = SparkSession.builder.appName(\"Customer Segmentation\")\\\n",
        "                              .config(\"spark.memory.offHeap.enabled\",\"true\")\\\n",
        "                              .config(\"spark.memory.offHeap.size\",\"10g\").getOrCreate()\n",
        "\n",
        "#Specifies the size of the off-heap memory to 10 gigabytes. This memory is used for caching and computation."
      ],
      "metadata": {
        "id": "9KZ62iCTR0Ks"
      },
      "execution_count": 2,
      "outputs": []
    },
    {
      "cell_type": "code",
      "source": [
        "df = spark.read.csv('/content/drive/MyDrive/AI Projects/Datasets/Amazon Sale Report/online_retail_listing.csv',header=True,sep=';')"
      ],
      "metadata": {
        "id": "RMhQUrMlTmRo"
      },
      "execution_count": 3,
      "outputs": []
    },
    {
      "cell_type": "code",
      "source": [
        "df.show()"
      ],
      "metadata": {
        "colab": {
          "base_uri": "https://localhost:8080/"
        },
        "id": "--Vt7TV0fHiT",
        "outputId": "46f2ff49-9398-4355-c840-43e6ef840f27"
      },
      "execution_count": null,
      "outputs": [
        {
          "output_type": "stream",
          "name": "stdout",
          "text": [
            "+-------+---------+--------------------+--------+---------------+-----+-----------+--------------+\n",
            "|Invoice|StockCode|         Description|Quantity|    InvoiceDate|Price|Customer ID|       Country|\n",
            "+-------+---------+--------------------+--------+---------------+-----+-----------+--------------+\n",
            "| 489434|    85048|15CM CHRISTMAS GL...|      12|1.12.2009 07:45| 6,95|      13085|United Kingdom|\n",
            "| 489434|   79323P|  PINK CHERRY LIGHTS|      12|1.12.2009 07:45| 6,75|      13085|United Kingdom|\n",
            "| 489434|   79323W| WHITE CHERRY LIGHTS|      12|1.12.2009 07:45| 6,75|      13085|United Kingdom|\n",
            "| 489434|    22041|\"RECORD FRAME 7\"\"...|      48|1.12.2009 07:45|  2,1|      13085|United Kingdom|\n",
            "| 489434|    21232|STRAWBERRY CERAMI...|      24|1.12.2009 07:45| 1,25|      13085|United Kingdom|\n",
            "| 489434|    22064|PINK DOUGHNUT TRI...|      24|1.12.2009 07:45| 1,65|      13085|United Kingdom|\n",
            "| 489434|    21871| SAVE THE PLANET MUG|      24|1.12.2009 07:45| 1,25|      13085|United Kingdom|\n",
            "| 489434|    21523|FANCY FONT HOME S...|      10|1.12.2009 07:45| 5,95|      13085|United Kingdom|\n",
            "| 489435|    22350|           CAT BOWL |      12|1.12.2009 07:46| 2,55|      13085|United Kingdom|\n",
            "| 489435|    22349|DOG BOWL , CHASIN...|      12|1.12.2009 07:46| 3,75|      13085|United Kingdom|\n",
            "| 489435|    22195|HEART MEASURING S...|      24|1.12.2009 07:46| 1,65|      13085|United Kingdom|\n",
            "| 489435|    22353|LUNCHBOX WITH CUT...|      12|1.12.2009 07:46| 2,55|      13085|United Kingdom|\n",
            "| 489436|   48173C|DOOR MAT BLACK FL...|      10|1.12.2009 09:06| 5,95|      13078|United Kingdom|\n",
            "| 489436|    21755|LOVE BUILDING BLO...|      18|1.12.2009 09:06| 5,45|      13078|United Kingdom|\n",
            "| 489436|    21754|HOME BUILDING BLO...|       3|1.12.2009 09:06| 5,95|      13078|United Kingdom|\n",
            "| 489436|    84879|ASSORTED COLOUR B...|      16|1.12.2009 09:06| 1,69|      13078|United Kingdom|\n",
            "| 489436|    22119| PEACE WOODEN BLO...|       3|1.12.2009 09:06| 6,95|      13078|United Kingdom|\n",
            "| 489436|    22142|CHRISTMAS CRAFT W...|      12|1.12.2009 09:06| 1,45|      13078|United Kingdom|\n",
            "| 489436|    22296|HEART IVORY TRELL...|      12|1.12.2009 09:06| 1,65|      13078|United Kingdom|\n",
            "| 489436|    22295|HEART FILIGREE DO...|      12|1.12.2009 09:06| 1,65|      13078|United Kingdom|\n",
            "+-------+---------+--------------------+--------+---------------+-----+-----------+--------------+\n",
            "only showing top 20 rows\n",
            "\n"
          ]
        }
      ]
    },
    {
      "cell_type": "code",
      "source": [
        "df.count(), len(df.columns) ## 1M rows"
      ],
      "metadata": {
        "colab": {
          "base_uri": "https://localhost:8080/"
        },
        "id": "MuPkAHKOUEPf",
        "outputId": "a0b87c67-a56d-46ed-b03c-9c2188c5b7e4"
      },
      "execution_count": null,
      "outputs": [
        {
          "output_type": "execute_result",
          "data": {
            "text/plain": [
              "(1048575, 8)"
            ]
          },
          "metadata": {},
          "execution_count": 32
        }
      ]
    },
    {
      "cell_type": "markdown",
      "source": [
        "\n",
        "* customer base\n",
        "* total number of transactions\n",
        "* Items extent in the transaction database"
      ],
      "metadata": {
        "id": "AwmMZ02uLLLF"
      }
    },
    {
      "cell_type": "code",
      "source": [
        "print(\"unique customers\",df.select('Customer ID').distinct().count())\n",
        "print(\"number of transcations\",df.select('Invoice').distinct().count())## 52.9k transactions\n",
        "print(\"unique items \",df.select(\"StockCode\").distinct().count()) ## data is about buying of around 5.3k products."
      ],
      "metadata": {
        "id": "7ROaqfjQYbAU",
        "colab": {
          "base_uri": "https://localhost:8080/"
        },
        "outputId": "3d67bc29-4295-44ce-a521-f141ce264245"
      },
      "execution_count": 8,
      "outputs": [
        {
          "output_type": "stream",
          "name": "stdout",
          "text": [
            "unique customers 5925\n",
            "number of transcations 52961\n",
            "unique items  5304\n"
          ]
        }
      ]
    },
    {
      "cell_type": "markdown",
      "source": [
        "* which countries are purchasing most\n",
        "* how many countries available\n",
        "* average transaction size\n",
        "* average transaction value"
      ],
      "metadata": {
        "id": "Amz4WUCRTZ30"
      }
    },
    {
      "cell_type": "code",
      "source": [
        "df.dtypes"
      ],
      "metadata": {
        "colab": {
          "base_uri": "https://localhost:8080/"
        },
        "id": "jATEWtPHZtKk",
        "outputId": "d2edddef-8e6e-46ee-c9d2-2b4a68e110f1"
      },
      "execution_count": 30,
      "outputs": [
        {
          "output_type": "execute_result",
          "data": {
            "text/plain": [
              "[('Invoice', 'string'),\n",
              " ('StockCode', 'string'),\n",
              " ('Description', 'string'),\n",
              " ('Quantity', 'string'),\n",
              " ('InvoiceDate', 'string'),\n",
              " ('Price', 'string'),\n",
              " ('Customer ID', 'string'),\n",
              " ('Country', 'string')]"
            ]
          },
          "metadata": {},
          "execution_count": 30
        }
      ]
    },
    {
      "cell_type": "code",
      "source": [
        "df.select('Country').distinct().count()"
      ],
      "metadata": {
        "colab": {
          "base_uri": "https://localhost:8080/"
        },
        "id": "ln1ZFvADLVbL",
        "outputId": "1f02d1ac-e5e3-4df0-a098-c8dea0a32cb1"
      },
      "execution_count": 14,
      "outputs": [
        {
          "output_type": "execute_result",
          "data": {
            "text/plain": [
              "43"
            ]
          },
          "metadata": {},
          "execution_count": 14
        }
      ]
    },
    {
      "cell_type": "code",
      "source": [
        "#90% customers are from UK\n",
        "df.groupby('Country').agg(countDistinct('Customer ID')\\\n",
        "                      .alias('customer_count'))\\\n",
        "                      .orderBy('customer_count',ascending=False)\\\n",
        "                      .show()"
      ],
      "metadata": {
        "colab": {
          "base_uri": "https://localhost:8080/"
        },
        "id": "bvuWXn8tVORy",
        "outputId": "cbae60ab-2a35-4fef-99c0-a29869be50c5"
      },
      "execution_count": 19,
      "outputs": [
        {
          "output_type": "stream",
          "name": "stdout",
          "text": [
            "+---------------+--------------+\n",
            "|        Country|customer_count|\n",
            "+---------------+--------------+\n",
            "| United Kingdom|          5397|\n",
            "|        Germany|           106|\n",
            "|         France|            94|\n",
            "|          Spain|            40|\n",
            "|        Belgium|            29|\n",
            "|       Portugal|            24|\n",
            "|    Netherlands|            23|\n",
            "|    Switzerland|            22|\n",
            "|         Sweden|            19|\n",
            "|          Italy|            17|\n",
            "|        Finland|            15|\n",
            "|      Australia|            15|\n",
            "|Channel Islands|            14|\n",
            "|         Norway|            13|\n",
            "|        Austria|            13|\n",
            "|         Cyprus|            11|\n",
            "|        Denmark|            11|\n",
            "|          Japan|            10|\n",
            "|            USA|             9|\n",
            "|    Unspecified|             7|\n",
            "+---------------+--------------+\n",
            "only showing top 20 rows\n",
            "\n"
          ]
        }
      ]
    },
    {
      "cell_type": "code",
      "source": [
        "df.dtypes"
      ],
      "metadata": {
        "colab": {
          "base_uri": "https://localhost:8080/"
        },
        "id": "VeUSRfIzeGwK",
        "outputId": "05ae1d39-05a2-43de-fe34-cb7253e477e7"
      },
      "execution_count": 55,
      "outputs": [
        {
          "output_type": "execute_result",
          "data": {
            "text/plain": [
              "[('Invoice', 'string'),\n",
              " ('StockCode', 'string'),\n",
              " ('Description', 'string'),\n",
              " ('Quantity', 'string'),\n",
              " ('InvoiceDate', 'string'),\n",
              " ('Price', 'string'),\n",
              " ('Customer ID', 'string'),\n",
              " ('Country', 'string'),\n",
              " ('price_edited', 'float'),\n",
              " ('qty', 'float')]"
            ]
          },
          "metadata": {},
          "execution_count": 55
        }
      ]
    },
    {
      "cell_type": "code",
      "source": [
        "df = df.withColumn('qty',col('Quantity').cast('float'))\n",
        "df.groupby('Invoice').agg(sum('qty')\\\n",
        "                      .alias('basket_size'))\\\n",
        "                      .select(median('basket_size')).show()"
      ],
      "metadata": {
        "colab": {
          "base_uri": "https://localhost:8080/"
        },
        "id": "Hu8GjGlNKUpJ",
        "outputId": "082268b0-5cbe-44b6-a041-8c4516dff94d"
      },
      "execution_count": 54,
      "outputs": [
        {
          "output_type": "stream",
          "name": "stdout",
          "text": [
            "+-------------------+\n",
            "|median(basket_size)|\n",
            "+-------------------+\n",
            "|               93.0|\n",
            "+-------------------+\n",
            "\n"
          ]
        }
      ]
    },
    {
      "cell_type": "code",
      "source": [
        "\n",
        "df = df.withColumn(\"price_edited\",regexp_replace(col('Price'),',','.').cast('float'))\n",
        "df.show(5)"
      ],
      "metadata": {
        "colab": {
          "base_uri": "https://localhost:8080/"
        },
        "id": "Ervi0SuvaNvy",
        "outputId": "d39252f4-34d1-4427-d0a4-0364285e8346"
      },
      "execution_count": 40,
      "outputs": [
        {
          "output_type": "stream",
          "name": "stdout",
          "text": [
            "+-------+---------+--------------------+--------+---------------+-----+-----------+--------------+------------+\n",
            "|Invoice|StockCode|         Description|Quantity|    InvoiceDate|Price|Customer ID|       Country|price_edited|\n",
            "+-------+---------+--------------------+--------+---------------+-----+-----------+--------------+------------+\n",
            "| 489434|    85048|15CM CHRISTMAS GL...|      12|1.12.2009 07:45| 6,95|      13085|United Kingdom|        6.95|\n",
            "| 489434|   79323P|  PINK CHERRY LIGHTS|      12|1.12.2009 07:45| 6,75|      13085|United Kingdom|        6.75|\n",
            "| 489434|   79323W| WHITE CHERRY LIGHTS|      12|1.12.2009 07:45| 6,75|      13085|United Kingdom|        6.75|\n",
            "| 489434|    22041|\"RECORD FRAME 7\"\"...|      48|1.12.2009 07:45|  2,1|      13085|United Kingdom|         2.1|\n",
            "| 489434|    21232|STRAWBERRY CERAMI...|      24|1.12.2009 07:45| 1,25|      13085|United Kingdom|        1.25|\n",
            "+-------+---------+--------------------+--------+---------------+-----+-----------+--------------+------------+\n",
            "only showing top 5 rows\n",
            "\n"
          ]
        }
      ]
    },
    {
      "cell_type": "code",
      "source": [
        "df.dtypes"
      ],
      "metadata": {
        "colab": {
          "base_uri": "https://localhost:8080/"
        },
        "id": "uxifM79DbMRe",
        "outputId": "441492ad-684b-43a7-967a-9dcc176c7385"
      },
      "execution_count": 37,
      "outputs": [
        {
          "output_type": "execute_result",
          "data": {
            "text/plain": [
              "[('Invoice', 'string'),\n",
              " ('StockCode', 'string'),\n",
              " ('Description', 'string'),\n",
              " ('Quantity', 'string'),\n",
              " ('InvoiceDate', 'string'),\n",
              " ('Price', 'string'),\n",
              " ('Customer ID', 'string'),\n",
              " ('Country', 'string'),\n",
              " ('price_edited', 'float')]"
            ]
          },
          "metadata": {},
          "execution_count": 37
        }
      ]
    },
    {
      "cell_type": "code",
      "source": [
        "df.groupby('Invoice').agg(sum('price_edited')\\\n",
        "                      .alias('avg_ord_val'))\\\n",
        "                      .select(mean('avg_ord_val')).show()"
      ],
      "metadata": {
        "colab": {
          "base_uri": "https://localhost:8080/"
        },
        "id": "4Rj_-HBNKdQa",
        "outputId": "56717b35-370e-4c60-9306-027ac39cf47a"
      },
      "execution_count": 39,
      "outputs": [
        {
          "output_type": "stream",
          "name": "stdout",
          "text": [
            "+-----------------+\n",
            "| avg(avg_ord_val)|\n",
            "+-----------------+\n",
            "|91.61683989018914|\n",
            "+-----------------+\n",
            "\n"
          ]
        }
      ]
    },
    {
      "cell_type": "markdown",
      "source": [
        "* rows with negative price, quantity\n",
        "* rows with null customer_id"
      ],
      "metadata": {
        "id": "wnpKnwxWc_AS"
      }
    },
    {
      "cell_type": "code",
      "source": [
        "# rows with negative price\n",
        "df.filter(col('price_edited')<0).show()"
      ],
      "metadata": {
        "colab": {
          "base_uri": "https://localhost:8080/"
        },
        "id": "SoJPMqMXKpJq",
        "outputId": "64755464-e7bc-4ec9-ce09-5f63014ccb64"
      },
      "execution_count": 42,
      "outputs": [
        {
          "output_type": "stream",
          "name": "stdout",
          "text": [
            "+-------+---------+---------------+--------+----------------+---------+-----------+--------------+------------+\n",
            "|Invoice|StockCode|    Description|Quantity|     InvoiceDate|    Price|Customer ID|       Country|price_edited|\n",
            "+-------+---------+---------------+--------+----------------+---------+-----------+--------------+------------+\n",
            "|A506401|        B|Adjust bad debt|       1|29.04.2010 13:36|-53594,36|       NULL|United Kingdom|   -53594.36|\n",
            "|A516228|        B|Adjust bad debt|       1|19.07.2010 11:24|-44031,79|       NULL|United Kingdom|   -44031.79|\n",
            "|A528059|        B|Adjust bad debt|       1|20.10.2010 12:04|-38925,87|       NULL|United Kingdom|   -38925.87|\n",
            "|A563186|        B|Adjust bad debt|       1|12.08.2011 14:51|-11062,06|       NULL|United Kingdom|   -11062.06|\n",
            "|A563187|        B|Adjust bad debt|       1|12.08.2011 14:52|-11062,06|       NULL|United Kingdom|   -11062.06|\n",
            "+-------+---------+---------------+--------+----------------+---------+-----------+--------------+------------+\n",
            "\n"
          ]
        }
      ]
    },
    {
      "cell_type": "code",
      "source": [
        "print(\"rows with negative quantity\",df.filter(col('qty')<0).count())\n",
        "df.filter(col('qty')<0).show()\n",
        "## all have invoice staring with C"
      ],
      "metadata": {
        "colab": {
          "base_uri": "https://localhost:8080/"
        },
        "id": "dZT_sJ6aeOyv",
        "outputId": "9116e491-1893-4320-c841-8292c52dbbf0"
      },
      "execution_count": 57,
      "outputs": [
        {
          "output_type": "stream",
          "name": "stdout",
          "text": [
            "rows with negative quantity 22697\n",
            "+-------+---------+--------------------+--------+---------------+-----+-----------+--------------+------------+-----+\n",
            "|Invoice|StockCode|         Description|Quantity|    InvoiceDate|Price|Customer ID|       Country|price_edited|  qty|\n",
            "+-------+---------+--------------------+--------+---------------+-----+-----------+--------------+------------+-----+\n",
            "|C489449|    22087|PAPER BUNTING WHI...|     -12|1.12.2009 10:33| 2,95|      16321|     Australia|        2.95|-12.0|\n",
            "|C489449|   85206A|CREAM FELT EASTER...|      -6|1.12.2009 10:33| 1,65|      16321|     Australia|        1.65| -6.0|\n",
            "|C489449|    21895|POTTING SHED SOW ...|      -4|1.12.2009 10:33| 4,25|      16321|     Australia|        4.25| -4.0|\n",
            "|C489449|    21896|  POTTING SHED TWINE|      -6|1.12.2009 10:33|  2,1|      16321|     Australia|         2.1| -6.0|\n",
            "|C489449|    22083|PAPER CHAIN KIT R...|     -12|1.12.2009 10:33| 2,95|      16321|     Australia|        2.95|-12.0|\n",
            "|C489449|    21871| SAVE THE PLANET MUG|     -12|1.12.2009 10:33| 1,25|      16321|     Australia|        1.25|-12.0|\n",
            "|C489449|    84946|ANTIQUE SILVER TE...|     -12|1.12.2009 10:33| 1,25|      16321|     Australia|        1.25|-12.0|\n",
            "|C489449|   84970S|HANGING HEART ZIN...|     -24|1.12.2009 10:33| 0,85|      16321|     Australia|        0.85|-24.0|\n",
            "|C489449|    22090|PAPER BUNTING RET...|     -12|1.12.2009 10:33| 2,95|      16321|     Australia|        2.95|-12.0|\n",
            "|C489459|   90200A|PURPLE SWEETHEART...|      -3|1.12.2009 10:44| 4,25|      17592|United Kingdom|        4.25| -3.0|\n",
            "|C489459|   90200D|PINK SWEETHEART B...|      -3|1.12.2009 10:44| 4,25|      17592|United Kingdom|        4.25| -3.0|\n",
            "|C489459|   90200B|BLACK SWEETHEART ...|      -3|1.12.2009 10:44| 4,25|      17592|United Kingdom|        4.25| -3.0|\n",
            "|C489459|   90200E|GREEN SWEETHEART ...|      -3|1.12.2009 10:44| 4,25|      17592|United Kingdom|        4.25| -3.0|\n",
            "|C489459|   90200C|BLUE SWEETHEART B...|      -3|1.12.2009 10:44| 4,25|      17592|United Kingdom|        4.25| -3.0|\n",
            "|C489459|   90185C|BLACK DIAMANTE EX...|      -3|1.12.2009 10:44| 4,25|      17592|United Kingdom|        4.25| -3.0|\n",
            "|C489459|   90185B|AMETHYST DIAMANTE...|      -3|1.12.2009 10:44| 4,25|      17592|United Kingdom|        4.25| -3.0|\n",
            "|C489459|   90003C|MIDNIGHT BLUE PAI...|      -3|1.12.2009 10:44| 3,75|      17592|United Kingdom|        3.75| -3.0|\n",
            "|C489459|   90003D|CRYSTAL PAIR HEAR...|      -3|1.12.2009 10:44| 3,75|      17592|United Kingdom|        3.75| -3.0|\n",
            "|C489459|   90003B|ROSE COLOUR PAIR ...|      -3|1.12.2009 10:44| 3,75|      17592|United Kingdom|        3.75| -3.0|\n",
            "|C489459|   90209C|PINK ENAMEL+GLASS...|      -3|1.12.2009 10:44|  2,1|      17592|United Kingdom|         2.1| -3.0|\n",
            "+-------+---------+--------------------+--------+---------------+-----+-----------+--------------+------------+-----+\n",
            "only showing top 20 rows\n",
            "\n"
          ]
        }
      ]
    },
    {
      "cell_type": "code",
      "source": [
        "df.filter(col('Description')=='Adjust bad debt').count()"
      ],
      "metadata": {
        "colab": {
          "base_uri": "https://localhost:8080/"
        },
        "id": "EmANj4cjbtNj",
        "outputId": "3408a3c1-6c6f-4428-e1e2-ac4f79f3d5dc"
      },
      "execution_count": 44,
      "outputs": [
        {
          "output_type": "execute_result",
          "data": {
            "text/plain": [
              "6"
            ]
          },
          "metadata": {},
          "execution_count": 44
        }
      ]
    },
    {
      "cell_type": "code",
      "source": [
        "# rows with null customer_id\n",
        "print(\"count of rows with null customer id\",df.filter(col('Customer ID').isNull()).count())\n",
        "df.filter(col('Customer ID').isNull()).show()"
      ],
      "metadata": {
        "colab": {
          "base_uri": "https://localhost:8080/"
        },
        "id": "lDVWD1SVcGdE",
        "outputId": "6840bd73-a6c0-4018-eeae-740184b773af"
      },
      "execution_count": 50,
      "outputs": [
        {
          "output_type": "stream",
          "name": "stdout",
          "text": [
            "count of rows with null customer id 236682\n",
            "+-------+---------+--------------------+--------+---------------+-----+-----------+--------------+------------+\n",
            "|Invoice|StockCode|         Description|Quantity|    InvoiceDate|Price|Customer ID|       Country|price_edited|\n",
            "+-------+---------+--------------------+--------+---------------+-----+-----------+--------------+------------+\n",
            "| 489464|    21733|        85123a mixed|     -96|1.12.2009 10:52|    0|       NULL|United Kingdom|         0.0|\n",
            "| 489463|    71477|               short|    -240|1.12.2009 10:52|    0|       NULL|United Kingdom|         0.0|\n",
            "| 489467|   85123A|         21733 mixed|    -192|1.12.2009 10:53|    0|       NULL|United Kingdom|         0.0|\n",
            "| 489521|    21646|                NULL|     -50|1.12.2009 11:44|    0|       NULL|United Kingdom|         0.0|\n",
            "| 489525|   85226C|BLUE PULL BACK RA...|       1|1.12.2009 11:49| 0,55|       NULL|United Kingdom|        0.55|\n",
            "| 489525|    85227|SET/6 3D KIT CARD...|       1|1.12.2009 11:49| 0,85|       NULL|United Kingdom|        0.85|\n",
            "| 489548|    22271|FELTCRAFT DOLL ROSIE|       1|1.12.2009 12:32| 2,95|       NULL|United Kingdom|        2.95|\n",
            "| 489548|    22254|FELT TOADSTOOL LARGE|      12|1.12.2009 12:32| 1,25|       NULL|United Kingdom|        1.25|\n",
            "| 489548|    22273|FELTCRAFT DOLL MOLLY|       3|1.12.2009 12:32| 2,95|       NULL|United Kingdom|        2.95|\n",
            "| 489548|    22195|LARGE HEART MEASU...|       1|1.12.2009 12:32| 1,65|       NULL|United Kingdom|        1.65|\n",
            "| 489548|    22131|FOOD CONTAINER SE...|       2|1.12.2009 12:32| 1,95|       NULL|United Kingdom|        1.95|\n",
            "| 489548|    22079|RIBBON REEL HEART...|      10|1.12.2009 12:32| 1,65|       NULL|United Kingdom|        1.65|\n",
            "| 489548|    22138|BAKING SET 9 PIEC...|       3|1.12.2009 12:32| 4,95|       NULL|United Kingdom|        4.95|\n",
            "| 489548|    22147|FELTCRAFT BUTTERF...|       2|1.12.2009 12:32| 1,45|       NULL|United Kingdom|        1.45|\n",
            "| 489548|    22142|CHRISTMAS CRAFT W...|       2|1.12.2009 12:32| 1,45|       NULL|United Kingdom|        1.45|\n",
            "| 489548|    22150| 3 STRIPEY MICE F...|       2|1.12.2009 12:32| 1,95|       NULL|United Kingdom|        1.95|\n",
            "| 489548|    20804|GLASS CHICKEN BUT...|       1|1.12.2009 12:32| 1,65|       NULL|United Kingdom|        1.65|\n",
            "| 489548|    22196|SMALL HEART MEASU...|       8|1.12.2009 12:32| 0,85|       NULL|United Kingdom|        0.85|\n",
            "| 489548|    22086|PAPER CHAIN KIT 5...|       3|1.12.2009 12:32| 2,95|       NULL|United Kingdom|        2.95|\n",
            "| 489548|    21115|ROSE CARAVAN DOOR...|       1|1.12.2009 12:32| 6,75|       NULL|United Kingdom|        6.75|\n",
            "+-------+---------+--------------------+--------+---------------+-----+-----------+--------------+------------+\n",
            "only showing top 20 rows\n",
            "\n"
          ]
        }
      ]
    },
    {
      "cell_type": "code",
      "source": [
        "df.filter(col('Invoice').like('C%')).count()"
      ],
      "metadata": {
        "colab": {
          "base_uri": "https://localhost:8080/"
        },
        "id": "vz4jqV1PcSIy",
        "outputId": "b8c66a69-b47b-4105-9f9c-cbb989aec19d"
      },
      "execution_count": 58,
      "outputs": [
        {
          "output_type": "execute_result",
          "data": {
            "text/plain": [
              "19261"
            ]
          },
          "metadata": {},
          "execution_count": 58
        }
      ]
    },
    {
      "cell_type": "code",
      "source": [
        "df.filter((col('qty')<0) & (~col('Invoice').like('C%'))).show() #3.4k"
      ],
      "metadata": {
        "colab": {
          "base_uri": "https://localhost:8080/"
        },
        "id": "MBrQEAjmdvab",
        "outputId": "82e50c73-68fb-4850-c734-de9bc5e9402d"
      },
      "execution_count": 61,
      "outputs": [
        {
          "output_type": "stream",
          "name": "stdout",
          "text": [
            "+-------+---------+---------------+--------+---------------+-----+-----------+--------------+------------+-------+\n",
            "|Invoice|StockCode|    Description|Quantity|    InvoiceDate|Price|Customer ID|       Country|price_edited|    qty|\n",
            "+-------+---------+---------------+--------+---------------+-----+-----------+--------------+------------+-------+\n",
            "| 489464|    21733|   85123a mixed|     -96|1.12.2009 10:52|    0|       NULL|United Kingdom|         0.0|  -96.0|\n",
            "| 489463|    71477|          short|    -240|1.12.2009 10:52|    0|       NULL|United Kingdom|         0.0| -240.0|\n",
            "| 489467|   85123A|    21733 mixed|    -192|1.12.2009 10:53|    0|       NULL|United Kingdom|         0.0| -192.0|\n",
            "| 489521|    21646|           NULL|     -50|1.12.2009 11:44|    0|       NULL|United Kingdom|         0.0|  -50.0|\n",
            "| 489655|    20683|           NULL|     -44|1.12.2009 17:26|    0|       NULL|United Kingdom|         0.0|  -44.0|\n",
            "| 489660|    35956|           lost|   -1043|1.12.2009 17:43|    0|       NULL|United Kingdom|         0.0|-1043.0|\n",
            "| 489663|   35605A|        damages|    -117|1.12.2009 18:02|    0|       NULL|United Kingdom|         0.0| -117.0|\n",
            "| 489806|    18010|           NULL|    -770|2.12.2009 12:42|    0|       NULL|United Kingdom|         0.0| -770.0|\n",
            "| 489820|    21133|invcd as 84879?|    -720|2.12.2009 13:23|    0|       NULL|United Kingdom|         0.0| -720.0|\n",
            "| 489821|   85049G|           NULL|    -240|2.12.2009 13:25|    0|       NULL|United Kingdom|         0.0| -240.0|\n",
            "| 489899|  79323GR|   sold as gold|    -954|3.12.2009 09:41|    0|       NULL|United Kingdom|         0.0| -954.0|\n",
            "| 489901|    21098|           NULL|    -200|3.12.2009 09:47|    0|       NULL|United Kingdom|         0.0| -200.0|\n",
            "| 490007|    84347|          21494|    -720|3.12.2009 12:09|    0|       NULL|United Kingdom|         0.0| -720.0|\n",
            "| 490016|    21982|           NULL|   -1012|3.12.2009 12:30|    0|       NULL|United Kingdom|         0.0|-1012.0|\n",
            "| 490055|    20620|           NULL|     -25|3.12.2009 13:22|    0|       NULL|United Kingdom|         0.0|  -25.0|\n",
            "| 490084|    85064|           NULL|     -89|3.12.2009 15:37|    0|       NULL|United Kingdom|         0.0|  -89.0|\n",
            "| 490130|    21493|          lost?|    -600|3.12.2009 18:28|    0|       NULL|United Kingdom|         0.0| -600.0|\n",
            "| 490146|    21558|           NULL|    -169|4.12.2009 09:29|    0|       NULL|United Kingdom|         0.0| -169.0|\n",
            "| 490165|    21493|           NULL|    -106|4.12.2009 11:32|    0|       NULL|United Kingdom|         0.0| -106.0|\n",
            "| 490354|    21489|           NULL|     -23|4.12.2009 16:39|    0|       NULL|United Kingdom|         0.0|  -23.0|\n",
            "+-------+---------+---------------+--------+---------------+-----+-----------+--------------+------------+-------+\n",
            "only showing top 20 rows\n",
            "\n"
          ]
        }
      ]
    },
    {
      "cell_type": "code",
      "source": [],
      "metadata": {
        "id": "dIZTKMVKieT9"
      },
      "execution_count": null,
      "outputs": []
    },
    {
      "cell_type": "markdown",
      "source": [
        "* Min date, max date\n",
        "* month with highest number of transactions"
      ],
      "metadata": {
        "id": "KJ13_q09ifTP"
      }
    },
    {
      "cell_type": "code",
      "source": [
        "# spark.sql(\"set spark.sql.legacy.timeParserPolicy=LEGACY\")- need to set this , otherwise throws error\n",
        "df = df.withColumn('date',to_timestamp(col('InvoiceDate'),\"dd.MM.yyyy HH:mm\"))"
      ],
      "metadata": {
        "id": "GTecppv9g6Tl"
      },
      "execution_count": 71,
      "outputs": []
    },
    {
      "cell_type": "code",
      "source": [
        "df.select(min('date')).show(), df.select(max('date')).show()"
      ],
      "metadata": {
        "colab": {
          "base_uri": "https://localhost:8080/"
        },
        "id": "PrHnHJy6fIpr",
        "outputId": "9a74347f-6034-4701-d0b8-65e55b16b7cf"
      },
      "execution_count": 73,
      "outputs": [
        {
          "output_type": "stream",
          "name": "stdout",
          "text": [
            "+-------------------+\n",
            "|          min(date)|\n",
            "+-------------------+\n",
            "|2009-12-01 07:45:00|\n",
            "+-------------------+\n",
            "\n",
            "+-------------------+\n",
            "|          max(date)|\n",
            "+-------------------+\n",
            "|2011-12-04 13:15:00|\n",
            "+-------------------+\n",
            "\n"
          ]
        },
        {
          "output_type": "execute_result",
          "data": {
            "text/plain": [
              "(None, None)"
            ]
          },
          "metadata": {},
          "execution_count": 73
        }
      ]
    },
    {
      "cell_type": "code",
      "source": [],
      "metadata": {
        "id": "KAyimq17fgyp"
      },
      "execution_count": null,
      "outputs": []
    }
  ]
}