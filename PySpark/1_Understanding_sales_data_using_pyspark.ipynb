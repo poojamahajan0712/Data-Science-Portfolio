{
  "nbformat": 4,
  "nbformat_minor": 0,
  "metadata": {
    "colab": {
      "provenance": [],
      "mount_file_id": "1ApBMqnRyqe8UzASPVBCgPGEUnzH0sl3S",
      "authorship_tag": "ABX9TyPOvDJPxU9Wx6wRFUDx5UBz",
      "include_colab_link": true
    },
    "kernelspec": {
      "name": "python3",
      "display_name": "Python 3"
    },
    "language_info": {
      "name": "python"
    }
  },
  "cells": [
    {
      "cell_type": "markdown",
      "metadata": {
        "id": "view-in-github",
        "colab_type": "text"
      },
      "source": [
        "<a href=\"https://colab.research.google.com/github/poojamahajan0712/Data-Science-Portfolio/blob/main/PySpark/1_Understanding_sales_data_using_pyspark.ipynb\" target=\"_parent\"><img src=\"https://colab.research.google.com/assets/colab-badge.svg\" alt=\"Open In Colab\"/></a>"
      ]
    },
    {
      "cell_type": "code",
      "execution_count": null,
      "metadata": {
        "id": "Ee2z6peUHIV3"
      },
      "outputs": [],
      "source": [
        "# https://www.datacamp.com/tutorial/pyspark-tutorial-getting-started-with-pyspark\n",
        "# https://www.kaggle.com/datasets/thedevastator/unlock-profits-with-e-commerce-sales-data\n",
        "\n",
        "# other dataset\n",
        "# https://www.kaggle.com/code/toludoyinshopein/rfm-segmentation-with-pyspark\n",
        "\n",
        "\n",
        "## load dataset\n",
        "## create spark session\n",
        "## data exploration\n",
        "## data preprocessing\n",
        "## feature engg\n",
        "## model building"
      ]
    },
    {
      "cell_type": "code",
      "source": [
        "import pyspark\n",
        "# import pyspark.sql.functions as F\n",
        "# from pyspark.sql.types import *\n",
        "from pyspark.sql import SparkSession"
      ],
      "metadata": {
        "id": "MtNlzxeaRzVB"
      },
      "execution_count": null,
      "outputs": []
    },
    {
      "cell_type": "code",
      "source": [
        "spark = SparkSession.builder.appName(\"Customer Segmentation\")\\\n",
        "                              .config(\"spark.memory.offHeap.enabled\",\"true\")\\\n",
        "                              .config(\"spark.memory.offHeap.size\",\"10g\").getOrCreate()\n",
        "\n",
        "#Specifies the size of the off-heap memory to 10 gigabytes. This memory is used for caching and computation."
      ],
      "metadata": {
        "id": "9KZ62iCTR0Ks"
      },
      "execution_count": null,
      "outputs": []
    },
    {
      "cell_type": "code",
      "source": [
        "df = spark.read.csv('/content/drive/MyDrive/AI Projects/Datasets/Amazon Sale Report/online_retail_listing.csv',header=True,sep=';')"
      ],
      "metadata": {
        "id": "RMhQUrMlTmRo"
      },
      "execution_count": null,
      "outputs": []
    },
    {
      "cell_type": "code",
      "source": [
        "df.show()"
      ],
      "metadata": {
        "colab": {
          "base_uri": "https://localhost:8080/"
        },
        "id": "--Vt7TV0fHiT",
        "outputId": "46f2ff49-9398-4355-c840-43e6ef840f27"
      },
      "execution_count": null,
      "outputs": [
        {
          "output_type": "stream",
          "name": "stdout",
          "text": [
            "+-------+---------+--------------------+--------+---------------+-----+-----------+--------------+\n",
            "|Invoice|StockCode|         Description|Quantity|    InvoiceDate|Price|Customer ID|       Country|\n",
            "+-------+---------+--------------------+--------+---------------+-----+-----------+--------------+\n",
            "| 489434|    85048|15CM CHRISTMAS GL...|      12|1.12.2009 07:45| 6,95|      13085|United Kingdom|\n",
            "| 489434|   79323P|  PINK CHERRY LIGHTS|      12|1.12.2009 07:45| 6,75|      13085|United Kingdom|\n",
            "| 489434|   79323W| WHITE CHERRY LIGHTS|      12|1.12.2009 07:45| 6,75|      13085|United Kingdom|\n",
            "| 489434|    22041|\"RECORD FRAME 7\"\"...|      48|1.12.2009 07:45|  2,1|      13085|United Kingdom|\n",
            "| 489434|    21232|STRAWBERRY CERAMI...|      24|1.12.2009 07:45| 1,25|      13085|United Kingdom|\n",
            "| 489434|    22064|PINK DOUGHNUT TRI...|      24|1.12.2009 07:45| 1,65|      13085|United Kingdom|\n",
            "| 489434|    21871| SAVE THE PLANET MUG|      24|1.12.2009 07:45| 1,25|      13085|United Kingdom|\n",
            "| 489434|    21523|FANCY FONT HOME S...|      10|1.12.2009 07:45| 5,95|      13085|United Kingdom|\n",
            "| 489435|    22350|           CAT BOWL |      12|1.12.2009 07:46| 2,55|      13085|United Kingdom|\n",
            "| 489435|    22349|DOG BOWL , CHASIN...|      12|1.12.2009 07:46| 3,75|      13085|United Kingdom|\n",
            "| 489435|    22195|HEART MEASURING S...|      24|1.12.2009 07:46| 1,65|      13085|United Kingdom|\n",
            "| 489435|    22353|LUNCHBOX WITH CUT...|      12|1.12.2009 07:46| 2,55|      13085|United Kingdom|\n",
            "| 489436|   48173C|DOOR MAT BLACK FL...|      10|1.12.2009 09:06| 5,95|      13078|United Kingdom|\n",
            "| 489436|    21755|LOVE BUILDING BLO...|      18|1.12.2009 09:06| 5,45|      13078|United Kingdom|\n",
            "| 489436|    21754|HOME BUILDING BLO...|       3|1.12.2009 09:06| 5,95|      13078|United Kingdom|\n",
            "| 489436|    84879|ASSORTED COLOUR B...|      16|1.12.2009 09:06| 1,69|      13078|United Kingdom|\n",
            "| 489436|    22119| PEACE WOODEN BLO...|       3|1.12.2009 09:06| 6,95|      13078|United Kingdom|\n",
            "| 489436|    22142|CHRISTMAS CRAFT W...|      12|1.12.2009 09:06| 1,45|      13078|United Kingdom|\n",
            "| 489436|    22296|HEART IVORY TRELL...|      12|1.12.2009 09:06| 1,65|      13078|United Kingdom|\n",
            "| 489436|    22295|HEART FILIGREE DO...|      12|1.12.2009 09:06| 1,65|      13078|United Kingdom|\n",
            "+-------+---------+--------------------+--------+---------------+-----+-----------+--------------+\n",
            "only showing top 20 rows\n",
            "\n"
          ]
        }
      ]
    },
    {
      "cell_type": "code",
      "source": [
        "df.count(), len(df.columns)"
      ],
      "metadata": {
        "colab": {
          "base_uri": "https://localhost:8080/"
        },
        "id": "MuPkAHKOUEPf",
        "outputId": "a0b87c67-a56d-46ed-b03c-9c2188c5b7e4"
      },
      "execution_count": null,
      "outputs": [
        {
          "output_type": "execute_result",
          "data": {
            "text/plain": [
              "(1048575, 8)"
            ]
          },
          "metadata": {},
          "execution_count": 32
        }
      ]
    },
    {
      "cell_type": "code",
      "source": [],
      "metadata": {
        "id": "7ROaqfjQYbAU"
      },
      "execution_count": null,
      "outputs": []
    }
  ]
}