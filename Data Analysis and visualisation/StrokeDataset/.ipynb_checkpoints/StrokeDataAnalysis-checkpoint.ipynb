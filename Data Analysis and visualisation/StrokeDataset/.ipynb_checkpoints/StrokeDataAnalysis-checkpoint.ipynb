{
 "cells": [
  {
   "cell_type": "code",
   "execution_count": 1,
   "id": "bd103174",
   "metadata": {},
   "outputs": [],
   "source": [
    "import pandas as pd\n",
    "import seaborn as sns\n",
    "import matplotlib.pyplot as plt\n",
    "from scipy.stats import chi2_contingency\n",
    "import numpy as np\n",
    "from scipy.stats import mstats"
   ]
  },
  {
   "cell_type": "code",
   "execution_count": 2,
   "id": "8ad38df8",
   "metadata": {},
   "outputs": [
    {
     "data": {
      "text/html": [
       "<div>\n",
       "<style scoped>\n",
       "    .dataframe tbody tr th:only-of-type {\n",
       "        vertical-align: middle;\n",
       "    }\n",
       "\n",
       "    .dataframe tbody tr th {\n",
       "        vertical-align: top;\n",
       "    }\n",
       "\n",
       "    .dataframe thead th {\n",
       "        text-align: right;\n",
       "    }\n",
       "</style>\n",
       "<table border=\"1\" class=\"dataframe\">\n",
       "  <thead>\n",
       "    <tr style=\"text-align: right;\">\n",
       "      <th></th>\n",
       "      <th>id</th>\n",
       "      <th>gender</th>\n",
       "      <th>age</th>\n",
       "      <th>hypertension</th>\n",
       "      <th>heart_disease</th>\n",
       "      <th>ever_married</th>\n",
       "      <th>work_type</th>\n",
       "      <th>Residence_type</th>\n",
       "      <th>avg_glucose_level</th>\n",
       "      <th>bmi</th>\n",
       "      <th>smoking_status</th>\n",
       "      <th>stroke</th>\n",
       "    </tr>\n",
       "  </thead>\n",
       "  <tbody>\n",
       "    <tr>\n",
       "      <th>0</th>\n",
       "      <td>9046</td>\n",
       "      <td>Male</td>\n",
       "      <td>67.0</td>\n",
       "      <td>0</td>\n",
       "      <td>1</td>\n",
       "      <td>Yes</td>\n",
       "      <td>Private</td>\n",
       "      <td>Urban</td>\n",
       "      <td>228.69</td>\n",
       "      <td>36.6</td>\n",
       "      <td>formerly smoked</td>\n",
       "      <td>1</td>\n",
       "    </tr>\n",
       "    <tr>\n",
       "      <th>1</th>\n",
       "      <td>51676</td>\n",
       "      <td>Female</td>\n",
       "      <td>61.0</td>\n",
       "      <td>0</td>\n",
       "      <td>0</td>\n",
       "      <td>Yes</td>\n",
       "      <td>Self-employed</td>\n",
       "      <td>Rural</td>\n",
       "      <td>202.21</td>\n",
       "      <td>NaN</td>\n",
       "      <td>never smoked</td>\n",
       "      <td>1</td>\n",
       "    </tr>\n",
       "    <tr>\n",
       "      <th>2</th>\n",
       "      <td>31112</td>\n",
       "      <td>Male</td>\n",
       "      <td>80.0</td>\n",
       "      <td>0</td>\n",
       "      <td>1</td>\n",
       "      <td>Yes</td>\n",
       "      <td>Private</td>\n",
       "      <td>Rural</td>\n",
       "      <td>105.92</td>\n",
       "      <td>32.5</td>\n",
       "      <td>never smoked</td>\n",
       "      <td>1</td>\n",
       "    </tr>\n",
       "    <tr>\n",
       "      <th>3</th>\n",
       "      <td>60182</td>\n",
       "      <td>Female</td>\n",
       "      <td>49.0</td>\n",
       "      <td>0</td>\n",
       "      <td>0</td>\n",
       "      <td>Yes</td>\n",
       "      <td>Private</td>\n",
       "      <td>Urban</td>\n",
       "      <td>171.23</td>\n",
       "      <td>34.4</td>\n",
       "      <td>smokes</td>\n",
       "      <td>1</td>\n",
       "    </tr>\n",
       "    <tr>\n",
       "      <th>4</th>\n",
       "      <td>1665</td>\n",
       "      <td>Female</td>\n",
       "      <td>79.0</td>\n",
       "      <td>1</td>\n",
       "      <td>0</td>\n",
       "      <td>Yes</td>\n",
       "      <td>Self-employed</td>\n",
       "      <td>Rural</td>\n",
       "      <td>174.12</td>\n",
       "      <td>24.0</td>\n",
       "      <td>never smoked</td>\n",
       "      <td>1</td>\n",
       "    </tr>\n",
       "  </tbody>\n",
       "</table>\n",
       "</div>"
      ],
      "text/plain": [
       "      id  gender   age  hypertension  heart_disease ever_married  \\\n",
       "0   9046    Male  67.0             0              1          Yes   \n",
       "1  51676  Female  61.0             0              0          Yes   \n",
       "2  31112    Male  80.0             0              1          Yes   \n",
       "3  60182  Female  49.0             0              0          Yes   \n",
       "4   1665  Female  79.0             1              0          Yes   \n",
       "\n",
       "       work_type Residence_type  avg_glucose_level   bmi   smoking_status  \\\n",
       "0        Private          Urban             228.69  36.6  formerly smoked   \n",
       "1  Self-employed          Rural             202.21   NaN     never smoked   \n",
       "2        Private          Rural             105.92  32.5     never smoked   \n",
       "3        Private          Urban             171.23  34.4           smokes   \n",
       "4  Self-employed          Rural             174.12  24.0     never smoked   \n",
       "\n",
       "   stroke  \n",
       "0       1  \n",
       "1       1  \n",
       "2       1  \n",
       "3       1  \n",
       "4       1  "
      ]
     },
     "execution_count": 2,
     "metadata": {},
     "output_type": "execute_result"
    }
   ],
   "source": [
    "stroke_data = pd.read_csv(\"C:\\\\Users\\\\pooja\\\\Documents\\\\datasets\\\\StrokePrediction\\\\healthcare-dataset-stroke-data.csv\")\n",
    "stroke_data.head()"
   ]
  },
  {
   "cell_type": "code",
   "execution_count": 3,
   "id": "07877345",
   "metadata": {},
   "outputs": [
    {
     "data": {
      "text/plain": [
       "id                     int64\n",
       "gender                object\n",
       "age                  float64\n",
       "hypertension           int64\n",
       "heart_disease          int64\n",
       "ever_married          object\n",
       "work_type             object\n",
       "Residence_type        object\n",
       "avg_glucose_level    float64\n",
       "bmi                  float64\n",
       "smoking_status        object\n",
       "stroke                 int64\n",
       "dtype: object"
      ]
     },
     "execution_count": 3,
     "metadata": {},
     "output_type": "execute_result"
    }
   ],
   "source": [
    "stroke_data.dtypes\n",
    "## In this data \n",
    "## categorical columns - gender,hypertension,heart_disease,ever_married,work_type,Residence_type,smoking_status\n",
    "## float - avg_glucose_level,bmi\n",
    "## int - age\n",
    "## target - stroke "
   ]
  },
  {
   "cell_type": "code",
   "execution_count": 4,
   "id": "9eeb4a4c",
   "metadata": {},
   "outputs": [],
   "source": [
    "cat_cols = ['gender','hypertension','heart_disease','ever_married','work_type','Residence_type','smoking_status','stroke']\n",
    "stroke_data[cat_cols] = stroke_data[cat_cols].apply(lambda x : x.astype(object))"
   ]
  },
  {
   "cell_type": "code",
   "execution_count": 5,
   "id": "3a104c19",
   "metadata": {},
   "outputs": [
    {
     "data": {
      "text/plain": [
       "id                     int64\n",
       "gender                object\n",
       "age                  float64\n",
       "hypertension          object\n",
       "heart_disease         object\n",
       "ever_married          object\n",
       "work_type             object\n",
       "Residence_type        object\n",
       "avg_glucose_level    float64\n",
       "bmi                  float64\n",
       "smoking_status        object\n",
       "stroke                object\n",
       "dtype: object"
      ]
     },
     "execution_count": 5,
     "metadata": {},
     "output_type": "execute_result"
    }
   ],
   "source": [
    "stroke_data.dtypes"
   ]
  },
  {
   "cell_type": "code",
   "execution_count": 6,
   "id": "52b584a9",
   "metadata": {},
   "outputs": [
    {
     "data": {
      "text/plain": [
       "id                     0\n",
       "gender                 0\n",
       "age                    0\n",
       "hypertension           0\n",
       "heart_disease          0\n",
       "ever_married           0\n",
       "work_type              0\n",
       "Residence_type         0\n",
       "avg_glucose_level      0\n",
       "bmi                  201\n",
       "smoking_status         0\n",
       "stroke                 0\n",
       "dtype: int64"
      ]
     },
     "execution_count": 6,
     "metadata": {},
     "output_type": "execute_result"
    }
   ],
   "source": [
    "stroke_data.isnull().sum() ## bmi with missing value"
   ]
  },
  {
   "cell_type": "markdown",
   "id": "5089cdd9",
   "metadata": {},
   "source": [
    "##### Exploratory Analysis - observations\n",
    "* imbalanced data, cases with stroke(target) ~ 4.8% \n",
    "* people without stroke are of mean age 42, while getting stroke are of age 68 \n",
    "* Out of people getting stroke 88% were married and 11% unmarried, while with no stroke 65% were married, although there is huge imbalance in the classes present.\n",
    "* 18% have heart disease among people getting stroke.\n",
    "* 26% have hypertension among people getting stroke while in non stroke category it is 9%.\n",
    "* Among people getting stroke 46% are rural and 54%  urban \n",
    "* Among people getting stroke 28% formerly smoked while in non stroke category 17% were former smokers,~ 36% never smoked in stroke category and it is similar in non stroke category as well.\n",
    "* minute difference in average/median bmi of both stroke and non stroke classes\n",
    "* high glucose level among stroke patients ~ avg 132, while for non stroke 104\n",
    "####### differentiating factors among stroke and non stroke categories from initial analysis are age,glucose level, ever_married,heart_disease,hypertension.\n",
    "* Based on chi square test below variables have association with stroke variable \n",
    "{'hypertension','heart_disease','ever_married','work_type','smoking_status'} and these must be included in model building"
   ]
  },
  {
   "cell_type": "code",
   "execution_count": 7,
   "id": "2aa82d03",
   "metadata": {},
   "outputs": [
    {
     "name": "stdout",
     "output_type": "stream",
     "text": [
      "0    0.951272\n",
      "1    0.048728\n",
      "Name: stroke, dtype: float64\n"
     ]
    }
   ],
   "source": [
    "print(stroke_data['stroke'].value_counts(normalize=True))## highly imbalanced data, cases with stroke 4.8% \n",
    "# stroke_data['stroke'].value_counts().plot(kind='bar') "
   ]
  },
  {
   "cell_type": "code",
   "execution_count": 8,
   "id": "68cfc0c3",
   "metadata": {},
   "outputs": [
    {
     "data": {
      "text/plain": [
       "<matplotlib.axes._subplots.AxesSubplot at 0x1dc5b2a9348>"
      ]
     },
     "execution_count": 8,
     "metadata": {},
     "output_type": "execute_result"
    },
    {
     "data": {
      "image/png": "[encoded data removed]",
      "text/plain": [
       "<Figure size 640x480 with 1 Axes>"
      ]
     },
     "metadata": {},
     "output_type": "display_data"
    }
   ],
   "source": [
    "sns.barplot(stroke_data['stroke'],stroke_data['age'],palette='Reds') \n",
    "# people without stroke are of mean age 42, while getting stroke are of age 68 "
   ]
  },
  {
   "cell_type": "code",
   "execution_count": 9,
   "id": "08e2cbc4",
   "metadata": {},
   "outputs": [
    {
     "name": "stdout",
     "output_type": "stream",
     "text": [
      "ever_married    No   Yes\n",
      "stroke                  \n",
      "0             1728  3133\n",
      "1               29   220\n"
     ]
    },
    {
     "data": {
      "text/plain": [
       "<matplotlib.axes._subplots.AxesSubplot at 0x1dc7e58d188>"
      ]
     },
     "execution_count": 9,
     "metadata": {},
     "output_type": "execute_result"
    },
    {
     "data": {
      "image/png": "[encoded data removed]",
      "text/plain": [
       "<Figure size 640x480 with 2 Axes>"
      ]
     },
     "metadata": {},
     "output_type": "display_data"
    }
   ],
   "source": [
    "crosstab = pd.crosstab(stroke_data['stroke'], stroke_data['ever_married'],normalize='columns')*100\n",
    "print(pd.crosstab(stroke_data['stroke'], stroke_data['ever_married']))\n",
    "# Plot the heatmap\n",
    "sns.heatmap(crosstab, annot=True, fmt='.2f', cmap='Reds')\n",
    "\n",
    "## Out of people getting stroke 88% were married and 11% unmarried, \n",
    "#while with no stroke 65% were married, although there is huge imbalance in the classes present."
   ]
  },
  {
   "cell_type": "code",
   "execution_count": 10,
   "id": "016db18b",
   "metadata": {},
   "outputs": [],
   "source": [
    "def chisquare_test(col1,col2):\n",
    "    print(\"*\"*8)\n",
    "    print(f\"finding relation between {col1} and {col2}\")\n",
    "    contingency_table = pd.crosstab(stroke_data[col1], stroke_data[col2])\n",
    "    # Perform Chi-Square Test\n",
    "    chi2, p, dof, expected = chi2_contingency(contingency_table)\n",
    "\n",
    "    print(f\"Chi2 Statistic: {chi2}\")\n",
    "    print(f\"P-value: {p}\")\n",
    "    #print(f\"Degrees of Freedom: {dof}\")\n",
    "    #print(f\"Expected Frequencies:\\n{expected}\")\n",
    "    \n",
    "    if p<0.05:\n",
    "        return f\"association between {col1} and {col2}\"\n",
    "    else:\n",
    "        return f\"No association between {col1} and {col2}\"\n",
    "\n",
    "    ## small p value shows relationship between stroke and ever_married\n"
   ]
  },
  {
   "cell_type": "code",
   "execution_count": 11,
   "id": "d0b8f3db",
   "metadata": {},
   "outputs": [
    {
     "name": "stdout",
     "output_type": "stream",
     "text": [
      "********\n",
      "finding relation between stroke and gender\n",
      "Chi2 Statistic: 0.47258662884530234\n",
      "P-value: 0.7895490538408245\n",
      "********\n",
      "finding relation between stroke and hypertension\n",
      "Chi2 Statistic: 81.6053682482931\n",
      "P-value: 1.661621901511823e-19\n",
      "********\n",
      "finding relation between stroke and heart_disease\n",
      "Chi2 Statistic: 90.25956125843324\n",
      "P-value: 2.088784568522924e-21\n",
      "********\n",
      "finding relation between stroke and ever_married\n",
      "Chi2 Statistic: 58.923890259034195\n",
      "P-value: 1.6389021142314745e-14\n",
      "********\n",
      "finding relation between stroke and work_type\n",
      "Chi2 Statistic: 49.163511976675295\n",
      "P-value: 5.397707801896119e-10\n",
      "********\n",
      "finding relation between stroke and Residence_type\n",
      "Chi2 Statistic: 1.0816367471627524\n",
      "P-value: 0.29833169286876987\n",
      "********\n",
      "finding relation between stroke and smoking_status\n",
      "Chi2 Statistic: 29.147269191399264\n",
      "P-value: 2.0853997025008455e-06\n"
     ]
    }
   ],
   "source": [
    "cat_cols = ['gender',\n",
    " 'hypertension',\n",
    " 'heart_disease',\n",
    " 'ever_married',\n",
    " 'work_type',\n",
    " 'Residence_type',\n",
    " 'smoking_status']\n",
    "\n",
    "chi_square_res = {}\n",
    "for i in cat_cols:\n",
    "    chi_square_res[i] =  chisquare_test(\"stroke\",i)"
   ]
  },
  {
   "cell_type": "code",
   "execution_count": 12,
   "id": "ea7d8891",
   "metadata": {},
   "outputs": [
    {
     "data": {
      "text/plain": [
       "{'gender': 'No association between stroke and gender',\n",
       " 'hypertension': 'association between stroke and hypertension',\n",
       " 'heart_disease': 'association between stroke and heart_disease',\n",
       " 'ever_married': 'association between stroke and ever_married',\n",
       " 'work_type': 'association between stroke and work_type',\n",
       " 'Residence_type': 'No association between stroke and Residence_type',\n",
       " 'smoking_status': 'association between stroke and smoking_status'}"
      ]
     },
     "execution_count": 12,
     "metadata": {},
     "output_type": "execute_result"
    }
   ],
   "source": [
    "chi_square_res"
   ]
  },
  {
   "cell_type": "code",
   "execution_count": 13,
   "id": "3b4f1c21",
   "metadata": {},
   "outputs": [
    {
     "name": "stdout",
     "output_type": "stream",
     "text": [
      "ever_married    No   Yes\n",
      "stroke                  \n",
      "0             1728  3133\n",
      "1               29   220\n"
     ]
    },
    {
     "data": {
      "text/plain": [
       "<matplotlib.axes._subplots.AxesSubplot at 0x1dc7e4f6f08>"
      ]
     },
     "execution_count": 13,
     "metadata": {},
     "output_type": "execute_result"
    },
    {
     "data": {
      "image/png": "[encoded data removed]",
      "text/plain": [
       "<Figure size 640x480 with 2 Axes>"
      ]
     },
     "metadata": {},
     "output_type": "display_data"
    }
   ],
   "source": [
    "crosstab = pd.crosstab(stroke_data['stroke'], stroke_data['ever_married'],normalize='index')*100\n",
    "print(pd.crosstab(stroke_data['stroke'], stroke_data['ever_married']))\n",
    "# Plot the heatmap\n",
    "sns.heatmap(crosstab, annot=True, fmt='.2f', cmap='Reds')\n",
    "\n",
    "## Out of people getting stroke 88% were married and 11% unmarried, \n",
    "#while with no stroke 65% were married, although there is huge imbalance in the classes present."
   ]
  },
  {
   "cell_type": "code",
   "execution_count": 14,
   "id": "6407344a",
   "metadata": {},
   "outputs": [
    {
     "name": "stdout",
     "output_type": "stream",
     "text": [
      "heart_disease     0    1\n",
      "stroke                  \n",
      "0              4632  229\n",
      "1               202   47\n"
     ]
    },
    {
     "data": {
      "text/plain": [
       "<matplotlib.axes._subplots.AxesSubplot at 0x1dc7e716948>"
      ]
     },
     "execution_count": 14,
     "metadata": {},
     "output_type": "execute_result"
    },
    {
     "data": {
      "image/png": "[encoded data removed]",
      "text/plain": [
       "<Figure size 640x480 with 2 Axes>"
      ]
     },
     "metadata": {},
     "output_type": "display_data"
    }
   ],
   "source": [
    "crosstab = pd.crosstab(stroke_data['stroke'], stroke_data['heart_disease'],normalize ='index')*100\n",
    "print(pd.crosstab(stroke_data['stroke'], stroke_data['heart_disease']))\n",
    "# Plot the heatmap\n",
    "sns.heatmap(crosstab, annot=True, fmt='.2f', cmap='Reds')\n",
    "#18% have heart disease among people getting stroke."
   ]
  },
  {
   "cell_type": "code",
   "execution_count": 15,
   "id": "1baacff1",
   "metadata": {},
   "outputs": [
    {
     "name": "stdout",
     "output_type": "stream",
     "text": [
      "hypertension     0    1\n",
      "stroke                 \n",
      "0             4429  432\n",
      "1              183   66\n"
     ]
    },
    {
     "data": {
      "text/plain": [
       "<matplotlib.axes._subplots.AxesSubplot at 0x1dc7e62f748>"
      ]
     },
     "execution_count": 15,
     "metadata": {},
     "output_type": "execute_result"
    },
    {
     "data": {
      "image/png": "[encoded data removed]",
      "text/plain": [
       "<Figure size 640x480 with 2 Axes>"
      ]
     },
     "metadata": {},
     "output_type": "display_data"
    }
   ],
   "source": [
    "crosstab = pd.crosstab(stroke_data['stroke'], stroke_data['hypertension'],normalize ='index')*100\n",
    "print( pd.crosstab(stroke_data['stroke'], stroke_data['hypertension']))\n",
    "# Plot the heatmap\n",
    "sns.heatmap(crosstab, annot=True, fmt='.2f', cmap='Reds')\n",
    "#26% have hypertension among people getting stroke while in non stroke category it is 9%."
   ]
  },
  {
   "cell_type": "code",
   "execution_count": 16,
   "id": "8d424c82",
   "metadata": {},
   "outputs": [
    {
     "name": "stdout",
     "output_type": "stream",
     "text": [
      "Residence_type  Rural  Urban\n",
      "stroke                      \n",
      "0                2400   2461\n",
      "1                 114    135\n"
     ]
    },
    {
     "data": {
      "text/plain": [
       "<matplotlib.axes._subplots.AxesSubplot at 0x1dc7e6cf808>"
      ]
     },
     "execution_count": 16,
     "metadata": {},
     "output_type": "execute_result"
    },
    {
     "data": {
      "image/png": "[encoded data removed]",
      "text/plain": [
       "<Figure size 640x480 with 2 Axes>"
      ]
     },
     "metadata": {},
     "output_type": "display_data"
    }
   ],
   "source": [
    "crosstab = pd.crosstab(stroke_data['stroke'], stroke_data['Residence_type'],normalize ='index')*100\n",
    "print( pd.crosstab(stroke_data['stroke'], stroke_data['Residence_type']))\n",
    "# Plot the heatmap\n",
    "sns.heatmap(crosstab, annot=True, fmt='.2f', cmap='Reds')\n",
    "#among people getting storke 46% are rural and 54%  urban "
   ]
  },
  {
   "cell_type": "code",
   "execution_count": 17,
   "id": "a50c2bae",
   "metadata": {},
   "outputs": [
    {
     "name": "stdout",
     "output_type": "stream",
     "text": [
      "smoking_status    Unknown  formerly smoked  never smoked     smokes\n",
      "stroke                                                             \n",
      "0               30.796132        16.766098     37.070562  15.367208\n",
      "1               18.875502        28.112450     36.144578  16.867470\n"
     ]
    },
    {
     "data": {
      "text/plain": [
       "<matplotlib.axes._subplots.AxesSubplot at 0x1dc7e7b1288>"
      ]
     },
     "execution_count": 17,
     "metadata": {},
     "output_type": "execute_result"
    },
    {
     "data": {
      "image/png": "[encoded data removed]",
      "text/plain": [
       "<Figure size 640x480 with 2 Axes>"
      ]
     },
     "metadata": {},
     "output_type": "display_data"
    }
   ],
   "source": [
    "crosstab = pd.crosstab(stroke_data['stroke'], stroke_data['smoking_status'],normalize='index')*100\n",
    "print(crosstab)\n",
    "# Plot the heatmap\n",
    "sns.heatmap(crosstab, annot=True, fmt='.2f', cmap='Reds')\n",
    "\n",
    "## among people getting stroke 28% formerly smoked while in non stroke category 17% were former smokers,\n",
    "# ~ 36% never smoked in stroke category and it is similar in non stroke category as well."
   ]
  },
  {
   "cell_type": "code",
   "execution_count": 18,
   "id": "43b73f6a",
   "metadata": {},
   "outputs": [
    {
     "name": "stdout",
     "output_type": "stream",
     "text": [
      "stroke\n",
      "0    28.0\n",
      "1    29.7\n",
      "Name: bmi, dtype: float64\n"
     ]
    },
    {
     "data": {
      "text/plain": [
       "<matplotlib.axes._subplots.AxesSubplot at 0x1dc7e999ec8>"
      ]
     },
     "execution_count": 18,
     "metadata": {},
     "output_type": "execute_result"
    },
    {
     "data": {
      "image/png": "[encoded data removed]",
      "text/plain": [
       "<Figure size 640x480 with 1 Axes>"
      ]
     },
     "metadata": {},
     "output_type": "display_data"
    }
   ],
   "source": [
    "print(stroke_data.groupby(['stroke'])['bmi'].median())\n",
    "sns.barplot(stroke_data['stroke'],stroke_data['bmi'],palette ='Reds')\n",
    "\n",
    "## minute difference in average/median bmi of both stroke and non stroke classes"
   ]
  },
  {
   "cell_type": "code",
   "execution_count": 19,
   "id": "9c42b5bd",
   "metadata": {},
   "outputs": [
    {
     "name": "stdout",
     "output_type": "stream",
     "text": [
      "stroke\n",
      "0    104.795513\n",
      "1    132.544739\n",
      "Name: avg_glucose_level, dtype: float64\n"
     ]
    },
    {
     "data": {
      "text/plain": [
       "<matplotlib.axes._subplots.AxesSubplot at 0x1dc7e8838c8>"
      ]
     },
     "execution_count": 19,
     "metadata": {},
     "output_type": "execute_result"
    },
    {
     "data": {
      "image/png": "[encoded data removed]",
      "text/plain": [
       "<Figure size 640x480 with 1 Axes>"
      ]
     },
     "metadata": {},
     "output_type": "display_data"
    }
   ],
   "source": [
    "print(stroke_data.groupby(['stroke'])['avg_glucose_level'].mean())\n",
    "sns.barplot(stroke_data['stroke'],stroke_data['avg_glucose_level'],palette='Reds')\n",
    "## high glucose level among stroke patients ~ avg 105, while for non stroke 92"
   ]
  },
  {
   "cell_type": "markdown",
   "id": "9397223c",
   "metadata": {},
   "source": [
    "#### Observations from num variables :-\n",
    "* data has age as low as 0.08 and max age 82\n",
    "* bmi is also high range 10-97\n",
    "* mostly glucose level is concentrated around <114 , however goes till max 271\n",
    "* class 0 with median glucose 91, while class 1 with median glucose 105,  class 0 has all the outliers\n",
    "* median age around 43 for class 0 while 71 for stroke, confirming the fact old age has higher chances of stroke.\n",
    "* similar bmi at median level for both classes, however outliers present at higher side for both classes\n",
    "\n",
    "##### age and average glucose level show differences at class level of stroke variable"
   ]
  },
  {
   "cell_type": "code",
   "execution_count": 20,
   "id": "acf86d57",
   "metadata": {},
   "outputs": [
    {
     "data": {
      "text/plain": [
       "<matplotlib.axes._subplots.AxesSubplot at 0x1dc7e8dd288>"
      ]
     },
     "execution_count": 20,
     "metadata": {},
     "output_type": "execute_result"
    },
    {
     "data": {
      "image/png": "[encoded data removed]",
      "text/plain": [
       "<Figure size 640x480 with 1 Axes>"
      ]
     },
     "metadata": {},
     "output_type": "display_data"
    }
   ],
   "source": [
    "stroke_data['age'].hist()\n",
    "## data has age as low as 0.08 and max age 82\n"
   ]
  },
  {
   "cell_type": "code",
   "execution_count": 21,
   "id": "41100c45",
   "metadata": {},
   "outputs": [],
   "source": [
    "# !pip install numpy==1.16.5"
   ]
  },
  {
   "cell_type": "code",
   "execution_count": 22,
   "id": "389d3572",
   "metadata": {},
   "outputs": [
    {
     "data": {
      "text/html": [
       "<div>\n",
       "<style scoped>\n",
       "    .dataframe tbody tr th:only-of-type {\n",
       "        vertical-align: middle;\n",
       "    }\n",
       "\n",
       "    .dataframe tbody tr th {\n",
       "        vertical-align: top;\n",
       "    }\n",
       "\n",
       "    .dataframe thead th {\n",
       "        text-align: right;\n",
       "    }\n",
       "</style>\n",
       "<table border=\"1\" class=\"dataframe\">\n",
       "  <thead>\n",
       "    <tr style=\"text-align: right;\">\n",
       "      <th></th>\n",
       "      <th>age</th>\n",
       "      <th>avg_glucose_level</th>\n",
       "      <th>bmi</th>\n",
       "    </tr>\n",
       "  </thead>\n",
       "  <tbody>\n",
       "    <tr>\n",
       "      <th>count</th>\n",
       "      <td>5110.000000</td>\n",
       "      <td>5110.000000</td>\n",
       "      <td>4909.000000</td>\n",
       "    </tr>\n",
       "    <tr>\n",
       "      <th>mean</th>\n",
       "      <td>43.226614</td>\n",
       "      <td>106.147677</td>\n",
       "      <td>28.893237</td>\n",
       "    </tr>\n",
       "    <tr>\n",
       "      <th>std</th>\n",
       "      <td>22.612647</td>\n",
       "      <td>45.283560</td>\n",
       "      <td>7.854067</td>\n",
       "    </tr>\n",
       "    <tr>\n",
       "      <th>min</th>\n",
       "      <td>0.080000</td>\n",
       "      <td>55.120000</td>\n",
       "      <td>10.300000</td>\n",
       "    </tr>\n",
       "    <tr>\n",
       "      <th>25%</th>\n",
       "      <td>25.000000</td>\n",
       "      <td>77.245000</td>\n",
       "      <td>23.500000</td>\n",
       "    </tr>\n",
       "    <tr>\n",
       "      <th>50%</th>\n",
       "      <td>45.000000</td>\n",
       "      <td>91.885000</td>\n",
       "      <td>28.100000</td>\n",
       "    </tr>\n",
       "    <tr>\n",
       "      <th>75%</th>\n",
       "      <td>61.000000</td>\n",
       "      <td>114.090000</td>\n",
       "      <td>33.100000</td>\n",
       "    </tr>\n",
       "    <tr>\n",
       "      <th>max</th>\n",
       "      <td>82.000000</td>\n",
       "      <td>271.740000</td>\n",
       "      <td>97.600000</td>\n",
       "    </tr>\n",
       "  </tbody>\n",
       "</table>\n",
       "</div>"
      ],
      "text/plain": [
       "               age  avg_glucose_level          bmi\n",
       "count  5110.000000        5110.000000  4909.000000\n",
       "mean     43.226614         106.147677    28.893237\n",
       "std      22.612647          45.283560     7.854067\n",
       "min       0.080000          55.120000    10.300000\n",
       "25%      25.000000          77.245000    23.500000\n",
       "50%      45.000000          91.885000    28.100000\n",
       "75%      61.000000         114.090000    33.100000\n",
       "max      82.000000         271.740000    97.600000"
      ]
     },
     "execution_count": 22,
     "metadata": {},
     "output_type": "execute_result"
    }
   ],
   "source": [
    "stroke_data[['age','avg_glucose_level','bmi']].describe()\n",
    "# bmi ranges from 10-97\n",
    "# glucose range from 55-271 -quite wide"
   ]
  },
  {
   "cell_type": "code",
   "execution_count": 23,
   "id": "41faac56",
   "metadata": {},
   "outputs": [
    {
     "data": {
      "text/plain": [
       "<matplotlib.axes._subplots.AxesSubplot at 0x1dc7e966bc8>"
      ]
     },
     "execution_count": 23,
     "metadata": {},
     "output_type": "execute_result"
    },
    {
     "data": {
      "image/png": "[encoded data removed]",
      "text/plain": [
       "<Figure size 640x480 with 1 Axes>"
      ]
     },
     "metadata": {},
     "output_type": "display_data"
    }
   ],
   "source": [
    "## mostly glucose level is concentrated around <114 , however goes till max 271\n",
    "stroke_data['avg_glucose_level'].hist()"
   ]
  },
  {
   "cell_type": "code",
   "execution_count": 24,
   "id": "c71ab466",
   "metadata": {},
   "outputs": [
    {
     "name": "stdout",
     "output_type": "stream",
     "text": [
      "stroke\n",
      "0     91.47\n",
      "1    105.22\n",
      "Name: avg_glucose_level, dtype: float64\n"
     ]
    },
    {
     "data": {
      "text/plain": [
       "<matplotlib.axes._subplots.AxesSubplot at 0x1dc7eb5e7c8>"
      ]
     },
     "execution_count": 24,
     "metadata": {},
     "output_type": "execute_result"
    },
    {
     "data": {
      "image/png": "[encoded data removed]",
      "text/plain": [
       "<Figure size 640x480 with 1 Axes>"
      ]
     },
     "metadata": {},
     "output_type": "display_data"
    }
   ],
   "source": [
    "print(stroke_data.groupby(['stroke'])['avg_glucose_level'].median())\n",
    "## class 0 with median glucose 91, while class 1 with median glucose 105\n",
    "# lets understand it at stroke level, class 0 has all the outliers\n",
    "sns.boxplot(y = stroke_data['avg_glucose_level'],x = stroke_data['stroke'],palette = 'Reds')"
   ]
  },
  {
   "cell_type": "code",
   "execution_count": 25,
   "id": "f217d8e8",
   "metadata": {},
   "outputs": [
    {
     "name": "stdout",
     "output_type": "stream",
     "text": [
      "stroke\n",
      "0    43.0\n",
      "1    71.0\n",
      "Name: age, dtype: float64\n"
     ]
    },
    {
     "data": {
      "text/plain": [
       "<matplotlib.axes._subplots.AxesSubplot at 0x1dc7ebd26c8>"
      ]
     },
     "execution_count": 25,
     "metadata": {},
     "output_type": "execute_result"
    },
    {
     "data": {
      "image/png": "[encoded data removed]",
      "text/plain": [
       "<Figure size 640x480 with 1 Axes>"
      ]
     },
     "metadata": {},
     "output_type": "display_data"
    }
   ],
   "source": [
    "print(stroke_data.groupby(['stroke'])['age'].median())\n",
    "## median age around 43 for class 0 while 71 for stroke, confirming the fact old age has higher chances of stroke.\n",
    "sns.boxplot(y = stroke_data['age'],x = stroke_data['stroke'],palette = 'Reds')"
   ]
  },
  {
   "cell_type": "code",
   "execution_count": 26,
   "id": "894038e5",
   "metadata": {},
   "outputs": [
    {
     "name": "stdout",
     "output_type": "stream",
     "text": [
      "stroke\n",
      "0    28.0\n",
      "1    29.7\n",
      "Name: bmi, dtype: float64\n"
     ]
    },
    {
     "data": {
      "text/plain": [
       "<matplotlib.axes._subplots.AxesSubplot at 0x1dc7fc18d88>"
      ]
     },
     "execution_count": 26,
     "metadata": {},
     "output_type": "execute_result"
    },
    {
     "data": {
      "image/png": "[encoded data removed]",
      "text/plain": [
       "<Figure size 640x480 with 1 Axes>"
      ]
     },
     "metadata": {},
     "output_type": "display_data"
    }
   ],
   "source": [
    "print(stroke_data.groupby(['stroke'])['bmi'].median()) ## similar bmi at median level for both classes, however outliers present at higher side for both classes\n",
    "sns.boxplot(y = stroke_data['bmi'],x = stroke_data['stroke'],palette = 'Reds')"
   ]
  },
  {
   "cell_type": "code",
   "execution_count": 27,
   "id": "b448daad",
   "metadata": {},
   "outputs": [
    {
     "data": {
      "text/plain": [
       "<matplotlib.axes._subplots.AxesSubplot at 0x1dc7fdb7c88>"
      ]
     },
     "execution_count": 27,
     "metadata": {},
     "output_type": "execute_result"
    },
    {
     "data": {
      "image/png": "[encoded data removed]",
      "text/plain": [
       "<Figure size 640x480 with 2 Axes>"
      ]
     },
     "metadata": {},
     "output_type": "display_data"
    }
   ],
   "source": [
    "sns.heatmap(stroke_data.drop(['id'],axis=1).corr(),annot=True) ## not a notifiable correlation between num variables."
   ]
  },
  {
   "cell_type": "markdown",
   "id": "71647479",
   "metadata": {},
   "source": [
    "Feature Selection"
   ]
  },
  {
   "cell_type": "code",
   "execution_count": 28,
   "id": "ff02c69c",
   "metadata": {},
   "outputs": [],
   "source": [
    "def IV(col,target,df):\n",
    "        # Binning the feature for num cols\n",
    "        if df[col].dtype!=\"object\":\n",
    "            df['feature_bin'] = pd.qcut(df[col], q=5)\n",
    "            grouped = df.groupby('feature_bin')[target].agg(['count', 'sum'])\n",
    "            df.drop(['feature_bin'],axis=1,inplace=True)\n",
    "        else:\n",
    "            grouped = df.groupby(col)[target].agg(['count', 'sum'])\n",
    "       \n",
    "        grouped.columns = ['total', 'bads']\n",
    "        grouped['goods'] = grouped['total'] - grouped['bads']\n",
    "        grouped['dist_goods'] = grouped['goods'] / grouped['goods'].sum()\n",
    "        grouped['dist_bads'] = grouped['bads'] / grouped['bads'].sum()\n",
    "        \n",
    "        # Handle division by zero in WoE calculation\n",
    "        def calculate_woe(dist_goods, dist_bads):\n",
    "            if dist_bads == 0:\n",
    "                return np.log(dist_goods / 1e-10)  # Set dist_bads to a very small number\n",
    "            elif dist_goods == 0:\n",
    "                return np.log(1e-10 / dist_bads)  # Set dist_goods to a very small number\n",
    "            else:\n",
    "                return np.log(dist_goods / dist_bads)\n",
    "\n",
    "        grouped['woe'] = grouped.apply(lambda row: calculate_woe(row['dist_goods'], row['dist_bads']), axis=1)\n",
    "        grouped['iv'] = (grouped['dist_goods'] - grouped['dist_bads']) * grouped['woe']\n",
    "        # Information Value\n",
    "        iv = grouped['iv'].sum()\n",
    "        print(f\"IV of {col}: {iv}\")\n",
    "        \n",
    "        # Classification based on IV value\n",
    "        if iv < 0.02:\n",
    "            print(\"---This is a useless predictor.---\")\n",
    "        elif iv < 0.1:\n",
    "            print(\"---This is a weak predictor.---\")\n",
    "        elif iv < 0.3:\n",
    "            print(\"---This is a medium predictor.---\")\n",
    "        elif iv < 0.5:\n",
    "            print(\"---This is a strong predictor.---\")\n",
    "        else:\n",
    "            print(\"---This predictor is suspiciously strong or too good to be true.---\")\n",
    "\n",
    "#Interpretation        \n",
    "# IV < 0.02: Useless predictor\n",
    "# 0.02 ≤ IV < 0.1: Weak predictor\n",
    "# 0.1 ≤ IV < 0.3: Medium predictor\n",
    "# 0.3 ≤ IV < 0.5: Strong predictor\n",
    "# IV ≥ 0.5: Suspicious or too good to be true"
   ]
  },
  {
   "cell_type": "code",
   "execution_count": 29,
   "id": "ba4eb3f7",
   "metadata": {},
   "outputs": [
    {
     "name": "stdout",
     "output_type": "stream",
     "text": [
      "IV of gender: 0.004758090307134962\n",
      "---This is a useless predictor.---\n",
      "IV of age: 1.9746376169687632\n",
      "---This predictor is suspiciously strong or too good to be true.---\n",
      "IV of hypertension: 0.23039827504967964\n",
      "---This is a medium predictor.---\n",
      "IV of heart_disease: 0.21939478843379812\n",
      "---This is a medium predictor.---\n",
      "IV of ever_married: 0.34210566920164676\n",
      "---This is a strong predictor.---\n",
      "IV of work_type: 0.5170119688091608\n",
      "---This predictor is suspiciously strong or too good to be true.---\n",
      "IV of Residence_type: 0.0051679564185847715\n",
      "---This is a useless predictor.---\n",
      "IV of avg_glucose_level: 0.22730212848247705\n",
      "---This is a medium predictor.---\n",
      "IV of bmi: 0.18042486504631863\n",
      "---This is a medium predictor.---\n",
      "IV of smoking_status: 0.11863016115683239\n",
      "---This is a medium predictor.---\n"
     ]
    }
   ],
   "source": [
    "indep_cols = ['gender', 'age', 'hypertension', 'heart_disease', 'ever_married',\n",
    "       'work_type', 'Residence_type', 'avg_glucose_level', 'bmi',\n",
    "       'smoking_status']\n",
    "for col in indep_cols:\n",
    "    IV(col,'stroke',stroke_data)\n",
    "\n",
    "    \n",
    "## these results are quite inline with chi square test also."
   ]
  },
  {
   "cell_type": "markdown",
   "id": "a0cd793d",
   "metadata": {},
   "source": [
    "#### Missing value handle in BMI"
   ]
  },
  {
   "cell_type": "code",
   "execution_count": 30,
   "id": "9f8296c0",
   "metadata": {},
   "outputs": [],
   "source": [
    "# checking bmi means for various categorical columns"
   ]
  },
  {
   "cell_type": "code",
   "execution_count": 31,
   "id": "bcd1656a",
   "metadata": {},
   "outputs": [
    {
     "data": {
      "text/html": [
       "<div>\n",
       "<style scoped>\n",
       "    .dataframe tbody tr th:only-of-type {\n",
       "        vertical-align: middle;\n",
       "    }\n",
       "\n",
       "    .dataframe tbody tr th {\n",
       "        vertical-align: top;\n",
       "    }\n",
       "\n",
       "    .dataframe thead th {\n",
       "        text-align: right;\n",
       "    }\n",
       "</style>\n",
       "<table border=\"1\" class=\"dataframe\">\n",
       "  <thead>\n",
       "    <tr style=\"text-align: right;\">\n",
       "      <th></th>\n",
       "      <th>work_type</th>\n",
       "      <th>bmi</th>\n",
       "    </tr>\n",
       "  </thead>\n",
       "  <tbody>\n",
       "    <tr>\n",
       "      <th>0</th>\n",
       "      <td>Govt_job</td>\n",
       "      <td>30.522063</td>\n",
       "    </tr>\n",
       "    <tr>\n",
       "      <th>1</th>\n",
       "      <td>Never_worked</td>\n",
       "      <td>25.545455</td>\n",
       "    </tr>\n",
       "    <tr>\n",
       "      <th>2</th>\n",
       "      <td>Private</td>\n",
       "      <td>30.304625</td>\n",
       "    </tr>\n",
       "    <tr>\n",
       "      <th>3</th>\n",
       "      <td>Self-employed</td>\n",
       "      <td>30.211871</td>\n",
       "    </tr>\n",
       "    <tr>\n",
       "      <th>4</th>\n",
       "      <td>children</td>\n",
       "      <td>20.038003</td>\n",
       "    </tr>\n",
       "  </tbody>\n",
       "</table>\n",
       "</div>"
      ],
      "text/plain": [
       "       work_type        bmi\n",
       "0       Govt_job  30.522063\n",
       "1   Never_worked  25.545455\n",
       "2        Private  30.304625\n",
       "3  Self-employed  30.211871\n",
       "4       children  20.038003"
      ]
     },
     "execution_count": 31,
     "metadata": {},
     "output_type": "execute_result"
    }
   ],
   "source": [
    "grouped_data = stroke_data.groupby(['work_type'])['bmi'].mean().reset_index() #, age, residence type, doesnt have a differentiating bmis across categories\n",
    "## work type can be a good proxy for filling bmi as it has children , never worked categories with low median\n",
    "grouped_data"
   ]
  },
  {
   "cell_type": "code",
   "execution_count": 32,
   "id": "6578e824",
   "metadata": {},
   "outputs": [
    {
     "data": {
      "text/plain": [
       "id                     0\n",
       "gender                 0\n",
       "age                    0\n",
       "hypertension           0\n",
       "heart_disease          0\n",
       "ever_married           0\n",
       "work_type              0\n",
       "Residence_type         0\n",
       "avg_glucose_level      0\n",
       "bmi                  201\n",
       "smoking_status         0\n",
       "stroke                 0\n",
       "dtype: int64"
      ]
     },
     "execution_count": 32,
     "metadata": {},
     "output_type": "execute_result"
    }
   ],
   "source": [
    "stroke_data.isnull().sum()"
   ]
  },
  {
   "cell_type": "code",
   "execution_count": 33,
   "id": "1cfe6120",
   "metadata": {},
   "outputs": [],
   "source": [
    "map_dict = dict(zip(grouped_data['work_type'],grouped_data['bmi']))\n",
    "# Fill NaN values in 'bmi' based on 'work_type' using map_dict\n",
    "#stroke_data['bmi_new'] = stroke_data.apply(lambda row: map_dict[row['work_type']] if pd.isna(row['bmi']) else row['bmi'], axis=1)\n",
    "\n",
    "stroke_data['bmi_new1']= stroke_data['work_type'].map(map_dict)\n",
    "stroke_data['bmi'].fillna(stroke_data['bmi_new1'],inplace=True)\n",
    "stroke_data.drop(['bmi_new1'],inplace=True,axis=1)\n"
   ]
  },
  {
   "cell_type": "code",
   "execution_count": 34,
   "id": "0f2ade9a",
   "metadata": {},
   "outputs": [
    {
     "data": {
      "text/plain": [
       "count    5110.000000\n",
       "mean       28.916958\n",
       "std         7.718674\n",
       "min        10.300000\n",
       "25%        23.700000\n",
       "50%        28.400000\n",
       "75%        32.800000\n",
       "max        97.600000\n",
       "Name: bmi, dtype: float64"
      ]
     },
     "execution_count": 34,
     "metadata": {},
     "output_type": "execute_result"
    }
   ],
   "source": [
    "stroke_data['bmi'].describe()"
   ]
  },
  {
   "cell_type": "code",
   "execution_count": 35,
   "id": "299ca0d5",
   "metadata": {},
   "outputs": [
    {
     "data": {
      "text/plain": [
       "<matplotlib.axes._subplots.AxesSubplot at 0x1dc7fd23208>"
      ]
     },
     "execution_count": 35,
     "metadata": {},
     "output_type": "execute_result"
    },
    {
     "data": {
      "image/png": "[encoded data removed]",
      "text/plain": [
       "<Figure size 640x480 with 1 Axes>"
      ]
     },
     "metadata": {},
     "output_type": "display_data"
    }
   ],
   "source": [
    "sns.boxplot(stroke_data['bmi'])"
   ]
  },
  {
   "cell_type": "markdown",
   "id": "54cf9f1b",
   "metadata": {},
   "source": [
    "#### Outlier handling-\n",
    "* BMI\n",
    "* Avg_glucose_level"
   ]
  },
  {
   "cell_type": "code",
   "execution_count": 36,
   "id": "7da0ee9b",
   "metadata": {},
   "outputs": [],
   "source": [
    "# capping the avg_glucose_level \n",
    "\n",
    "stroke_data['avg_glucose_level'] = mstats.winsorize(stroke_data['avg_glucose_level'], limits=[0, 0.05]) ## 95 percentile on right side"
   ]
  },
  {
   "cell_type": "code",
   "execution_count": 37,
   "id": "cf67a9d5",
   "metadata": {},
   "outputs": [],
   "source": [
    "# capping the bmi \n",
    "\n",
    "stroke_data['bmi'] = mstats.winsorize(stroke_data['bmi'], limits=[0, 0.05]) ## 95 percentile on right side"
   ]
  },
  {
   "cell_type": "code",
   "execution_count": 38,
   "id": "9c79f6e8",
   "metadata": {},
   "outputs": [
    {
     "data": {
      "text/plain": [
       "count    5110.000000\n",
       "mean       28.618562\n",
       "std         6.860420\n",
       "min        10.300000\n",
       "25%        23.700000\n",
       "50%        28.400000\n",
       "75%        32.800000\n",
       "max        42.700000\n",
       "Name: bmi, dtype: float64"
      ]
     },
     "execution_count": 38,
     "metadata": {},
     "output_type": "execute_result"
    }
   ],
   "source": [
    "stroke_data['bmi'].describe()  ## quite aptly reduces outliers "
   ]
  },
  {
   "cell_type": "code",
   "execution_count": 39,
   "id": "7576cc8e",
   "metadata": {},
   "outputs": [
    {
     "data": {
      "text/plain": [
       "<matplotlib.axes._subplots.AxesSubplot at 0x1dc7fd687c8>"
      ]
     },
     "execution_count": 39,
     "metadata": {},
     "output_type": "execute_result"
    },
    {
     "data": {
      "image/png": "[encoded data removed]",
      "text/plain": [
       "<Figure size 640x480 with 1 Axes>"
      ]
     },
     "metadata": {},
     "output_type": "display_data"
    }
   ],
   "source": [
    "sns.boxplot(stroke_data['bmi'])"
   ]
  },
  {
   "cell_type": "code",
   "execution_count": 40,
   "id": "6ac5d4b1",
   "metadata": {},
   "outputs": [
    {
     "data": {
      "text/plain": [
       "<matplotlib.axes._subplots.AxesSubplot at 0x1dc7fccb808>"
      ]
     },
     "execution_count": 40,
     "metadata": {},
     "output_type": "execute_result"
    },
    {
     "data": {
      "image/png": "[encoded data removed]",
      "text/plain": [
       "<Figure size 640x480 with 1 Axes>"
      ]
     },
     "metadata": {},
     "output_type": "display_data"
    }
   ],
   "source": [
    "stroke_data['avg_glucose_level'].hist()"
   ]
  },
  {
   "cell_type": "code",
   "execution_count": 41,
   "id": "5ec2cb0a",
   "metadata": {},
   "outputs": [],
   "source": []
  },
  {
   "cell_type": "code",
   "execution_count": null,
   "id": "c5a43438",
   "metadata": {},
   "outputs": [],
   "source": []
  },
  {
   "cell_type": "code",
   "execution_count": null,
   "id": "fd1f0c7d",
   "metadata": {},
   "outputs": [],
   "source": []
  },
  {
   "cell_type": "code",
   "execution_count": null,
   "id": "4d714e72",
   "metadata": {},
   "outputs": [],
   "source": []
  },
  {
   "cell_type": "code",
   "execution_count": null,
   "id": "eb098d66",
   "metadata": {},
   "outputs": [],
   "source": [
    "## in conclusion what we can do for feature engineer - log of avg_glucose_level\n",
    "## other things to handle imbalance\n",
    "## log to handle outliers apart from capping\n",
    "# np.log10(stroke_data['avg_glucose_level']).hist()\n",
    "\n",
    "Add Anova here and conclude for next steps that in order to predict stroke wha\n"
   ]
  }
 ],
 "metadata": {
  "kernelspec": {
   "display_name": "Python 3 (ipykernel)",
   "language": "python",
   "name": "python3"
  },
  "language_info": {
   "codemirror_mode": {
    "name": "ipython",
    "version": 3
   },
   "file_extension": ".py",
   "mimetype": "text/x-python",
   "name": "python",
   "nbconvert_exporter": "python",
   "pygments_lexer": "ipython3",
   "version": "3.7.16"
  }
 },
 "nbformat": 4,
 "nbformat_minor": 5
}
