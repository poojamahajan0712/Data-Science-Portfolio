{
  "metadata": {
    "kernelspec": {
      "language": "python",
      "display_name": "Python 3",
      "name": "python3"
    },
    "language_info": {
      "name": "python",
      "version": "3.7.10",
      "mimetype": "text/x-python",
      "codemirror_mode": {
        "name": "ipython",
        "version": 3
      },
      "pygments_lexer": "ipython3",
      "nbconvert_exporter": "python",
      "file_extension": ".py"
    },
    "kaggle": {
      "accelerator": "gpu",
      "dataSources": [
        {
          "sourceId": 44284,
          "sourceType": "datasetVersion",
          "datasetId": 33526
        },
        {
          "sourceId": 3727104,
          "sourceType": "datasetVersion",
          "datasetId": 2228631
        },
        {
          "sourceId": 9476626,
          "sourceType": "datasetVersion",
          "datasetId": 5763693
        }
      ],
      "dockerImageVersionId": 30097,
      "isInternetEnabled": true,
      "language": "python",
      "sourceType": "notebook",
      "isGpuEnabled": true
    },
    "colab": {
      "name": "Text-Summarization-With-Transformers",
      "provenance": [],
      "include_colab_link": true
    }
  },
  "nbformat_minor": 0,
  "nbformat": 4,
  "cells": [
    {
      "cell_type": "markdown",
      "metadata": {
        "id": "view-in-github",
        "colab_type": "text"
      },
      "source": [
        "<a href=\"https://colab.research.google.com/github/poojamahajan0712/Data-Science-Portfolio/blob/main/Natural%20Language%20Processing/News%20Summarization/Text_Summarization_With_Transformersv2.ipynb\" target=\"_parent\"><img src=\"https://colab.research.google.com/assets/colab-badge.svg\" alt=\"Open In Colab\"/></a>"
      ]
    },
    {
      "source": [
        "\n",
        "# IMPORTANT: RUN THIS CELL IN ORDER TO IMPORT YOUR KAGGLE DATA SOURCES\n",
        "# TO THE CORRECT LOCATION (/kaggle/input) IN YOUR NOTEBOOK,\n",
        "# THEN FEEL FREE TO DELETE THIS CELL.\n",
        "# NOTE: THIS NOTEBOOK ENVIRONMENT DIFFERS FROM KAGGLE'S PYTHON\n",
        "# ENVIRONMENT SO THERE MAY BE MISSING LIBRARIES USED BY YOUR\n",
        "# NOTEBOOK.\n",
        "\n",
        "import os\n",
        "import sys\n",
        "from tempfile import NamedTemporaryFile\n",
        "from urllib.request import urlopen\n",
        "from urllib.parse import unquote, urlparse\n",
        "from urllib.error import HTTPError\n",
        "from zipfile import ZipFile\n",
        "import tarfile\n",
        "import shutil\n",
        "\n",
        "CHUNK_SIZE = 40960\n",
        "DATA_SOURCE_MAPPING = 'inshorts-news-data:https%3A%2F%2Fstorage.googleapis.com%2Fkaggle-data-sets%2F33526%2F44284%2Fbundle%2Farchive.zip%3FX-Goog-Algorithm%3DGOOG4-RSA-SHA256%26X-Goog-Credential%3Dgcp-kaggle-com%2540kaggle-161607.iam.gserviceaccount.com%252F20240925%252Fauto%252Fstorage%252Fgoog4_request%26X-Goog-Date%3D20240925T083258Z%26X-Goog-Expires%3D259200%26X-Goog-SignedHeaders%3Dhost%26X-Goog-Signature%3Dcb1fc4014a7bae287d8b2ea9da6ced4068feea1cc2e7146ffbc9c63c779b20e49848744f2dbc358d2c0b68867de352cf017aa2a9d7f028890de1b61f38853680fc1cde71ff4708851054a263a4f518871242c7b115ec9c07595c5b711dda4ff3152182d0d7138a73910021eea0f875e2cf3a7140d1f56b8be107f277c759cd10d6e1237e6b1129111831585d2d43d736180c493fcd39c1669ace1f3e798e5274a8f83013bb3bc594582bd633b45c41bacbef14cdadd9ca09c927536cdc885e6c90826b89aea914ef957642b73c1992f07f85801628ff5b89a8d17c11bc1931725796261c713cca8feb9337d391424ede73ce788575080446513a818a1327f89e,input-data:https%3A%2F%2Fstorage.googleapis.com%2Fkaggle-data-sets%2F5763693%2F9476626%2Fbundle%2Farchive.zip%3FX-Goog-Algorithm%3DGOOG4-RSA-SHA256%26X-Goog-Credential%3Dgcp-kaggle-com%2540kaggle-161607.iam.gserviceaccount.com%252F20240925%252Fauto%252Fstorage%252Fgoog4_request%26X-Goog-Date%3D20240925T083258Z%26X-Goog-Expires%3D259200%26X-Goog-SignedHeaders%3Dhost%26X-Goog-Signature%3Dbfacac10be753c26fe890e1e90aa153e85cf469907a8e807895b487c30d3453a52fbcb46ef3b59df710eb6cd80aed6dea5ee3fd0110e5ff9e663aecfa57f69973ef1f79297e5b9a2dec327a1d6e952959c5ab36ff182dacb50bbb111d6781cef58969552583b382040c844872f3e9494d33eb26aaaac85eb163fdac983d24f045c5724564a76d1b925834ecfc4471417b30ca942cf815e094b37ebbbe52014b42fe8887a0cf68a5399bb47cc4b4a4883c63816d4246a09cbba208f4d7db4484ac639a316a4f9991ac8de616f322551000cebd380e4631479a530f41987a01a599fc8b827b00acaea2eb947bd9c30d2b2a2e44e60688303b66a56d7ad67ed43f8'\n",
        "\n",
        "KAGGLE_INPUT_PATH='/kaggle/input'\n",
        "KAGGLE_WORKING_PATH='/kaggle/working'\n",
        "KAGGLE_SYMLINK='kaggle'\n",
        "\n",
        "!umount /kaggle/input/ 2> /dev/null\n",
        "shutil.rmtree('/kaggle/input', ignore_errors=True)\n",
        "os.makedirs(KAGGLE_INPUT_PATH, 0o777, exist_ok=True)\n",
        "os.makedirs(KAGGLE_WORKING_PATH, 0o777, exist_ok=True)\n",
        "\n",
        "try:\n",
        "  os.symlink(KAGGLE_INPUT_PATH, os.path.join(\"..\", 'input'), target_is_directory=True)\n",
        "except FileExistsError:\n",
        "  pass\n",
        "try:\n",
        "  os.symlink(KAGGLE_WORKING_PATH, os.path.join(\"..\", 'working'), target_is_directory=True)\n",
        "except FileExistsError:\n",
        "  pass\n",
        "\n",
        "for data_source_mapping in DATA_SOURCE_MAPPING.split(','):\n",
        "    directory, download_url_encoded = data_source_mapping.split(':')\n",
        "    download_url = unquote(download_url_encoded)\n",
        "    filename = urlparse(download_url).path\n",
        "    destination_path = os.path.join(KAGGLE_INPUT_PATH, directory)\n",
        "    try:\n",
        "        with urlopen(download_url) as fileres, NamedTemporaryFile() as tfile:\n",
        "            total_length = fileres.headers['content-length']\n",
        "            print(f'Downloading {directory}, {total_length} bytes compressed')\n",
        "            dl = 0\n",
        "            data = fileres.read(CHUNK_SIZE)\n",
        "            while len(data) > 0:\n",
        "                dl += len(data)\n",
        "                tfile.write(data)\n",
        "                done = int(50 * dl / int(total_length))\n",
        "                sys.stdout.write(f\"\\r[{'=' * done}{' ' * (50-done)}] {dl} bytes downloaded\")\n",
        "                sys.stdout.flush()\n",
        "                data = fileres.read(CHUNK_SIZE)\n",
        "            if filename.endswith('.zip'):\n",
        "              with ZipFile(tfile) as zfile:\n",
        "                zfile.extractall(destination_path)\n",
        "            else:\n",
        "              with tarfile.open(tfile.name) as tarfile:\n",
        "                tarfile.extractall(destination_path)\n",
        "            print(f'\\nDownloaded and uncompressed: {directory}')\n",
        "    except HTTPError as e:\n",
        "        print(f'Failed to load (likely expired) {download_url} to path {destination_path}')\n",
        "        continue\n",
        "    except OSError as e:\n",
        "        print(f'Failed to load {download_url} to path {destination_path}')\n",
        "        continue\n",
        "\n",
        "print('Data source import complete.')\n"
      ],
      "metadata": {
        "id": "O_qx01_tT_57"
      },
      "cell_type": "code",
      "outputs": [],
      "execution_count": null
    },
    {
      "cell_type": "markdown",
      "source": [
        "# Acknowledgements\n",
        "\n",
        "Источники:\n",
        "https://www.kaggle.com/code/ashishsingh226/text-summarization-with-transformers\n",
        "https://www.tensorflow.org/text/tutorials/transformer"
      ],
      "metadata": {
        "id": "usigGfk9T_59"
      }
    },
    {
      "cell_type": "markdown",
      "source": [
        "![image.png](attachment:5560dc26-f49e-4cac-9a46-c0a535a6ec30.png)"
      ],
      "metadata": {
        "id": "aB3hMtHpT_5_"
      }
    },
    {
      "cell_type": "markdown",
      "source": [
        "# Installing Packages needed and Importing Libraries"
      ],
      "metadata": {
        "id": "ps2a27leT_5_"
      }
    },
    {
      "cell_type": "code",
      "source": [
        "!pip install openpyxl  --quiet"
      ],
      "metadata": {
        "execution": {
          "iopub.status.busy": "2024-09-25T07:49:59.062704Z",
          "iopub.execute_input": "2024-09-25T07:49:59.063024Z",
          "iopub.status.idle": "2024-09-25T07:50:07.975452Z",
          "shell.execute_reply.started": "2024-09-25T07:49:59.062996Z",
          "shell.execute_reply": "2024-09-25T07:50:07.974294Z"
        },
        "trusted": true,
        "id": "naX8OurrT_5_"
      },
      "execution_count": null,
      "outputs": []
    },
    {
      "cell_type": "code",
      "source": [
        "import numpy as np\n",
        "import matplotlib.pyplot as plt\n",
        "import seaborn as sns\n",
        "import pandas as pd\n",
        "from collections import defaultdict\n",
        "import string\n",
        "import tensorflow as tf\n",
        "import re\n",
        "import os\n",
        "import time\n",
        "from tensorflow import keras\n",
        "from tensorflow.keras.layers import Dense, Input\n",
        "from tensorflow.keras.optimizers import Adam\n",
        "from tensorflow.keras.models import Model\n",
        "from tensorflow.keras.callbacks import ModelCheckpoint\n",
        "from sklearn.preprocessing import OneHotEncoder\n",
        "from sklearn.model_selection import train_test_split"
      ],
      "metadata": {
        "execution": {
          "iopub.status.busy": "2024-09-25T07:50:07.977332Z",
          "iopub.execute_input": "2024-09-25T07:50:07.977677Z",
          "iopub.status.idle": "2024-09-25T07:50:13.667981Z",
          "shell.execute_reply.started": "2024-09-25T07:50:07.97764Z",
          "shell.execute_reply": "2024-09-25T07:50:13.667234Z"
        },
        "trusted": true,
        "id": "kWMPG8UNT_5_"
      },
      "execution_count": null,
      "outputs": []
    },
    {
      "cell_type": "code",
      "source": [
        "ENCODER_LEN = 100\n",
        "DECODER_LEN = 20\n",
        "BATCH_SIZE = 64\n",
        "BUFFER_SIZE = BATCH_SIZE*8"
      ],
      "metadata": {
        "execution": {
          "iopub.status.busy": "2024-09-25T07:50:13.669708Z",
          "iopub.execute_input": "2024-09-25T07:50:13.67009Z",
          "iopub.status.idle": "2024-09-25T07:50:13.674413Z",
          "shell.execute_reply.started": "2024-09-25T07:50:13.67005Z",
          "shell.execute_reply": "2024-09-25T07:50:13.673406Z"
        },
        "trusted": true,
        "id": "pjB96orAT_6A"
      },
      "execution_count": null,
      "outputs": []
    },
    {
      "cell_type": "markdown",
      "source": [
        "# Dataset\n",
        "\n",
        "After creating the dataframe we apply Start of Sentence(<SOS>) and End of Sentence(<EOS>) tokens.\n",
        "These sentences are then tokenized and padded to fix length."
      ],
      "metadata": {
        "id": "Af-VMRaxT_6A"
      }
    },
    {
      "cell_type": "code",
      "source": [
        "!pip install xlrd"
      ],
      "metadata": {
        "execution": {
          "iopub.status.busy": "2024-09-25T07:52:39.84607Z",
          "iopub.execute_input": "2024-09-25T07:52:39.846408Z",
          "iopub.status.idle": "2024-09-25T07:52:47.159718Z",
          "shell.execute_reply.started": "2024-09-25T07:52:39.84638Z",
          "shell.execute_reply": "2024-09-25T07:52:47.158643Z"
        },
        "trusted": true,
        "id": "PFJb6-WiT_6A",
        "outputId": "38015074-5703-4fbd-b6db-8fef080032d0"
      },
      "execution_count": null,
      "outputs": [
        {
          "name": "stdout",
          "text": "Collecting xlrd\n  Downloading xlrd-2.0.1-py2.py3-none-any.whl (96 kB)\n\u001b[K     |████████████████████████████████| 96 kB 2.3 MB/s eta 0:00:011\n\u001b[?25hInstalling collected packages: xlrd\nSuccessfully installed xlrd-2.0.1\n",
          "output_type": "stream"
        }
      ]
    },
    {
      "cell_type": "code",
      "source": [
        "data_s = pd.read_excel('../input/input-data/Inshorts Cleaned Data.xlsx',engine='openpyxl')\n",
        "\n",
        "print(data_s.shape)"
      ],
      "metadata": {
        "execution": {
          "iopub.status.busy": "2024-09-25T07:53:35.979134Z",
          "iopub.execute_input": "2024-09-25T07:53:35.979496Z",
          "iopub.status.idle": "2024-09-25T07:53:46.136593Z",
          "shell.execute_reply.started": "2024-09-25T07:53:35.979467Z",
          "shell.execute_reply": "2024-09-25T07:53:46.135549Z"
        },
        "trusted": true,
        "id": "H36SNzN8T_6B",
        "outputId": "5efb46c5-7745-4259-8960-e01b732d7c2f"
      },
      "execution_count": null,
      "outputs": [
        {
          "name": "stdout",
          "text": "(55104, 5)\n",
          "output_type": "stream"
        }
      ]
    },
    {
      "cell_type": "code",
      "source": [
        "data_s.head()"
      ],
      "metadata": {
        "execution": {
          "iopub.status.busy": "2024-09-25T07:54:06.169336Z",
          "iopub.execute_input": "2024-09-25T07:54:06.169697Z",
          "iopub.status.idle": "2024-09-25T07:54:06.193182Z",
          "shell.execute_reply.started": "2024-09-25T07:54:06.169663Z",
          "shell.execute_reply": "2024-09-25T07:54:06.192297Z"
        },
        "trusted": true,
        "id": "b9uiNBZmT_6B",
        "outputId": "23c94d5b-7f7f-4e8d-826d-7de81872a61d"
      },
      "execution_count": null,
      "outputs": [
        {
          "execution_count": 18,
          "output_type": "execute_result",
          "data": {
            "text/plain": "                                            Headline  \\\n0  4 ex-bank officials booked for cheating bank o...   \n1     Supreme Court to go paperless in 6 months: CJI   \n2  At least 3 killed, 30 injured in blast in Sylh...   \n3  Why has Reliance been barred from trading in f...   \n4  Was stopped from entering my own studio at Tim...   \n\n                                               Short                 Source   \\\n0  The CBI on Saturday booked four former officia...  The New Indian Express   \n1  Chief Justice JS Khehar has said the Supreme C...                 Outlook   \n2  At least three people were killed, including a...         Hindustan Times   \n3  Mukesh Ambani-led Reliance Industries (RIL) wa...                Livemint   \n4  TV news anchor Arnab Goswami has said he was t...                 YouTube   \n\n      Time  Publish Date  \n0  09:25:00   2017-03-26  \n1  22:18:00   2017-03-25  \n2  23:39:00   2017-03-25  \n3  23:08:00   2017-03-25  \n4  23:24:00   2017-03-25  ",
            "text/html": "<div>\n<style scoped>\n    .dataframe tbody tr th:only-of-type {\n        vertical-align: middle;\n    }\n\n    .dataframe tbody tr th {\n        vertical-align: top;\n    }\n\n    .dataframe thead th {\n        text-align: right;\n    }\n</style>\n<table border=\"1\" class=\"dataframe\">\n  <thead>\n    <tr style=\"text-align: right;\">\n      <th></th>\n      <th>Headline</th>\n      <th>Short</th>\n      <th>Source</th>\n      <th>Time</th>\n      <th>Publish Date</th>\n    </tr>\n  </thead>\n  <tbody>\n    <tr>\n      <th>0</th>\n      <td>4 ex-bank officials booked for cheating bank o...</td>\n      <td>The CBI on Saturday booked four former officia...</td>\n      <td>The New Indian Express</td>\n      <td>09:25:00</td>\n      <td>2017-03-26</td>\n    </tr>\n    <tr>\n      <th>1</th>\n      <td>Supreme Court to go paperless in 6 months: CJI</td>\n      <td>Chief Justice JS Khehar has said the Supreme C...</td>\n      <td>Outlook</td>\n      <td>22:18:00</td>\n      <td>2017-03-25</td>\n    </tr>\n    <tr>\n      <th>2</th>\n      <td>At least 3 killed, 30 injured in blast in Sylh...</td>\n      <td>At least three people were killed, including a...</td>\n      <td>Hindustan Times</td>\n      <td>23:39:00</td>\n      <td>2017-03-25</td>\n    </tr>\n    <tr>\n      <th>3</th>\n      <td>Why has Reliance been barred from trading in f...</td>\n      <td>Mukesh Ambani-led Reliance Industries (RIL) wa...</td>\n      <td>Livemint</td>\n      <td>23:08:00</td>\n      <td>2017-03-25</td>\n    </tr>\n    <tr>\n      <th>4</th>\n      <td>Was stopped from entering my own studio at Tim...</td>\n      <td>TV news anchor Arnab Goswami has said he was t...</td>\n      <td>YouTube</td>\n      <td>23:24:00</td>\n      <td>2017-03-25</td>\n    </tr>\n  </tbody>\n</table>\n</div>"
          },
          "metadata": {}
        }
      ]
    },
    {
      "cell_type": "code",
      "source": [
        "article = data_s['Short']\n",
        "summary = data_s['Headline']\n",
        "article = article.apply(lambda x: '<SOS> ' + x + ' <EOS>')\n",
        "summary = summary.apply(lambda x: '<SOS> ' + x + ' <EOS>')"
      ],
      "metadata": {
        "execution": {
          "iopub.status.busy": "2024-09-25T07:54:21.586944Z",
          "iopub.execute_input": "2024-09-25T07:54:21.587302Z",
          "iopub.status.idle": "2024-09-25T07:54:21.668209Z",
          "shell.execute_reply.started": "2024-09-25T07:54:21.587272Z",
          "shell.execute_reply": "2024-09-25T07:54:21.667454Z"
        },
        "trusted": true,
        "id": "lAzo4optT_6B"
      },
      "execution_count": null,
      "outputs": []
    },
    {
      "cell_type": "code",
      "source": [
        "def preprocess(text):\n",
        "    text = re.sub(r\"&.[1-9]+;\",\" \",text)\n",
        "    return text\n",
        "article = article.apply(lambda x: preprocess(x))\n",
        "summary = summary.apply(lambda x: preprocess(x))\n"
      ],
      "metadata": {
        "execution": {
          "iopub.status.busy": "2024-09-25T07:54:22.75355Z",
          "iopub.execute_input": "2024-09-25T07:54:22.753887Z",
          "iopub.status.idle": "2024-09-25T07:54:23.05812Z",
          "shell.execute_reply.started": "2024-09-25T07:54:22.753859Z",
          "shell.execute_reply": "2024-09-25T07:54:23.057339Z"
        },
        "trusted": true,
        "id": "WjIH3kl8T_6B"
      },
      "execution_count": null,
      "outputs": []
    },
    {
      "cell_type": "code",
      "source": [
        "article_test = article[9000:]\n",
        "summary_test = summary[9000:]\n",
        "\n",
        "article = article[:9000]\n",
        "summary = summary[:9000]"
      ],
      "metadata": {
        "execution": {
          "iopub.status.busy": "2024-09-25T07:54:24.787876Z",
          "iopub.execute_input": "2024-09-25T07:54:24.788256Z",
          "iopub.status.idle": "2024-09-25T07:54:24.793211Z",
          "shell.execute_reply.started": "2024-09-25T07:54:24.788216Z",
          "shell.execute_reply": "2024-09-25T07:54:24.792138Z"
        },
        "trusted": true,
        "id": "teS-kFNOT_6C"
      },
      "execution_count": null,
      "outputs": []
    },
    {
      "cell_type": "code",
      "source": [
        "filters = '!\"#$%&()*+,-./:;=?@[\\\\]^_`{|}~\\t\\n'\n",
        "oov_token = '<unk>'\n",
        "article_tokenizer = tf.keras.preprocessing.text.Tokenizer(oov_token=oov_token)\n",
        "summary_tokenizer = tf.keras.preprocessing.text.Tokenizer(filters=filters, oov_token=oov_token)\n",
        "article_tokenizer.fit_on_texts(article)\n",
        "summary_tokenizer.fit_on_texts(summary)\n",
        "inputs = article_tokenizer.texts_to_sequences(article)\n",
        "targets = summary_tokenizer.texts_to_sequences(summary)\n",
        "\n",
        "inputs_test = article_tokenizer.texts_to_sequences(article_test)\n",
        "targets_test = summary_tokenizer.texts_to_sequences(summary_test)"
      ],
      "metadata": {
        "execution": {
          "iopub.status.busy": "2024-09-25T07:54:42.939953Z",
          "iopub.execute_input": "2024-09-25T07:54:42.940344Z",
          "iopub.status.idle": "2024-09-25T07:54:47.865843Z",
          "shell.execute_reply.started": "2024-09-25T07:54:42.940311Z",
          "shell.execute_reply": "2024-09-25T07:54:47.86508Z"
        },
        "trusted": true,
        "id": "HSbSUB8qT_6C"
      },
      "execution_count": null,
      "outputs": []
    },
    {
      "cell_type": "code",
      "source": [],
      "metadata": {
        "id": "_wT3RtzST_6C"
      },
      "execution_count": null,
      "outputs": []
    },
    {
      "cell_type": "code",
      "source": [
        "ENCODER_VOCAB = len(article_tokenizer.word_index) + 1\n",
        "DECODER_VOCAB = len(summary_tokenizer.word_index) + 1\n",
        "print(ENCODER_VOCAB, DECODER_VOCAB)"
      ],
      "metadata": {
        "execution": {
          "iopub.status.busy": "2024-09-25T07:54:51.935817Z",
          "iopub.execute_input": "2024-09-25T07:54:51.93619Z",
          "iopub.status.idle": "2024-09-25T07:54:51.941858Z",
          "shell.execute_reply.started": "2024-09-25T07:54:51.936155Z",
          "shell.execute_reply": "2024-09-25T07:54:51.940876Z"
        },
        "trusted": true,
        "id": "08-k9ki2T_6C",
        "outputId": "e17e97fd-6cfc-4f3b-ed5c-95813beac0ed"
      },
      "execution_count": null,
      "outputs": [
        {
          "name": "stdout",
          "text": "29825 12850\n",
          "output_type": "stream"
        }
      ]
    },
    {
      "cell_type": "code",
      "source": [
        "inputs = tf.keras.preprocessing.sequence.pad_sequences(inputs, maxlen=ENCODER_LEN, padding='post', truncating='post')\n",
        "targets = tf.keras.preprocessing.sequence.pad_sequences(targets, maxlen=DECODER_LEN, padding='post', truncating='post')\n",
        "inputs = tf.cast(inputs, dtype=tf.int64)\n",
        "targets = tf.cast(targets, dtype=tf.int64)"
      ],
      "metadata": {
        "execution": {
          "iopub.status.busy": "2024-09-25T07:54:54.076439Z",
          "iopub.execute_input": "2024-09-25T07:54:54.076811Z",
          "iopub.status.idle": "2024-09-25T07:54:56.446808Z",
          "shell.execute_reply.started": "2024-09-25T07:54:54.076772Z",
          "shell.execute_reply": "2024-09-25T07:54:56.446014Z"
        },
        "trusted": true,
        "id": "dFQDmRhVT_6D"
      },
      "execution_count": null,
      "outputs": []
    },
    {
      "cell_type": "code",
      "source": [
        "inputs_test = tf.keras.preprocessing.sequence.pad_sequences(inputs_test, maxlen=ENCODER_LEN, padding='post', truncating='post')\n",
        "targets_test = tf.keras.preprocessing.sequence.pad_sequences(targets_test, maxlen=DECODER_LEN, padding='post', truncating='post')\n",
        "inputs_test = tf.cast(inputs_test, dtype=tf.int64)\n",
        "targets_test = tf.cast(targets_test, dtype=tf.int64)"
      ],
      "metadata": {
        "execution": {
          "iopub.status.busy": "2024-09-25T07:54:56.44825Z",
          "iopub.execute_input": "2024-09-25T07:54:56.44855Z",
          "iopub.status.idle": "2024-09-25T07:54:57.651076Z",
          "shell.execute_reply.started": "2024-09-25T07:54:56.448521Z",
          "shell.execute_reply": "2024-09-25T07:54:57.650126Z"
        },
        "trusted": true,
        "id": "Ld9DdQK8T_6D"
      },
      "execution_count": null,
      "outputs": []
    },
    {
      "cell_type": "code",
      "source": [
        "dataset = tf.data.Dataset.from_tensor_slices((inputs, targets)).shuffle(BUFFER_SIZE).batch(BATCH_SIZE)\n",
        "\n",
        "dataset_test = tf.data.Dataset.from_tensor_slices((inputs_test, targets_test)).shuffle(BUFFER_SIZE).batch(BATCH_SIZE)"
      ],
      "metadata": {
        "execution": {
          "iopub.status.busy": "2024-09-25T07:54:57.652721Z",
          "iopub.execute_input": "2024-09-25T07:54:57.653004Z",
          "iopub.status.idle": "2024-09-25T07:54:57.711727Z",
          "shell.execute_reply.started": "2024-09-25T07:54:57.652977Z",
          "shell.execute_reply": "2024-09-25T07:54:57.710837Z"
        },
        "trusted": true,
        "id": "cuDmFW_ET_6D"
      },
      "execution_count": null,
      "outputs": []
    },
    {
      "cell_type": "markdown",
      "source": [
        "# Transformer Model\n",
        "\n",
        "The next several blocks of code contain the vanilla Transformer model."
      ],
      "metadata": {
        "id": "AI0dAmSHT_6D"
      }
    },
    {
      "cell_type": "code",
      "source": [
        "def get_angles(position, i, d_model):\n",
        "    angle_rates = 1 / np.power(10000, (2 * (i // 2)) / np.float32(d_model))\n",
        "    return position * angle_rates\n",
        "\n",
        "def positional_encoding(position, d_model):\n",
        "    angle_rads = get_angles(\n",
        "        np.arange(position)[:, np.newaxis],\n",
        "        np.arange(d_model)[np.newaxis, :],\n",
        "        d_model\n",
        "    )\n",
        "\n",
        "    angle_rads[:, 0::2] = np.sin(angle_rads[:, 0::2])\n",
        "\n",
        "    angle_rads[:, 1::2] = np.cos(angle_rads[:, 1::2])\n",
        "\n",
        "    pos_encoding = angle_rads[np.newaxis, ...]\n",
        "\n",
        "    return tf.cast(pos_encoding, dtype=tf.float32)\n",
        "\n",
        "def create_padding_mask(seq):\n",
        "    seq = tf.cast(tf.math.equal(seq, 0), tf.float32)\n",
        "    return seq[:, tf.newaxis, tf.newaxis, :]\n",
        "\n",
        "def create_look_ahead_mask(size):\n",
        "    mask = 1 - tf.linalg.band_part(tf.ones((size, size)), -1, 0)\n",
        "    return mask\n",
        "\n",
        "def scaled_dot_product_attention(q, k, v, mask):\n",
        "    matmul_qk = tf.matmul(q, k, transpose_b=True)\n",
        "\n",
        "    dk = tf.cast(tf.shape(k)[-1], tf.float32)\n",
        "    scaled_attention_logits = matmul_qk / tf.math.sqrt(dk)\n",
        "\n",
        "    if mask is not None:\n",
        "        scaled_attention_logits += (mask * -1e9)\n",
        "\n",
        "    attention_weights = tf.nn.softmax(scaled_attention_logits, axis=-1)\n",
        "\n",
        "    output = tf.matmul(attention_weights, v)\n",
        "    return output, attention_weights\n"
      ],
      "metadata": {
        "execution": {
          "iopub.status.busy": "2024-09-25T07:54:59.260459Z",
          "iopub.execute_input": "2024-09-25T07:54:59.260825Z",
          "iopub.status.idle": "2024-09-25T07:54:59.273064Z",
          "shell.execute_reply.started": "2024-09-25T07:54:59.260791Z",
          "shell.execute_reply": "2024-09-25T07:54:59.272013Z"
        },
        "trusted": true,
        "id": "Jnu1MxlnT_6D"
      },
      "execution_count": null,
      "outputs": []
    },
    {
      "cell_type": "code",
      "source": [
        "class MultiHeadAttention(tf.keras.layers.Layer):\n",
        "    def __init__(self, d_model, num_heads):\n",
        "        super(MultiHeadAttention, self).__init__()\n",
        "        self.num_heads = num_heads\n",
        "        self.d_model = d_model\n",
        "\n",
        "        assert d_model % self.num_heads == 0\n",
        "\n",
        "        self.depth = d_model // self.num_heads\n",
        "\n",
        "        self.wq = tf.keras.layers.Dense(d_model)\n",
        "        self.wk = tf.keras.layers.Dense(d_model)\n",
        "        self.wv = tf.keras.layers.Dense(d_model)\n",
        "\n",
        "        self.dense = tf.keras.layers.Dense(d_model)\n",
        "\n",
        "    def split_heads(self, x, batch_size):\n",
        "        x = tf.reshape(x, (batch_size, -1, self.num_heads, self.depth))\n",
        "        return tf.transpose(x, perm=[0, 2, 1, 3])\n",
        "\n",
        "    def call(self, v, k, q, mask):\n",
        "        batch_size = tf.shape(q)[0]\n",
        "\n",
        "        q = self.wq(q)\n",
        "        k = self.wk(k)\n",
        "        v = self.wv(v)\n",
        "\n",
        "        q = self.split_heads(q, batch_size)\n",
        "        k = self.split_heads(k, batch_size)\n",
        "        v = self.split_heads(v, batch_size)\n",
        "\n",
        "        scaled_attention, attention_weights = scaled_dot_product_attention(\n",
        "            q, k, v, mask)\n",
        "\n",
        "        scaled_attention = tf.transpose(scaled_attention, perm=[0, 2, 1, 3])\n",
        "\n",
        "        concat_attention = tf.reshape(scaled_attention, (batch_size, -1, self.d_model))\n",
        "        output = self.dense(concat_attention)\n",
        "\n",
        "        return output, attention_weights\n",
        "\n",
        "def point_wise_feed_forward_network(d_model, dff):\n",
        "    return tf.keras.Sequential([\n",
        "        tf.keras.layers.Dense(dff, activation='relu'),\n",
        "        tf.keras.layers.Dense(d_model)\n",
        "    ])"
      ],
      "metadata": {
        "execution": {
          "iopub.status.busy": "2024-09-25T07:54:59.500779Z",
          "iopub.execute_input": "2024-09-25T07:54:59.501153Z",
          "iopub.status.idle": "2024-09-25T07:54:59.513899Z",
          "shell.execute_reply.started": "2024-09-25T07:54:59.501116Z",
          "shell.execute_reply": "2024-09-25T07:54:59.512827Z"
        },
        "trusted": true,
        "id": "i4UrNFUdT_6D"
      },
      "execution_count": null,
      "outputs": []
    },
    {
      "cell_type": "code",
      "source": [
        "class EncoderLayer(tf.keras.layers.Layer):\n",
        "    def __init__(self, d_model, num_heads, dff, rate=0.1):\n",
        "        super(EncoderLayer, self).__init__()\n",
        "\n",
        "        self.mha = MultiHeadAttention(d_model, num_heads)\n",
        "        self.ffn = point_wise_feed_forward_network(d_model, dff)\n",
        "\n",
        "        self.layernorm1 = tf.keras.layers.LayerNormalization(epsilon=1e-6)\n",
        "        self.layernorm2 = tf.keras.layers.LayerNormalization(epsilon=1e-6)\n",
        "\n",
        "        self.dropout1 = tf.keras.layers.Dropout(rate)\n",
        "        self.dropout2 = tf.keras.layers.Dropout(rate)\n",
        "\n",
        "    def call(self, x, training, mask):\n",
        "        attn_output, _ = self.mha(x, x, x, mask)\n",
        "        attn_output = self.dropout1(attn_output, training=training)\n",
        "        out1 = self.layernorm1(x + attn_output)\n",
        "\n",
        "        ffn_output = self.ffn(out1)\n",
        "        ffn_output = self.dropout2(ffn_output, training=training)\n",
        "        out2 = self.layernorm2(out1 + ffn_output)\n",
        "\n",
        "        return out2"
      ],
      "metadata": {
        "execution": {
          "iopub.status.busy": "2024-09-25T07:54:59.752559Z",
          "iopub.execute_input": "2024-09-25T07:54:59.752889Z",
          "iopub.status.idle": "2024-09-25T07:54:59.761647Z",
          "shell.execute_reply.started": "2024-09-25T07:54:59.75286Z",
          "shell.execute_reply": "2024-09-25T07:54:59.760678Z"
        },
        "trusted": true,
        "id": "T2uO04xOT_6E"
      },
      "execution_count": null,
      "outputs": []
    },
    {
      "cell_type": "code",
      "source": [
        "class DecoderLayer(tf.keras.layers.Layer):\n",
        "    def __init__(self, d_model, num_heads, dff, rate=0.1):\n",
        "        super(DecoderLayer, self).__init__()\n",
        "\n",
        "        self.mha1 = MultiHeadAttention(d_model, num_heads)\n",
        "        self.mha2 = MultiHeadAttention(d_model, num_heads)\n",
        "\n",
        "        self.ffn = point_wise_feed_forward_network(d_model, dff)\n",
        "\n",
        "        self.layernorm1 = tf.keras.layers.LayerNormalization(epsilon=1e-6)\n",
        "        self.layernorm2 = tf.keras.layers.LayerNormalization(epsilon=1e-6)\n",
        "        self.layernorm3 = tf.keras.layers.LayerNormalization(epsilon=1e-6)\n",
        "\n",
        "        self.dropout1 = tf.keras.layers.Dropout(rate)\n",
        "        self.dropout2 = tf.keras.layers.Dropout(rate)\n",
        "        self.dropout3 = tf.keras.layers.Dropout(rate)\n",
        "\n",
        "\n",
        "    def call(self, x, enc_output, training, look_ahead_mask, padding_mask):\n",
        "        attn1, attn_weights_block1 = self.mha1(x, x, x, look_ahead_mask)\n",
        "        attn1 = self.dropout1(attn1, training=training)\n",
        "        out1 = self.layernorm1(attn1 + x)\n",
        "\n",
        "        attn2, attn_weights_block2 = self.mha2(enc_output, enc_output, out1, padding_mask)\n",
        "        attn2 = self.dropout2(attn2, training=training)\n",
        "        out2 = self.layernorm2(attn2 + out1)\n",
        "\n",
        "        ffn_output = self.ffn(out2)\n",
        "        ffn_output = self.dropout3(ffn_output, training=training)\n",
        "        out3 = self.layernorm3(ffn_output + out2)\n",
        "\n",
        "        return out3, attn_weights_block1, attn_weights_block2"
      ],
      "metadata": {
        "execution": {
          "iopub.status.busy": "2024-09-25T07:54:59.995673Z",
          "iopub.execute_input": "2024-09-25T07:54:59.996008Z",
          "iopub.status.idle": "2024-09-25T07:55:00.00698Z",
          "shell.execute_reply.started": "2024-09-25T07:54:59.995978Z",
          "shell.execute_reply": "2024-09-25T07:55:00.005873Z"
        },
        "trusted": true,
        "id": "TsNnz41ET_6E"
      },
      "execution_count": null,
      "outputs": []
    },
    {
      "cell_type": "code",
      "source": [
        "class Encoder(tf.keras.layers.Layer):\n",
        "    def __init__(self, num_layers, d_model, num_heads, dff, input_vocab_size, maximum_position_encoding, rate=0.1):\n",
        "        super(Encoder, self).__init__()\n",
        "\n",
        "        self.d_model = d_model\n",
        "        self.num_layers = num_layers\n",
        "\n",
        "        self.embedding = tf.keras.layers.Embedding(input_vocab_size, d_model)\n",
        "        self.pos_encoding = positional_encoding(maximum_position_encoding, self.d_model)\n",
        "\n",
        "        self.enc_layers = [EncoderLayer(d_model, num_heads, dff, rate) for _ in range(num_layers)]\n",
        "\n",
        "        self.dropout = tf.keras.layers.Dropout(rate)\n",
        "\n",
        "    def call(self, x, training, mask):\n",
        "        seq_len = tf.shape(x)[1]\n",
        "\n",
        "        x = self.embedding(x)\n",
        "        x *= tf.math.sqrt(tf.cast(self.d_model, tf.float32))\n",
        "        x += self.pos_encoding[:, :seq_len, :]\n",
        "\n",
        "        x = self.dropout(x, training=training)\n",
        "\n",
        "        for i in range(self.num_layers):\n",
        "            x = self.enc_layers[i](x, training, mask)\n",
        "\n",
        "        return x\n",
        "\n",
        "class Decoder(tf.keras.layers.Layer):\n",
        "\n",
        "    def __init__(self, num_layers, d_model, num_heads, dff, target_vocab_size, maximum_position_encoding, rate=0.1):\n",
        "        super(Decoder, self).__init__()\n",
        "\n",
        "        self.d_model = d_model\n",
        "        self.num_layers = num_layers\n",
        "\n",
        "        self.embedding = tf.keras.layers.Embedding(target_vocab_size, d_model)\n",
        "        self.pos_encoding = positional_encoding(maximum_position_encoding, d_model)\n",
        "\n",
        "        self.dec_layers = [DecoderLayer(d_model, num_heads, dff, rate) for _ in range(num_layers)]\n",
        "        self.dropout = tf.keras.layers.Dropout(rate)\n",
        "\n",
        "    def call(self, x, enc_output, training, look_ahead_mask, padding_mask):\n",
        "        seq_len = tf.shape(x)[1]\n",
        "        attention_weights = {}\n",
        "\n",
        "        x = self.embedding(x)\n",
        "        x *= tf.math.sqrt(tf.cast(self.d_model, tf.float32))\n",
        "        x += self.pos_encoding[:, :seq_len, :]\n",
        "\n",
        "        x = self.dropout(x, training=training)\n",
        "\n",
        "        for i in range(self.num_layers):\n",
        "            x, block1, block2 = self.dec_layers[i](x, enc_output, training, look_ahead_mask, padding_mask)\n",
        "\n",
        "            attention_weights['decoder_layer{}_block1'.format(i+1)] = block1\n",
        "            attention_weights['decoder_layer{}_block2'.format(i+1)] = block2\n",
        "\n",
        "        return x, attention_weights\n",
        ""
      ],
      "metadata": {
        "execution": {
          "iopub.status.busy": "2024-09-25T07:55:00.249688Z",
          "iopub.execute_input": "2024-09-25T07:55:00.250014Z",
          "iopub.status.idle": "2024-09-25T07:55:00.266394Z",
          "shell.execute_reply.started": "2024-09-25T07:55:00.249984Z",
          "shell.execute_reply": "2024-09-25T07:55:00.265393Z"
        },
        "trusted": true,
        "id": "TwvSz3-UT_6E"
      },
      "execution_count": null,
      "outputs": []
    },
    {
      "cell_type": "code",
      "source": [
        "class Transformer(tf.keras.Model):\n",
        "    def __init__(self, num_layers, d_model, num_heads, dff, input_vocab_size, target_vocab_size, pe_input, pe_target, rate=0.1):\n",
        "        super(Transformer, self).__init__()\n",
        "\n",
        "        self.encoder = Encoder(num_layers, d_model, num_heads, dff, input_vocab_size, pe_input, rate)\n",
        "\n",
        "        self.decoder = Decoder(num_layers, d_model, num_heads, dff, target_vocab_size, pe_target, rate)\n",
        "\n",
        "        self.final_layer = tf.keras.layers.Dense(target_vocab_size)\n",
        "\n",
        "    def call(self, inp, tar, training, enc_padding_mask, look_ahead_mask, dec_padding_mask):\n",
        "        enc_output = self.encoder(inp, training, enc_padding_mask)\n",
        "\n",
        "        dec_output, attention_weights = self.decoder(tar, enc_output, training, look_ahead_mask, dec_padding_mask)\n",
        "\n",
        "        final_output = self.final_layer(dec_output)\n",
        "\n",
        "        return final_output, attention_weights"
      ],
      "metadata": {
        "execution": {
          "iopub.status.busy": "2024-09-25T07:55:00.505125Z",
          "iopub.execute_input": "2024-09-25T07:55:00.505503Z",
          "iopub.status.idle": "2024-09-25T07:55:00.513541Z",
          "shell.execute_reply.started": "2024-09-25T07:55:00.505467Z",
          "shell.execute_reply": "2024-09-25T07:55:00.512348Z"
        },
        "trusted": true,
        "id": "Fvd_qB-6T_6F"
      },
      "execution_count": null,
      "outputs": []
    },
    {
      "cell_type": "code",
      "source": [
        "num_layers = 5\n",
        "d_model = 128\n",
        "dff = 512\n",
        "num_heads = 4\n",
        "dropout_rate = 0.2\n",
        "EPOCHS = 50"
      ],
      "metadata": {
        "execution": {
          "iopub.status.busy": "2024-09-25T07:55:00.778264Z",
          "iopub.execute_input": "2024-09-25T07:55:00.778622Z",
          "iopub.status.idle": "2024-09-25T07:55:00.78316Z",
          "shell.execute_reply.started": "2024-09-25T07:55:00.778591Z",
          "shell.execute_reply": "2024-09-25T07:55:00.782151Z"
        },
        "trusted": true,
        "id": "B3Xsz6sjT_6F"
      },
      "execution_count": null,
      "outputs": []
    },
    {
      "cell_type": "markdown",
      "source": [
        "# Custom Learning Rate"
      ],
      "metadata": {
        "id": "ufD9Iv8CT_6F"
      }
    },
    {
      "cell_type": "code",
      "source": [
        "class CustomSchedule(tf.keras.optimizers.schedules.LearningRateSchedule):\n",
        "    def __init__(self, d_model, warmup_steps=4000):\n",
        "        super(CustomSchedule, self).__init__()\n",
        "\n",
        "        self.d_model = d_model\n",
        "        self.d_model = tf.cast(self.d_model, tf.float32)\n",
        "\n",
        "        self.warmup_steps = warmup_steps\n",
        "\n",
        "    def __call__(self, step):\n",
        "        arg1 = tf.math.rsqrt(step)\n",
        "        arg2 = step * (self.warmup_steps ** -1.5)\n",
        "\n",
        "        return tf.math.rsqrt(self.d_model) * tf.math.minimum(arg1, arg2)"
      ],
      "metadata": {
        "execution": {
          "iopub.status.busy": "2024-09-25T07:55:01.604357Z",
          "iopub.execute_input": "2024-09-25T07:55:01.604699Z",
          "iopub.status.idle": "2024-09-25T07:55:01.611465Z",
          "shell.execute_reply.started": "2024-09-25T07:55:01.60467Z",
          "shell.execute_reply": "2024-09-25T07:55:01.610397Z"
        },
        "trusted": true,
        "id": "shtW-KfVT_6F"
      },
      "execution_count": null,
      "outputs": []
    },
    {
      "cell_type": "code",
      "source": [
        "learning_rate = CustomSchedule(d_model)\n",
        "\n",
        "optimizer = tf.keras.optimizers.Adam(learning_rate, beta_1=0.9, beta_2=0.98, epsilon=1e-9)"
      ],
      "metadata": {
        "execution": {
          "iopub.status.busy": "2024-09-25T07:55:01.909876Z",
          "iopub.execute_input": "2024-09-25T07:55:01.910259Z",
          "iopub.status.idle": "2024-09-25T07:55:01.915655Z",
          "shell.execute_reply.started": "2024-09-25T07:55:01.910213Z",
          "shell.execute_reply": "2024-09-25T07:55:01.914736Z"
        },
        "trusted": true,
        "id": "frP0clNPT_6F"
      },
      "execution_count": null,
      "outputs": []
    },
    {
      "cell_type": "code",
      "source": [
        "temp_learning_rate_schedule = CustomSchedule(d_model)\n",
        "\n",
        "plt.plot(temp_learning_rate_schedule(tf.range(40000, dtype=tf.float32)))\n",
        "plt.ylabel(\"Learning Rate\")\n",
        "plt.xlabel(\"Train Step\")"
      ],
      "metadata": {
        "execution": {
          "iopub.status.busy": "2024-09-25T07:55:02.246614Z",
          "iopub.execute_input": "2024-09-25T07:55:02.246976Z",
          "iopub.status.idle": "2024-09-25T07:55:02.454545Z",
          "shell.execute_reply.started": "2024-09-25T07:55:02.246948Z",
          "shell.execute_reply": "2024-09-25T07:55:02.453678Z"
        },
        "trusted": true,
        "id": "mnwXAYdcT_6F",
        "outputId": "5b3e8ffa-e683-4e4e-e0df-0cb488593eff"
      },
      "execution_count": null,
      "outputs": [
        {
          "execution_count": 36,
          "output_type": "execute_result",
          "data": {
            "text/plain": "Text(0.5, 0, 'Train Step')"
          },
          "metadata": {}
        },
        {
          "output_type": "display_data",
          "data": {
            "text/plain": "<Figure size 432x288 with 1 Axes>",
            "image/png": "[encoded data removed]"
          },
          "metadata": {
            "needs_background": "light"
          }
        }
      ]
    },
    {
      "cell_type": "markdown",
      "source": [
        "# Custom Loss and Accuracy"
      ],
      "metadata": {
        "id": "7Bn98Uc2T_6G"
      }
    },
    {
      "cell_type": "code",
      "source": [
        "loss_object = tf.keras.losses.SparseCategoricalCrossentropy(from_logits=True, reduction='none')\n",
        "def loss_function(real, pred):\n",
        "    mask = tf.math.logical_not(tf.math.equal(real, 0))\n",
        "    loss_ = loss_object(real, pred)\n",
        "\n",
        "    mask = tf.cast(mask, dtype=loss_.dtype)\n",
        "    loss_ *= mask\n",
        "\n",
        "    return tf.reduce_sum(loss_)/tf.reduce_sum(mask)\n",
        "\n",
        "\n",
        "def accuracy_function(real, pred):\n",
        "    accuracies = tf.equal(real, tf.argmax(pred, axis=2))\n",
        "    #accuracies = tf.cast(accuracies, dtype= tf.float32)\n",
        "\n",
        "    mask = tf.math.logical_not(tf.math.equal(real, 0))\n",
        "    accuracies = tf.math.logical_and(mask, accuracies)\n",
        "\n",
        "    accuracies = tf.cast(accuracies, dtype=tf.float32)\n",
        "    mask = tf.cast(mask, dtype=tf.float32)\n",
        "    return tf.reduce_sum(accuracies)/tf.reduce_sum(mask)"
      ],
      "metadata": {
        "execution": {
          "iopub.status.busy": "2024-09-25T07:55:02.893138Z",
          "iopub.execute_input": "2024-09-25T07:55:02.893539Z",
          "iopub.status.idle": "2024-09-25T07:55:02.903698Z",
          "shell.execute_reply.started": "2024-09-25T07:55:02.893504Z",
          "shell.execute_reply": "2024-09-25T07:55:02.902625Z"
        },
        "trusted": true,
        "id": "tFuqmAAcT_6G"
      },
      "execution_count": null,
      "outputs": []
    },
    {
      "cell_type": "code",
      "source": [
        "train_loss = tf.keras.metrics.Mean(name='train_loss')\n",
        "train_accuracy = tf.keras.metrics.Mean(name='train_accuracy')\n",
        "\n",
        "test_loss = tf.keras.metrics.Mean(name='test_loss')\n",
        "test_accuracy = tf.keras.metrics.Mean(name='test_accuracy')"
      ],
      "metadata": {
        "execution": {
          "iopub.status.busy": "2024-09-25T07:55:03.213573Z",
          "iopub.execute_input": "2024-09-25T07:55:03.213917Z",
          "iopub.status.idle": "2024-09-25T07:55:03.249207Z",
          "shell.execute_reply.started": "2024-09-25T07:55:03.213887Z",
          "shell.execute_reply": "2024-09-25T07:55:03.248313Z"
        },
        "trusted": true,
        "id": "p6jgm-1DT_6G"
      },
      "execution_count": null,
      "outputs": []
    },
    {
      "cell_type": "code",
      "source": [
        "transformer = Transformer(\n",
        "    num_layers=num_layers,\n",
        "    d_model=d_model,\n",
        "    num_heads=num_heads,\n",
        "    dff=dff,\n",
        "    input_vocab_size=ENCODER_VOCAB,\n",
        "    target_vocab_size=DECODER_VOCAB,\n",
        "    pe_input=1000,\n",
        "    pe_target=1000,\n",
        "    rate=dropout_rate)"
      ],
      "metadata": {
        "execution": {
          "iopub.status.busy": "2024-09-25T07:55:03.543619Z",
          "iopub.execute_input": "2024-09-25T07:55:03.544Z",
          "iopub.status.idle": "2024-09-25T07:55:03.696357Z",
          "shell.execute_reply.started": "2024-09-25T07:55:03.543965Z",
          "shell.execute_reply": "2024-09-25T07:55:03.695411Z"
        },
        "trusted": true,
        "id": "U5_wSW25T_6G"
      },
      "execution_count": null,
      "outputs": []
    },
    {
      "cell_type": "code",
      "source": [
        "def create_masks(inp, tar):\n",
        "    enc_padding_mask = create_padding_mask(inp)\n",
        "    dec_padding_mask = create_padding_mask(inp)\n",
        "\n",
        "    look_ahead_mask = create_look_ahead_mask(tf.shape(tar)[1])\n",
        "    dec_target_padding_mask = create_padding_mask(tar)\n",
        "    combined_mask = tf.maximum(dec_target_padding_mask, look_ahead_mask)\n",
        "\n",
        "    return enc_padding_mask, combined_mask, dec_padding_mask"
      ],
      "metadata": {
        "execution": {
          "iopub.status.busy": "2024-09-25T07:55:03.883194Z",
          "iopub.execute_input": "2024-09-25T07:55:03.883603Z",
          "iopub.status.idle": "2024-09-25T07:55:03.888679Z",
          "shell.execute_reply.started": "2024-09-25T07:55:03.883571Z",
          "shell.execute_reply": "2024-09-25T07:55:03.887758Z"
        },
        "trusted": true,
        "id": "R1Bnpba9T_6H"
      },
      "execution_count": null,
      "outputs": []
    },
    {
      "cell_type": "code",
      "source": [
        "checkpoint_path = \"checkpoints\"\n",
        "\n",
        "ckpt = tf.train.Checkpoint(transformer=transformer, optimizer=optimizer)\n",
        "\n",
        "ckpt_manager = tf.train.CheckpointManager(ckpt, checkpoint_path, max_to_keep=5)\n",
        "\n",
        "if ckpt_manager.latest_checkpoint:\n",
        "    ckpt.restore(ckpt_manager.latest_checkpoint)\n",
        "    print ('Latest checkpoint restored!!')"
      ],
      "metadata": {
        "execution": {
          "iopub.status.busy": "2024-09-25T07:55:04.249184Z",
          "iopub.execute_input": "2024-09-25T07:55:04.249568Z",
          "iopub.status.idle": "2024-09-25T07:55:04.258198Z",
          "shell.execute_reply.started": "2024-09-25T07:55:04.249534Z",
          "shell.execute_reply": "2024-09-25T07:55:04.256917Z"
        },
        "trusted": true,
        "id": "T9-svHA2T_6H"
      },
      "execution_count": null,
      "outputs": []
    },
    {
      "cell_type": "code",
      "source": [
        "@tf.function\n",
        "def train_step(inp, tar):\n",
        "    tar_inp = tar[:, :-1]\n",
        "    tar_real = tar[:, 1:]\n",
        "\n",
        "    enc_padding_mask, combined_mask, dec_padding_mask = create_masks(inp, tar_inp)\n",
        "\n",
        "    with tf.GradientTape() as tape:\n",
        "        predictions, _ = transformer(\n",
        "            inp, tar_inp,\n",
        "            True,\n",
        "            enc_padding_mask,\n",
        "            combined_mask,\n",
        "            dec_padding_mask\n",
        "        )\n",
        "        loss = loss_function(tar_real, predictions)\n",
        "\n",
        "    gradients = tape.gradient(loss, transformer.trainable_variables)\n",
        "    optimizer.apply_gradients(zip(gradients, transformer.trainable_variables))\n",
        "\n",
        "    train_loss(loss)\n",
        "    train_accuracy(accuracy_function(tar_real, predictions))\n",
        "\n",
        "@tf.function\n",
        "def test_step(inp, tar):\n",
        "    tar_inp = tar[:, :-1]\n",
        "    tar_real = tar[:, 1:]\n",
        "\n",
        "    enc_padding_mask, combined_mask, dec_padding_mask = create_masks(inp, tar_inp)\n",
        "\n",
        "    predictions, _ = transformer(\n",
        "            inp, tar_inp,\n",
        "            True,\n",
        "            enc_padding_mask,\n",
        "            combined_mask,\n",
        "            dec_padding_mask\n",
        "        )\n",
        "    loss = loss_function(tar_real, predictions)\n",
        "\n",
        "\n",
        "    test_loss(loss)\n",
        "    test_accuracy(accuracy_function(tar_real, predictions))"
      ],
      "metadata": {
        "execution": {
          "iopub.status.busy": "2024-09-25T07:55:04.60225Z",
          "iopub.execute_input": "2024-09-25T07:55:04.602601Z",
          "iopub.status.idle": "2024-09-25T07:55:04.612594Z",
          "shell.execute_reply.started": "2024-09-25T07:55:04.602568Z",
          "shell.execute_reply": "2024-09-25T07:55:04.611719Z"
        },
        "trusted": true,
        "id": "QWuzSawgT_6H"
      },
      "execution_count": null,
      "outputs": []
    },
    {
      "cell_type": "markdown",
      "source": [
        "# Training the Model"
      ],
      "metadata": {
        "id": "H_pkdqCCT_6M"
      }
    },
    {
      "cell_type": "code",
      "source": [
        "dataset"
      ],
      "metadata": {
        "execution": {
          "iopub.status.busy": "2024-09-25T07:55:05.402549Z",
          "iopub.execute_input": "2024-09-25T07:55:05.402882Z",
          "iopub.status.idle": "2024-09-25T07:55:05.40915Z",
          "shell.execute_reply.started": "2024-09-25T07:55:05.402854Z",
          "shell.execute_reply": "2024-09-25T07:55:05.40812Z"
        },
        "trusted": true,
        "id": "NVWzN12uT_6M",
        "outputId": "aa113d61-c6be-4b28-8a6e-83031115b32f"
      },
      "execution_count": null,
      "outputs": [
        {
          "execution_count": 43,
          "output_type": "execute_result",
          "data": {
            "text/plain": "<BatchDataset shapes: ((None, 100), (None, 20)), types: (tf.int64, tf.int64)>"
          },
          "metadata": {}
        }
      ]
    },
    {
      "cell_type": "code",
      "source": [
        "for epoch in range(EPOCHS):\n",
        "    start = time.time()\n",
        "\n",
        "    train_loss.reset_states()\n",
        "    test_loss.reset_states()\n",
        "\n",
        "    for (batch, (inp, tar)) in enumerate(dataset):\n",
        "        train_step(inp, tar)\n",
        "\n",
        "#         if batch % 100 == 0:\n",
        "#             print(f'Epoch {epoch + 1} Batch {batch} Train Loss {train_loss.result():.4f} Train Accuracy {train_accuracy.result():.4f}')\n",
        "\n",
        "    for (batch, (inp, tar)) in enumerate(dataset_test):\n",
        "        test_step(inp, tar)\n",
        "\n",
        "#         if batch % 100 == 0:\n",
        "#             print(f'Epoch {epoch + 1} Batch {batch} Test Loss {test_loss.result():.4f} Test Accuracy {test_accuracy.result():.4f}')\n",
        "#             print('\\n')\n",
        "\n",
        "    if (epoch + 1) % 5 == 0:\n",
        "        ckpt_save_path = ckpt_manager.save()\n",
        "        #print ('Saving checkpoint for epoch {} at {}'.format(epoch+1, ckpt_save_path))\n",
        "\n",
        "    print(f'Epoch {epoch + 1} Train Loss {train_loss.result():.4f} Train Accuracy {train_accuracy.result():.4f}')\n",
        "    print(f'Epoch {epoch + 1} Test Loss {test_loss.result():.4f} Test Accuracy {test_accuracy.result():.4f}')\n",
        "\n",
        "    print('\\n')\n",
        "    #print ('Time taken for 1 epoch: {} secs\\n'.format(time.time() - start))"
      ],
      "metadata": {
        "execution": {
          "iopub.status.busy": "2024-09-25T07:55:05.770723Z",
          "iopub.execute_input": "2024-09-25T07:55:05.771096Z",
          "iopub.status.idle": "2024-09-25T08:30:19.947373Z",
          "shell.execute_reply.started": "2024-09-25T07:55:05.771058Z",
          "shell.execute_reply": "2024-09-25T08:30:19.946364Z"
        },
        "trusted": true,
        "id": "LhNS3qUKT_6N",
        "outputId": "f67ea871-1367-496b-fd54-03d0795f37e4"
      },
      "execution_count": null,
      "outputs": [
        {
          "name": "stdout",
          "text": "Epoch 1 Train Loss 9.3017 Train Accuracy 0.0686\nEpoch 1 Test Loss 9.0833 Test Accuracy 0.1061\n\n\nEpoch 2 Train Loss 8.7322 Train Accuracy 0.0814\nEpoch 2 Test Loss 8.4149 Test Accuracy 0.1061\n\n\nEpoch 3 Train Loss 7.9087 Train Accuracy 0.0857\nEpoch 3 Test Loss 7.7686 Test Accuracy 0.1061\n\n\nEpoch 4 Train Loss 7.4189 Train Accuracy 0.0882\nEpoch 4 Test Loss 7.6206 Test Accuracy 0.1093\n\n\nEpoch 5 Train Loss 7.2609 Train Accuracy 0.0935\nEpoch 5 Test Loss 7.6147 Test Accuracy 0.1134\n\n\nEpoch 6 Train Loss 7.1115 Train Accuracy 0.0985\nEpoch 6 Test Loss 7.6577 Test Accuracy 0.1147\n\n\nEpoch 7 Train Loss 6.9264 Train Accuracy 0.1030\nEpoch 7 Test Loss 7.6409 Test Accuracy 0.1162\n\n\nEpoch 8 Train Loss 6.7148 Train Accuracy 0.1075\nEpoch 8 Test Loss 7.5981 Test Accuracy 0.1167\n\n\nEpoch 9 Train Loss 6.4935 Train Accuracy 0.1117\nEpoch 9 Test Loss 7.6124 Test Accuracy 0.1168\n\n\nEpoch 10 Train Loss 6.2747 Train Accuracy 0.1158\nEpoch 10 Test Loss 7.7771 Test Accuracy 0.1155\n\n\nEpoch 11 Train Loss 6.0712 Train Accuracy 0.1197\nEpoch 11 Test Loss 7.6759 Test Accuracy 0.1154\n\n\nEpoch 12 Train Loss 5.8747 Train Accuracy 0.1237\nEpoch 12 Test Loss 7.6031 Test Accuracy 0.1159\n\n\nEpoch 13 Train Loss 5.6899 Train Accuracy 0.1275\nEpoch 13 Test Loss 7.8393 Test Accuracy 0.1156\n\n\nEpoch 14 Train Loss 5.5042 Train Accuracy 0.1314\nEpoch 14 Test Loss 7.7942 Test Accuracy 0.1152\n\n\nEpoch 15 Train Loss 5.3302 Train Accuracy 0.1353\nEpoch 15 Test Loss 7.8460 Test Accuracy 0.1152\n\n\nEpoch 16 Train Loss 5.1546 Train Accuracy 0.1392\nEpoch 16 Test Loss 7.8095 Test Accuracy 0.1157\n\n\nEpoch 17 Train Loss 4.9807 Train Accuracy 0.1433\nEpoch 17 Test Loss 7.8370 Test Accuracy 0.1159\n\n\nEpoch 18 Train Loss 4.8052 Train Accuracy 0.1475\nEpoch 18 Test Loss 7.9691 Test Accuracy 0.1158\n\n\nEpoch 19 Train Loss 4.6383 Train Accuracy 0.1517\nEpoch 19 Test Loss 8.0034 Test Accuracy 0.1159\n\n\nEpoch 20 Train Loss 4.4688 Train Accuracy 0.1560\nEpoch 20 Test Loss 7.9594 Test Accuracy 0.1159\n\n\nEpoch 21 Train Loss 4.2936 Train Accuracy 0.1605\nEpoch 21 Test Loss 8.0217 Test Accuracy 0.1160\n\n\nEpoch 22 Train Loss 4.1244 Train Accuracy 0.1651\nEpoch 22 Test Loss 8.2087 Test Accuracy 0.1155\n\n\nEpoch 23 Train Loss 3.9684 Train Accuracy 0.1700\nEpoch 23 Test Loss 8.0890 Test Accuracy 0.1152\n\n\nEpoch 24 Train Loss 3.8012 Train Accuracy 0.1750\nEpoch 24 Test Loss 8.0775 Test Accuracy 0.1154\n\n\nEpoch 25 Train Loss 3.6347 Train Accuracy 0.1804\nEpoch 25 Test Loss 8.3079 Test Accuracy 0.1150\n\n\nEpoch 26 Train Loss 3.4800 Train Accuracy 0.1859\nEpoch 26 Test Loss 8.3904 Test Accuracy 0.1148\n\n\nEpoch 27 Train Loss 3.3214 Train Accuracy 0.1918\nEpoch 27 Test Loss 8.4742 Test Accuracy 0.1148\n\n\nEpoch 28 Train Loss 3.1672 Train Accuracy 0.1980\nEpoch 28 Test Loss 8.7015 Test Accuracy 0.1144\n\n\nEpoch 29 Train Loss 3.0280 Train Accuracy 0.2043\nEpoch 29 Test Loss 8.6511 Test Accuracy 0.1140\n\n\nEpoch 30 Train Loss 2.8431 Train Accuracy 0.2112\nEpoch 30 Test Loss 8.8582 Test Accuracy 0.1139\n\n\nEpoch 31 Train Loss 2.6650 Train Accuracy 0.2186\nEpoch 31 Test Loss 8.9392 Test Accuracy 0.1138\n\n\nEpoch 32 Train Loss 2.5042 Train Accuracy 0.2263\nEpoch 32 Test Loss 9.1298 Test Accuracy 0.1137\n\n\nEpoch 33 Train Loss 2.3471 Train Accuracy 0.2342\nEpoch 33 Test Loss 9.3482 Test Accuracy 0.1137\n\n\nEpoch 34 Train Loss 2.2007 Train Accuracy 0.2425\nEpoch 34 Test Loss 9.4524 Test Accuracy 0.1136\n\n\nEpoch 35 Train Loss 2.0646 Train Accuracy 0.2509\nEpoch 35 Test Loss 9.7418 Test Accuracy 0.1133\n\n\nEpoch 36 Train Loss 1.9448 Train Accuracy 0.2595\nEpoch 36 Test Loss 9.6705 Test Accuracy 0.1132\n\n\nEpoch 37 Train Loss 1.8207 Train Accuracy 0.2681\nEpoch 37 Test Loss 9.8649 Test Accuracy 0.1131\n\n\nEpoch 38 Train Loss 1.7235 Train Accuracy 0.2767\nEpoch 38 Test Loss 9.9088 Test Accuracy 0.1129\n\n\nEpoch 39 Train Loss 1.6215 Train Accuracy 0.2854\nEpoch 39 Test Loss 10.0188 Test Accuracy 0.1129\n\n\nEpoch 40 Train Loss 1.5256 Train Accuracy 0.2942\nEpoch 40 Test Loss 10.1192 Test Accuracy 0.1128\n\n\nEpoch 41 Train Loss 1.4431 Train Accuracy 0.3028\nEpoch 41 Test Loss 10.1281 Test Accuracy 0.1128\n\n\nEpoch 42 Train Loss 1.3629 Train Accuracy 0.3115\nEpoch 42 Test Loss 10.3139 Test Accuracy 0.1128\n\n\nEpoch 43 Train Loss 1.2883 Train Accuracy 0.3201\nEpoch 43 Test Loss 10.4976 Test Accuracy 0.1128\n\n\nEpoch 44 Train Loss 1.2227 Train Accuracy 0.3286\nEpoch 44 Test Loss 10.5302 Test Accuracy 0.1127\n\n\nEpoch 45 Train Loss 1.1580 Train Accuracy 0.3370\nEpoch 45 Test Loss 10.6281 Test Accuracy 0.1126\n\n\nEpoch 46 Train Loss 1.1031 Train Accuracy 0.3453\nEpoch 46 Test Loss 10.6519 Test Accuracy 0.1126\n\n\nEpoch 47 Train Loss 1.0529 Train Accuracy 0.3535\nEpoch 47 Test Loss 10.8246 Test Accuracy 0.1125\n\n\nEpoch 48 Train Loss 0.9974 Train Accuracy 0.3616\nEpoch 48 Test Loss 10.8701 Test Accuracy 0.1125\n\n\nEpoch 49 Train Loss 0.9684 Train Accuracy 0.3695\nEpoch 49 Test Loss 11.0406 Test Accuracy 0.1124\n\n\nEpoch 50 Train Loss 0.9201 Train Accuracy 0.3773\nEpoch 50 Test Loss 11.1025 Test Accuracy 0.1124\n\n\n",
          "output_type": "stream"
        }
      ]
    },
    {
      "cell_type": "markdown",
      "source": [
        "# Evaluation"
      ],
      "metadata": {
        "id": "CZzsI8-1T_6N"
      }
    },
    {
      "cell_type": "code",
      "source": [
        "def evaluate(input_article):\n",
        "    input_article = article_tokenizer.texts_to_sequences([input_article])\n",
        "    input_article = tf.keras.preprocessing.sequence.pad_sequences(input_article, maxlen=ENCODER_LEN,\n",
        "                                                                   padding='post', truncating='post')\n",
        "\n",
        "    encoder_input = tf.expand_dims(input_article[0], 0)\n",
        "\n",
        "    decoder_input = [summary_tokenizer.word_index['<sos>']]\n",
        "    output = tf.expand_dims(decoder_input, 0)\n",
        "\n",
        "    for i in range(DECODER_LEN):\n",
        "        enc_padding_mask, combined_mask, dec_padding_mask = create_masks(encoder_input, output)\n",
        "\n",
        "        predictions, attention_weights = transformer(\n",
        "            encoder_input,\n",
        "            output,\n",
        "            False,\n",
        "            enc_padding_mask,\n",
        "            combined_mask,\n",
        "            dec_padding_mask\n",
        "        )\n",
        "\n",
        "        predictions = predictions[: ,-1:, :]\n",
        "        predicted_id = tf.cast(tf.argmax(predictions, axis=-1), tf.int32)\n",
        "\n",
        "        if predicted_id == summary_tokenizer.word_index['<eos>']:\n",
        "            return tf.squeeze(output, axis=0), attention_weights\n",
        "\n",
        "        output = tf.concat([output, predicted_id], axis=-1)\n",
        "\n",
        "    return tf.squeeze(output, axis=0), attention_weights"
      ],
      "metadata": {
        "execution": {
          "iopub.status.busy": "2024-09-25T08:30:19.94892Z",
          "iopub.execute_input": "2024-09-25T08:30:19.949231Z",
          "iopub.status.idle": "2024-09-25T08:30:19.958092Z",
          "shell.execute_reply.started": "2024-09-25T08:30:19.949199Z",
          "shell.execute_reply": "2024-09-25T08:30:19.957095Z"
        },
        "trusted": true,
        "id": "9mi2xAy4T_6N"
      },
      "execution_count": null,
      "outputs": []
    },
    {
      "cell_type": "code",
      "source": [
        "def summarize(input_article):\n",
        "    summarized = evaluate(input_article=input_article)[0].numpy()\n",
        "    summarized = np.expand_dims(summarized[1:], 0)\n",
        "    return summary_tokenizer.sequences_to_texts(summarized)[0]"
      ],
      "metadata": {
        "execution": {
          "iopub.status.busy": "2024-09-25T08:30:19.9597Z",
          "iopub.execute_input": "2024-09-25T08:30:19.95999Z",
          "iopub.status.idle": "2024-09-25T08:30:19.974358Z",
          "shell.execute_reply.started": "2024-09-25T08:30:19.959962Z",
          "shell.execute_reply": "2024-09-25T08:30:19.973567Z"
        },
        "trusted": true,
        "id": "mSr9Ey3lT_6N"
      },
      "execution_count": null,
      "outputs": []
    },
    {
      "cell_type": "markdown",
      "source": [
        "# Predictions\n",
        "\n",
        "Below me make predictions on some texts to see how the model is performimg. Since this was a very basic approach the model wont perform that well but it can surely be improved."
      ],
      "metadata": {
        "id": "S_ToKrUaT_6N"
      }
    },
    {
      "cell_type": "code",
      "source": [
        "article[5]"
      ],
      "metadata": {
        "execution": {
          "iopub.status.busy": "2024-09-25T08:30:19.975753Z",
          "iopub.execute_input": "2024-09-25T08:30:19.976062Z",
          "iopub.status.idle": "2024-09-25T08:30:19.985226Z",
          "shell.execute_reply.started": "2024-09-25T08:30:19.976014Z",
          "shell.execute_reply": "2024-09-25T08:30:19.984379Z"
        },
        "trusted": true,
        "id": "IIin6aP7T_6N",
        "outputId": "9736ba13-f31e-4d6e-fe9c-d8ce03b4da65"
      },
      "execution_count": null,
      "outputs": [
        {
          "execution_count": 47,
          "output_type": "execute_result",
          "data": {
            "text/plain": "'<SOS> A new trailer for the upcoming superhero film  Justice League  was released on Saturday. Based on the DC Comics superhero team, the film stars Ben Affleck as  Batman , Gal Gadot as  Wonder Woman , Ezra Miller as  The Flash  and Jason Momoa as  Aquaman . Directed by Zack Snyder, the film is scheduled to release on November 17, 2017. <EOS>'"
          },
          "metadata": {}
        }
      ]
    },
    {
      "cell_type": "code",
      "source": [
        "print(\"Real Headline : \", summary[5][5:-5],\"\\n Predicted Summary : \", summarize(article[5]))"
      ],
      "metadata": {
        "execution": {
          "iopub.status.busy": "2024-09-25T08:30:19.986408Z",
          "iopub.execute_input": "2024-09-25T08:30:19.986715Z",
          "iopub.status.idle": "2024-09-25T08:30:20.961698Z",
          "shell.execute_reply.started": "2024-09-25T08:30:19.986687Z",
          "shell.execute_reply": "2024-09-25T08:30:20.960784Z"
        },
        "trusted": true,
        "id": "aeonGTQhT_6O",
        "outputId": "4c015a3f-8d7b-4f20-af6d-685bed8c13ed"
      },
      "execution_count": null,
      "outputs": [
        {
          "name": "stdout",
          "text": "Real Headline :   New trailer of  Justice League  released  \n Predicted Summary :  new trailer of justice league released\n",
          "output_type": "stream"
        }
      ]
    },
    {
      "cell_type": "code",
      "source": [
        "article[16]"
      ],
      "metadata": {
        "execution": {
          "iopub.status.busy": "2024-09-25T08:30:20.962878Z",
          "iopub.execute_input": "2024-09-25T08:30:20.963197Z",
          "iopub.status.idle": "2024-09-25T08:30:20.968206Z",
          "shell.execute_reply.started": "2024-09-25T08:30:20.963165Z",
          "shell.execute_reply": "2024-09-25T08:30:20.967349Z"
        },
        "trusted": true,
        "id": "0bzj8UHBT_6O",
        "outputId": "be84a5ef-afea-4a04-a368-77585cf64533"
      },
      "execution_count": null,
      "outputs": [
        {
          "execution_count": 49,
          "output_type": "execute_result",
          "data": {
            "text/plain": "'<SOS> As a part of an education initiative, the entire Wankhede Stadium will be reserved for underprivileged children for the IPL 2017 match between Mumbai Indians and Gujarat Lions, to be held on April 16. A statement by the Mumbai Indians read that they will not be selling any stand tickets for the team s third home game, against the Gujarat Lions. <EOS>'"
          },
          "metadata": {}
        }
      ]
    },
    {
      "cell_type": "code",
      "source": [
        "print(\"Real Headline : \", summary[16][5:-5],\"\\nPredicted Summary : \", summarize(article[16]))"
      ],
      "metadata": {
        "execution": {
          "iopub.status.busy": "2024-09-25T08:30:20.96941Z",
          "iopub.execute_input": "2024-09-25T08:30:20.969689Z",
          "iopub.status.idle": "2024-09-25T08:30:22.244092Z",
          "shell.execute_reply.started": "2024-09-25T08:30:20.96966Z",
          "shell.execute_reply": "2024-09-25T08:30:22.243144Z"
        },
        "trusted": true,
        "id": "krgfEkBRT_6O",
        "outputId": "fd1c0658-c87a-4f6d-cbcd-9fe6591886e6"
      },
      "execution_count": null,
      "outputs": [
        {
          "name": "stdout",
          "text": "Real Headline :   Underprivileged kids to fill Wankhede during MI s IPL match  \nPredicted Summary :  underprivileged kids to fill wankhede during mi s ipl match\n",
          "output_type": "stream"
        }
      ]
    },
    {
      "cell_type": "code",
      "source": [
        "article[23]"
      ],
      "metadata": {
        "execution": {
          "iopub.status.busy": "2024-09-25T08:30:22.246708Z",
          "iopub.execute_input": "2024-09-25T08:30:22.247118Z",
          "iopub.status.idle": "2024-09-25T08:30:22.252756Z",
          "shell.execute_reply.started": "2024-09-25T08:30:22.247071Z",
          "shell.execute_reply": "2024-09-25T08:30:22.251753Z"
        },
        "trusted": true,
        "id": "TgCnWn__T_6O",
        "outputId": "f0bc25af-a8b8-4846-95b5-5c95fbca69a4"
      },
      "execution_count": null,
      "outputs": [
        {
          "execution_count": 51,
          "output_type": "execute_result",
          "data": {
            "text/plain": "'<SOS> Uttar Pradesh s Deputy Chief Minister Dinesh Sharma on Saturday said that a transparent system to end cheating in the state board exams will be brought in.  Every department and organisation concerned has been given instructions and I am personally monitoring it,  he added. This comes after class X students were caught mass cheating on camera at a Ballia school. <EOS>'"
          },
          "metadata": {}
        }
      ]
    },
    {
      "cell_type": "code",
      "source": [
        "print(\"Real Headline : \", summary[23][5:-5],\"\\nPredicted Summary : \", summarize(article[23]))"
      ],
      "metadata": {
        "execution": {
          "iopub.status.busy": "2024-09-25T08:30:22.254173Z",
          "iopub.execute_input": "2024-09-25T08:30:22.254427Z",
          "iopub.status.idle": "2024-09-25T08:30:23.632476Z",
          "shell.execute_reply.started": "2024-09-25T08:30:22.254402Z",
          "shell.execute_reply": "2024-09-25T08:30:23.631624Z"
        },
        "trusted": true,
        "id": "y5wTf7j7T_6O",
        "outputId": "782e1e09-d1de-4cb4-edb2-8d6b86fce987"
      },
      "execution_count": null,
      "outputs": [
        {
          "name": "stdout",
          "text": "Real Headline :   UP govt assures transparent system to end cheating in exams  \nPredicted Summary :  delhi police must use 10 day over candidates in exams report\n",
          "output_type": "stream"
        }
      ]
    },
    {
      "cell_type": "code",
      "source": [
        "article_test[9999]"
      ],
      "metadata": {
        "execution": {
          "iopub.status.busy": "2024-09-25T08:30:23.633618Z",
          "iopub.execute_input": "2024-09-25T08:30:23.633884Z",
          "iopub.status.idle": "2024-09-25T08:30:23.639043Z",
          "shell.execute_reply.started": "2024-09-25T08:30:23.633858Z",
          "shell.execute_reply": "2024-09-25T08:30:23.63814Z"
        },
        "trusted": true,
        "id": "dQhqFGcKT_6P",
        "outputId": "fd38a524-8f8a-4188-c71a-9ea8ec82e7d2"
      },
      "execution_count": null,
      "outputs": [
        {
          "execution_count": 53,
          "output_type": "execute_result",
          "data": {
            "text/plain": "'<SOS> Alok Kumar Verma is a 1979 batch IPS officer who was serving as the Delhi Police Commissioner before being appointed as the CBI Director. He had taken over as the Delhi Police chief from BS Bassi, after the latter retired in February 2016. Verma had also served as the police chief in Mizoram and the Tihar jail s Director General. <EOS>'"
          },
          "metadata": {}
        }
      ]
    },
    {
      "cell_type": "code",
      "source": [
        "print(\"Real Headline : \", summary_test[9999][5:-5],\"\\nPredicted Summary : \", summarize(article_test[9999]))"
      ],
      "metadata": {
        "execution": {
          "iopub.status.busy": "2024-09-25T08:30:23.640441Z",
          "iopub.execute_input": "2024-09-25T08:30:23.640801Z",
          "iopub.status.idle": "2024-09-25T08:30:25.037551Z",
          "shell.execute_reply.started": "2024-09-25T08:30:23.640766Z",
          "shell.execute_reply": "2024-09-25T08:30:25.036621Z"
        },
        "trusted": true,
        "id": "o40PHWydT_6P",
        "outputId": "3a027553-f58d-4553-a861-afda9311ab70"
      },
      "execution_count": null,
      "outputs": [
        {
          "name": "stdout",
          "text": "Real Headline :   Who is Alok Kumar Verma, the new CBI Director?  \nPredicted Summary :  ex delhi police chief alok verma takes charge as cbi chief\n",
          "output_type": "stream"
        }
      ]
    },
    {
      "cell_type": "code",
      "source": [
        "article_test[9001]"
      ],
      "metadata": {
        "execution": {
          "iopub.status.busy": "2024-09-25T08:30:25.038799Z",
          "iopub.execute_input": "2024-09-25T08:30:25.039098Z",
          "iopub.status.idle": "2024-09-25T08:30:25.044298Z",
          "shell.execute_reply.started": "2024-09-25T08:30:25.039067Z",
          "shell.execute_reply": "2024-09-25T08:30:25.043366Z"
        },
        "trusted": true,
        "id": "eEyoZiBvT_6P",
        "outputId": "f1f598fd-8a08-40ff-fa9f-471ee77fdb61"
      },
      "execution_count": null,
      "outputs": [
        {
          "execution_count": 55,
          "output_type": "execute_result",
          "data": {
            "text/plain": "'<SOS> US President Donald Trump s administration has barred scientists at the Environmental Protection Agency (EPA) from posting updates on social media and speaking to reporters, reports said. Earlier, the Trump administration temporarily suspended grants to the EPA. Employees of federal agencies like the US Department of Agriculture have also been ordered to halt correspondence with public officials. <EOS>'"
          },
          "metadata": {}
        }
      ]
    },
    {
      "cell_type": "code",
      "source": [
        "print(\"Real Headline : \", summary_test[9001][5:-5],\"\\nPredicted Summary : \", summarize(article_test[9001]))"
      ],
      "metadata": {
        "execution": {
          "iopub.status.busy": "2024-09-25T08:30:25.045504Z",
          "iopub.execute_input": "2024-09-25T08:30:25.045865Z",
          "iopub.status.idle": "2024-09-25T08:30:26.225628Z",
          "shell.execute_reply.started": "2024-09-25T08:30:25.045828Z",
          "shell.execute_reply": "2024-09-25T08:30:26.224609Z"
        },
        "trusted": true,
        "id": "Xj2yTY8_T_6P",
        "outputId": "c2b9ff4d-97be-4751-b3b8-069ff1813333"
      },
      "execution_count": null,
      "outputs": [
        {
          "name": "stdout",
          "text": "Real Headline :   Trump govt bans govt scientists from talking to press  \nPredicted Summary :  us environment agency confirms trump s freeze on grants\n",
          "output_type": "stream"
        }
      ]
    },
    {
      "cell_type": "code",
      "source": [
        "summary_test"
      ],
      "metadata": {
        "execution": {
          "iopub.status.busy": "2024-09-25T08:30:26.227078Z",
          "iopub.execute_input": "2024-09-25T08:30:26.227459Z",
          "iopub.status.idle": "2024-09-25T08:30:26.234678Z",
          "shell.execute_reply.started": "2024-09-25T08:30:26.227417Z",
          "shell.execute_reply": "2024-09-25T08:30:26.233692Z"
        },
        "trusted": true,
        "id": "PyAc3bA4T_6Q",
        "outputId": "a6a5da2e-7e3f-4f80-dc34-edab53c17d79"
      },
      "execution_count": null,
      "outputs": [
        {
          "execution_count": 57,
          "output_type": "execute_result",
          "data": {
            "text/plain": "9000     <SOS> Premature to discuss Dhoni, Yuvraj WC 20...\n9001     <SOS> Trump govt bans govt scientists from tal...\n9002     <SOS>  Israel defies UN resolution, approves 2...\n9003     <SOS> Knights of Malta chief resigns over cond...\n9004     <SOS> Shastri trolled for mistaking Stokes for...\n                               ...                        \n55099    <SOS> Sensex loses 400 points to hit 52-week l...\n55100    <SOS> China to inject $91 bn into the money ma...\n55101    <SOS> Ghulam Ali set to make acting debut in B...\n55102    <SOS> IS acknowledges death of Jihadi John: Re...\n55103    <SOS> Cairn to seek $600 mn from India in dama...\nName: Headline, Length: 46104, dtype: object"
          },
          "metadata": {}
        }
      ]
    },
    {
      "cell_type": "code",
      "source": [],
      "metadata": {
        "id": "6uZgp4foT_6Q"
      },
      "execution_count": null,
      "outputs": []
    }
  ]
}